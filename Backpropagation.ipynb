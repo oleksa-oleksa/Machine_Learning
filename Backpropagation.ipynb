{
 "cells": [
  {
   "cell_type": "markdown",
   "metadata": {
    "id": "y3cWwlbatGdm"
   },
   "source": [
    "# Mustererkennung/Machine Learning - Assignment 8\n",
    "\n"
   ]
  },
  {
   "cell_type": "code",
   "execution_count": 307,
   "metadata": {
    "ExecuteTime": {
     "end_time": "2018-12-11T12:46:51.443420Z",
     "start_time": "2018-12-11T12:46:50.570749Z"
    },
    "id": "luPsF5SptGdt"
   },
   "outputs": [],
   "source": [
    "import numpy as np\n",
    "import pandas as pd\n",
    "from sklearn.model_selection import train_test_split\n",
    "from sklearn.utils import shuffle\n",
    "import matplotlib.pyplot as plt\n",
    "import seaborn as sns\n",
    "%matplotlib inline"
   ]
  },
  {
   "cell_type": "code",
   "execution_count": 308,
   "metadata": {
    "ExecuteTime": {
     "end_time": "2018-12-11T12:46:51.501147Z",
     "start_time": "2018-12-11T12:46:51.445163Z"
    },
    "colab": {
     "base_uri": "https://localhost:8080/",
     "height": 206
    },
    "id": "CpeeFeXKtGdu",
    "outputId": "cf860553-0831-4606-e3ca-81959af4ee2c"
   },
   "outputs": [
    {
     "data": {
      "text/html": [
       "<div>\n",
       "<style scoped>\n",
       "    .dataframe tbody tr th:only-of-type {\n",
       "        vertical-align: middle;\n",
       "    }\n",
       "\n",
       "    .dataframe tbody tr th {\n",
       "        vertical-align: top;\n",
       "    }\n",
       "\n",
       "    .dataframe thead th {\n",
       "        text-align: right;\n",
       "    }\n",
       "</style>\n",
       "<table border=\"1\" class=\"dataframe\">\n",
       "  <thead>\n",
       "    <tr style=\"text-align: right;\">\n",
       "      <th></th>\n",
       "      <th>0</th>\n",
       "      <th>1</th>\n",
       "      <th>2</th>\n",
       "      <th>3</th>\n",
       "      <th>4</th>\n",
       "    </tr>\n",
       "  </thead>\n",
       "  <tbody>\n",
       "    <tr>\n",
       "      <th>0</th>\n",
       "      <td>5.1</td>\n",
       "      <td>3.5</td>\n",
       "      <td>1.4</td>\n",
       "      <td>0.2</td>\n",
       "      <td>Setosa</td>\n",
       "    </tr>\n",
       "    <tr>\n",
       "      <th>1</th>\n",
       "      <td>4.9</td>\n",
       "      <td>3.0</td>\n",
       "      <td>1.4</td>\n",
       "      <td>0.2</td>\n",
       "      <td>Setosa</td>\n",
       "    </tr>\n",
       "    <tr>\n",
       "      <th>2</th>\n",
       "      <td>4.7</td>\n",
       "      <td>3.2</td>\n",
       "      <td>1.3</td>\n",
       "      <td>0.2</td>\n",
       "      <td>Setosa</td>\n",
       "    </tr>\n",
       "    <tr>\n",
       "      <th>3</th>\n",
       "      <td>4.6</td>\n",
       "      <td>3.1</td>\n",
       "      <td>1.5</td>\n",
       "      <td>0.2</td>\n",
       "      <td>Setosa</td>\n",
       "    </tr>\n",
       "    <tr>\n",
       "      <th>4</th>\n",
       "      <td>5.0</td>\n",
       "      <td>3.6</td>\n",
       "      <td>1.4</td>\n",
       "      <td>0.2</td>\n",
       "      <td>Setosa</td>\n",
       "    </tr>\n",
       "  </tbody>\n",
       "</table>\n",
       "</div>"
      ],
      "text/plain": [
       "     0    1    2    3       4\n",
       "0  5.1  3.5  1.4  0.2  Setosa\n",
       "1  4.9  3.0  1.4  0.2  Setosa\n",
       "2  4.7  3.2  1.3  0.2  Setosa\n",
       "3  4.6  3.1  1.5  0.2  Setosa\n",
       "4  5.0  3.6  1.4  0.2  Setosa"
      ]
     },
     "execution_count": 308,
     "metadata": {},
     "output_type": "execute_result"
    }
   ],
   "source": [
    "class Classifier:\n",
    "    \n",
    "    def accuracy(self, labels, predictions):\n",
    "        return np.mean(labels == predictions)\n",
    "\n",
    "\n",
    "data = pd.read_csv(\"../data/iris.csv\", header=None)\n",
    "data.head(n=5)"
   ]
  },
  {
   "cell_type": "markdown",
   "metadata": {
    "id": "8WaByN8YtGdx"
   },
   "source": [
    "#### Splitting the data into training/test and according to their class memberships"
   ]
  },
  {
   "cell_type": "code",
   "execution_count": 309,
   "metadata": {
    "ExecuteTime": {
     "end_time": "2018-12-11T12:46:51.517929Z",
     "start_time": "2018-12-11T12:46:51.502925Z"
    },
    "id": "E2-w2GzqtGdy"
   },
   "outputs": [],
   "source": [
    "X_train, X_test, y_train, y_test = train_test_split(data[list(range(4))], data[4], test_size=0.33, random_state=42, stratify=None)\n",
    "\n",
    "X_train_setosa = X_train[y_train=='Setosa'].to_numpy()\n",
    "X_train_versicolor = X_train[y_train=='Versicolor'].to_numpy()\n",
    "X_train_virginica = X_train[y_train=='Virginica'].to_numpy()\n",
    "\n",
    "X_test_setosa_v_v = X_test.to_numpy()\n",
    "y_test_setosa_v_v = (y_test == 'Setosa').astype(int).to_numpy()\n",
    "\n",
    "X_test_versicolor_virginica = X_test[y_test!='Setosa'].to_numpy()\n",
    "y_test_versicolor_virginica = (y_test[y_test!='Setosa'] == 'Versicolor').astype(int).to_numpy()"
   ]
  },
  {
   "cell_type": "code",
   "execution_count": 310,
   "metadata": {},
   "outputs": [
    {
     "name": "stdout",
     "output_type": "stream",
     "text": [
      "       0    1    2    3\n",
      "96   5.7  2.9  4.2  1.3\n",
      "105  7.6  3.0  6.6  2.1\n",
      "66   5.6  3.0  4.5  1.5\n",
      "0    5.1  3.5  1.4  0.2\n",
      "122  7.7  2.8  6.7  2.0\n",
      "..   ...  ...  ...  ...\n",
      "71   6.1  2.8  4.0  1.3\n",
      "106  4.9  2.5  4.5  1.7\n",
      "14   5.8  4.0  1.2  0.2\n",
      "92   5.8  2.6  4.0  1.2\n",
      "102  7.1  3.0  5.9  2.1\n",
      "\n",
      "[100 rows x 4 columns]\n"
     ]
    }
   ],
   "source": [
    "print(X_train)"
   ]
  },
  {
   "cell_type": "markdown",
   "metadata": {},
   "source": [
    "## Data Visualisation"
   ]
  },
  {
   "cell_type": "code",
   "execution_count": 311,
   "metadata": {},
   "outputs": [
    {
     "name": "stdout",
     "output_type": "stream",
     "text": [
      "y_sep_vers: [0 0 0 0 0 0 0 0 0 0 0 0 0 0 0 0 0 0 0 0 0 0 0 0 0 0 0 0 0 0 0 0 0 0 0 0 0\n",
      " 0 0 0 0 0 0 0 0 0 0 0 0 0 1 1 1 1 1 1 1 1 1 1 1 1 1 1 1 1 1 1 1 1 1 1 1 1\n",
      " 1 1 1 1 1 1 1 1 1 1 1 1 1 1 1 1 1 1 1 1 1 1 1 1 1 1]\n",
      "y_vers_virg: [1 1 1 1 1 1 1 1 1 1 1 1 1 1 1 1 1 1 1 1 1 1 1 1 1 1 1 1 1 1 1 1 1 1 1 1 1\n",
      " 1 1 1 1 1 1 1 1 1 1 1 1 1 0 0 0 0 0 0 0 0 0 0 0 0 0 0 0 0 0 0 0 0 0 0 0 0\n",
      " 0 0 0 0 0 0 0 0 0 0 0 0 0 0 0 0 0 0 0 0 0 0 0 0 0 0]\n"
     ]
    }
   ],
   "source": [
    "import ssl\n",
    "ssl._create_default_https_context = ssl._create_unverified_context\n",
    "\n",
    "df = pd.read_csv('https://archive.ics.uci.edu/ml/machine-learning-databases/iris/iris.data', header=None)\n",
    "# Next, we extract the first 100 class labels that correspond to the 50 Iris-Setosa \n",
    "# and 50 Iris-Versicolor flowers, respectively:\n",
    "y_sep_vers = df.iloc[0:100, 4].values\n",
    "\n",
    "# The we want to convert the class labels into the two integer class labels 1 (Versicolor) and 0 (Setosa) \n",
    "# that we assign to a vector y\n",
    "y_sep_vers = np.where(y_sep_vers == 'Iris-versicolor', 1, 0)\n",
    "print(\"y_sep_vers:\", y_sep_vers)\n",
    "\n",
    "# Also, we need to extract the first feature column (sepal length) and the third feature column (petal length) \n",
    "# of those 100 training samples and assign them to a feature matrix X:\n",
    "X_sep_vers = df.iloc[0:100, [0, 2]].values\n",
    "\n",
    "#===========\n",
    "y_vers_virg = df.iloc[50:150, 4].values\n",
    "\n",
    "# The we want to convert the class labels into the two integer class labels 1 (Versicolor) and 0 (Iris-virginica) \n",
    "# that we assign to a vector y\n",
    "y_vers_virg = np.where(y_vers_virg == 'Iris-versicolor', 1, 0)\n",
    "print(\"y_vers_virg:\", y_vers_virg)\n",
    "\n",
    "# Also, we need to extract the first feature column (sepal length) and the third feature column (petal length) \n",
    "# of those 100 training samples and assign them to a feature matrix X:\n",
    "X_vers_virg = df.iloc[50:150, [0, 2]].values\n",
    "\n"
   ]
  },
  {
   "cell_type": "code",
   "execution_count": 312,
   "metadata": {},
   "outputs": [
    {
     "data": {
      "image/png": "[encoded data removed]",
      "text/plain": [
       "<Figure size 432x288 with 1 Axes>"
      ]
     },
     "metadata": {
      "needs_background": "light"
     },
     "output_type": "display_data"
    }
   ],
   "source": [
    "plt.scatter(X_sep_vers[:50, 0], X_sep_vers[:50, 1], color='red', marker='o', label='setosa')\n",
    "plt.scatter(X_sep_vers[50:100, 0], X_sep_vers[50:100, 1], color='blue', marker='x', label='versicolor')\n",
    "plt.xlabel('petal length')\n",
    "plt.ylabel('sepal length')\n",
    "plt.legend(loc='upper left')\n",
    "plt.show()"
   ]
  },
  {
   "cell_type": "code",
   "execution_count": 313,
   "metadata": {},
   "outputs": [
    {
     "data": {
      "image/png": "[encoded data removed]",
      "text/plain": [
       "<Figure size 432x288 with 1 Axes>"
      ]
     },
     "metadata": {
      "needs_background": "light"
     },
     "output_type": "display_data"
    }
   ],
   "source": [
    "plt.scatter(X_vers_virg[:50, 0], X_vers_virg[:50, 1], color='red', marker='o', label='versicolor')\n",
    "plt.scatter(X_vers_virg[50:100, 0], X_vers_virg[50:100, 1], color='blue', marker='x', label='virginica')\n",
    "plt.xlabel('petal length')\n",
    "plt.ylabel('sepal length')\n",
    "plt.legend(loc='upper left')\n",
    "plt.show()"
   ]
  },
  {
   "cell_type": "code",
   "execution_count": 314,
   "metadata": {},
   "outputs": [],
   "source": [
    "path_to_train = '../data/zip.train'\n",
    "path_to_test = '../data/zip.test'\n",
    "training_data = np.array(pd.read_csv(path_to_train, sep=' ', header=None))\n",
    "test_data = np.array(pd.read_csv(path_to_test, sep =' ',header=None))\n",
    "\n",
    "X_train, y_train = training_data[:,1:-1], training_data[:,0]\n",
    "X_test, y_test = test_data[:,1:], test_data[:,0]"
   ]
  },
  {
   "cell_type": "code",
   "execution_count": 319,
   "metadata": {
    "scrolled": true
   },
   "outputs": [
    {
     "name": "stdout",
     "output_type": "stream",
     "text": [
      "[0 1 0 0 0 1 0 0 0 0 0 1 1 1 1 0 0 0 0 0 1 0 1 0 0 0 0 0 1 1 1 1 0 1 1 0 0\n",
      " 1 1 1 0 0 0 1 1 0 0 0 0 0]\n",
      "1.0\n"
     ]
    }
   ],
   "source": [
    "\n",
    "class SimplePerceptron(Classifier):\n",
    "    \n",
    "    def fit(self, X, y, epsilon=0.001, iterations=1000):            \n",
    "        w_prime = np.average(X, axis=0)\n",
    "        self.data_mean = w_prime\n",
    "        \n",
    "        iteration = 0\n",
    "        while True:\n",
    "            iteration = iteration + 1\n",
    "            w = w_prime\n",
    "            \n",
    "            rv = np.random.randint(len(X))\n",
    "            v = X[rv]\n",
    "\n",
    "            if iteration > iterations:\n",
    "                break\n",
    "            \n",
    "            proj = w.T @ v\n",
    "            if y[rv] == 1 and proj <= 0:\n",
    "                w_prime = w + v\n",
    "            elif y[rv] == 0 and proj >= 0:\n",
    "                w_prime = w - v\n",
    "            else:\n",
    "                continue\n",
    "                    \n",
    "            dist = np.linalg.norm(w_prime-w)            \n",
    "            \n",
    "            if dist < epsilon: \n",
    "                break\n",
    "                \n",
    "        self.w = w_prime\n",
    "        \n",
    "    def predict(self, X):\n",
    "        k = (X@self.w)\n",
    "        y = np.where(k>0, 1, 0)\n",
    "        return y\n",
    "    \n",
    "Xs = np.concatenate([X_train_setosa, \n",
    "                     X_train_versicolor,\n",
    "                     X_train_virginica])\n",
    "\n",
    "ys = np.concatenate([np.ones(len(X_train_setosa)),\n",
    "                     np.zeros(len(X_train_versicolor)),\n",
    "                     np.zeros(len(X_train_virginica))])\n",
    "\n",
    "p = SimplePerceptron()\n",
    "p.fit(Xs, ys)\n",
    "print(p.predict(X_test_setosa_v_v))\n",
    "print(p.accuracy(p.predict(X_test_setosa_v_v), y_test_setosa_v_v))\n"
   ]
  },
  {
   "attachments": {},
   "cell_type": "markdown",
   "metadata": {},
   "source": [
    "## Excercise 2. Multilayer-Perceptron (MLP)\n",
    "Implement a class that builds an MLP with both variable depth D (number of layers) andvariable number of neurons ni for each layer i= 1, ..., D.  \n",
    "Produce outputs on the ZIP-Dataset"
   ]
  },
  {
   "cell_type": "code",
   "execution_count": 320,
   "metadata": {},
   "outputs": [
    {
     "name": "stdout",
     "output_type": "stream",
     "text": [
      "[0.88105497 0.8952706  0.95045827]\n"
     ]
    }
   ],
   "source": [
    "def sigmoid(x):\n",
    "    return 1/(1 + np.exp(-x))\n",
    "    \n",
    "class MultilayerPerceptron(Classifier):\n",
    "\n",
    "    def _dummy_array(self, rows, cols):\n",
    "        return np.random.rand(rows, cols)\n",
    "    \n",
    "    def __init__(self, depth=10, layer_size=5):\n",
    "        self.depth = depth\n",
    "        self.layer_size = layer_size\n",
    "        self.layers = [self._dummy_array(layer_size, layer_size+1) for _ in range(depth)]\n",
    "    \n",
    "    def fit(self, X, y, learn_rate=0.1):\n",
    "        num_features = X.shape[1]\n",
    "        num_outs = y.shape[1]\n",
    "        \n",
    "        self.input_w = self._dummy_array(self.layer_size, num_features+1)\n",
    "        self.output_w = self._dummy_array(num_outs, self.layer_size+1)\n",
    "\n",
    "    def predict(self, X):\n",
    "        X_with_bias = np.r_[X, [1]]\n",
    "        layer_signal = sigmoid(np.dot(self.input_w, X_with_bias))\n",
    "        layer_signal = np.r_[layer_signal, [1]]\n",
    "\n",
    "        for idx, l in enumerate(self.layers):\n",
    "            layer_signal = np.tensordot(l, layer_signal, 1)\n",
    "            layer_signal = sigmoid(layer_signal)\n",
    "            layer_signal = np.r_[layer_signal, [1]]\n",
    "            \n",
    "        output = sigmoid(np.dot(self.output_w, layer_signal))\n",
    "                    \n",
    "        return output\n",
    "    \n",
    "\n",
    "Xs = np.concatenate([X_train_setosa, \n",
    "                     X_train_versicolor,\n",
    "                     X_train_virginica])\n",
    "\n",
    "ys = np.concatenate([np.array([[1, 0, 0]]).repeat(len(X_train_setosa), axis=0),\n",
    "                     np.array([[0, 1, 0]]).repeat(len(X_train_versicolor), axis=0),\n",
    "                     np.array([[0, 0, 1]]).repeat(len(X_train_virginica), axis=0),])\n",
    "    \n",
    "mlp = MultilayerPerceptron(depth=5, layer_size=3)\n",
    "mlp.fit(Xs, ys)\n",
    "\n",
    "pred = mlp.predict(X_test_versicolor_virginica[0])\n",
    "\n",
    "print(pred)"
   ]
  },
  {
   "cell_type": "code",
   "execution_count": null,
   "metadata": {},
   "outputs": [],
   "source": []
  }
 ],
 "metadata": {
  "colab": {
   "name": "Perceptron.ipynb",
   "provenance": [],
   "toc_visible": true
  },
  "kernelspec": {
   "display_name": "Python 3",
   "language": "python",
   "name": "python3"
  },
  "language_info": {
   "codemirror_mode": {
    "name": "ipython",
    "version": 3
   },
   "file_extension": ".py",
   "mimetype": "text/x-python",
   "name": "python",
   "nbconvert_exporter": "python",
   "pygments_lexer": "ipython3",
   "version": "3.7.0"
  }
 },
 "nbformat": 4,
 "nbformat_minor": 1
}
