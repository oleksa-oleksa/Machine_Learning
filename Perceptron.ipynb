{
 "cells": [
  {
   "cell_type": "markdown",
   "metadata": {
    "id": "y3cWwlbatGdm"
   },
   "source": [
    "# Mustererkennung/Machine Learning - Assignment 8\n",
    "\n"
   ]
  },
  {
   "cell_type": "code",
   "execution_count": 13,
   "metadata": {
    "ExecuteTime": {
     "end_time": "2018-12-11T12:46:51.443420Z",
     "start_time": "2018-12-11T12:46:50.570749Z"
    },
    "id": "luPsF5SptGdt"
   },
   "outputs": [],
   "source": [
    "import numpy as np\n",
    "import pandas as pd\n",
    "from sklearn.model_selection import train_test_split\n",
    "from sklearn.utils import shuffle\n",
    "import matplotlib.pyplot as plt\n",
    "import seaborn as sns\n",
    "%matplotlib inline"
   ]
  },
  {
   "cell_type": "code",
   "execution_count": 76,
   "metadata": {
    "ExecuteTime": {
     "end_time": "2018-12-11T12:46:51.501147Z",
     "start_time": "2018-12-11T12:46:51.445163Z"
    },
    "colab": {
     "base_uri": "https://localhost:8080/",
     "height": 206
    },
    "id": "CpeeFeXKtGdu",
    "outputId": "cf860553-0831-4606-e3ca-81959af4ee2c"
   },
   "outputs": [
    {
     "data": {
      "text/html": [
       "<div>\n",
       "<style scoped>\n",
       "    .dataframe tbody tr th:only-of-type {\n",
       "        vertical-align: middle;\n",
       "    }\n",
       "\n",
       "    .dataframe tbody tr th {\n",
       "        vertical-align: top;\n",
       "    }\n",
       "\n",
       "    .dataframe thead th {\n",
       "        text-align: right;\n",
       "    }\n",
       "</style>\n",
       "<table border=\"1\" class=\"dataframe\">\n",
       "  <thead>\n",
       "    <tr style=\"text-align: right;\">\n",
       "      <th></th>\n",
       "      <th>0</th>\n",
       "      <th>1</th>\n",
       "      <th>2</th>\n",
       "      <th>3</th>\n",
       "      <th>4</th>\n",
       "    </tr>\n",
       "  </thead>\n",
       "  <tbody>\n",
       "    <tr>\n",
       "      <th>0</th>\n",
       "      <td>5.1</td>\n",
       "      <td>3.5</td>\n",
       "      <td>1.4</td>\n",
       "      <td>0.2</td>\n",
       "      <td>Setosa</td>\n",
       "    </tr>\n",
       "    <tr>\n",
       "      <th>1</th>\n",
       "      <td>4.9</td>\n",
       "      <td>3.0</td>\n",
       "      <td>1.4</td>\n",
       "      <td>0.2</td>\n",
       "      <td>Setosa</td>\n",
       "    </tr>\n",
       "    <tr>\n",
       "      <th>2</th>\n",
       "      <td>4.7</td>\n",
       "      <td>3.2</td>\n",
       "      <td>1.3</td>\n",
       "      <td>0.2</td>\n",
       "      <td>Setosa</td>\n",
       "    </tr>\n",
       "    <tr>\n",
       "      <th>3</th>\n",
       "      <td>4.6</td>\n",
       "      <td>3.1</td>\n",
       "      <td>1.5</td>\n",
       "      <td>0.2</td>\n",
       "      <td>Setosa</td>\n",
       "    </tr>\n",
       "    <tr>\n",
       "      <th>4</th>\n",
       "      <td>5.0</td>\n",
       "      <td>3.6</td>\n",
       "      <td>1.4</td>\n",
       "      <td>0.2</td>\n",
       "      <td>Setosa</td>\n",
       "    </tr>\n",
       "  </tbody>\n",
       "</table>\n",
       "</div>"
      ],
      "text/plain": [
       "     0    1    2    3       4\n",
       "0  5.1  3.5  1.4  0.2  Setosa\n",
       "1  4.9  3.0  1.4  0.2  Setosa\n",
       "2  4.7  3.2  1.3  0.2  Setosa\n",
       "3  4.6  3.1  1.5  0.2  Setosa\n",
       "4  5.0  3.6  1.4  0.2  Setosa"
      ]
     },
     "execution_count": 76,
     "metadata": {},
     "output_type": "execute_result"
    }
   ],
   "source": [
    "class Classifier:\n",
    "    \n",
    "    def accuracy(self, labels, predictions):\n",
    "        return np.mean(labels == predictions)\n",
    "\n",
    "\n",
    "data = pd.read_csv(\"../data/iris.csv\", header=None)\n",
    "data.head(n=5)"
   ]
  },
  {
   "cell_type": "markdown",
   "metadata": {
    "id": "8WaByN8YtGdx"
   },
   "source": [
    "#### Splitting the data into training/test and according to their class memberships"
   ]
  },
  {
   "cell_type": "code",
   "execution_count": 77,
   "metadata": {
    "ExecuteTime": {
     "end_time": "2018-12-11T12:46:51.517929Z",
     "start_time": "2018-12-11T12:46:51.502925Z"
    },
    "id": "E2-w2GzqtGdy"
   },
   "outputs": [],
   "source": [
    "X_train, X_test, y_train, y_test = train_test_split(data[list(range(4))], data[4], test_size=0.33, random_state=42, stratify=None)\n",
    "\n",
    "X_train_setosa = X_train[y_train=='Setosa'].to_numpy()\n",
    "X_train_versicolor = X_train[y_train=='Versicolor'].to_numpy()\n",
    "X_train_virginica = X_train[y_train=='Virginica'].to_numpy()\n",
    "\n",
    "X_test_setosa_v_v = X_test.to_numpy()\n",
    "y_test_setosa_v_v = (y_test == 'Setosa').astype(int).to_numpy()\n",
    "\n",
    "X_test_versicolor_virginica = X_test[y_test!='Setosa'].to_numpy()\n",
    "y_test_versicolor_virginica = (y_test[y_test!='Setosa'] == 'Versicolor').astype(int).to_numpy()"
   ]
  },
  {
   "cell_type": "code",
   "execution_count": 78,
   "metadata": {},
   "outputs": [
    {
     "name": "stdout",
     "output_type": "stream",
     "text": [
      "       0    1    2    3\n",
      "96   5.7  2.9  4.2  1.3\n",
      "105  7.6  3.0  6.6  2.1\n",
      "66   5.6  3.0  4.5  1.5\n",
      "0    5.1  3.5  1.4  0.2\n",
      "122  7.7  2.8  6.7  2.0\n",
      "..   ...  ...  ...  ...\n",
      "71   6.1  2.8  4.0  1.3\n",
      "106  4.9  2.5  4.5  1.7\n",
      "14   5.8  4.0  1.2  0.2\n",
      "92   5.8  2.6  4.0  1.2\n",
      "102  7.1  3.0  5.9  2.1\n",
      "\n",
      "[100 rows x 4 columns]\n"
     ]
    }
   ],
   "source": [
    "print(X_train)"
   ]
  },
  {
   "cell_type": "code",
   "execution_count": 242,
   "metadata": {},
   "outputs": [],
   "source": [
    "# using mathematical explanation https://www.youtube.com/watch?v=4Gac5I64LM4\n",
    "import random\n",
    "\n",
    "class Perceptron():\n",
    "\n",
    "    def __init__(self):\n",
    "        self.weights = []  # w = [1, w1, w2, w3...]\n",
    "        self.errors = []  # Number of misclassifications\n",
    "\n",
    "        \n",
    "    def fit(self, X, y, learning_rate = 0.2, num_iteration = 100):\n",
    "        \n",
    "        # initialise w_i = 1/N for all i from [1..N]\n",
    "        self.weights = np.zeros(X.shape[1])\n",
    "        #self.weights[0] = 1\n",
    "        \n",
    "        # Launch the training algorithm\n",
    "        for i in range(num_iteration):\n",
    "            err = 0\n",
    "            for xi, target in zip(X, y):\n",
    "                delta_w = learning_rate * (target - self.predict(xi))\n",
    "                self.weights = np.add(self.weights, (delta_w * xi))\n",
    "                self.weights[0] = self.weights[0] +  delta_w\n",
    "                err += int(delta_w != 0.0)\n",
    "            self.errors.append(err)\n",
    "        return self\n",
    "    \n",
    " \n",
    "    def predict(self, X):\n",
    "        \"\"\"Return class label after unit step\"\"\"\n",
    "        label = np.dot(X, self.weights)\n",
    "        return np.where(label >= 0.0, 1, 0)\n",
    "    \n",
    "    def predict_swp(self, X):\n",
    "        # The activation start with the bias at weights == 0\n",
    "        activation = self.weights[0]\n",
    "\n",
    "        # We iterate over the weights and the features in the given row\n",
    "        for weight, feature in zip(self.weights[1:], X):\n",
    "            \n",
    "            activation = activation + (float(weight) * float(feature))\n",
    "\n",
    "        # Heaviside Step Function Activation\n",
    "        if activation >= 0.0:\n",
    "            return 1.0\n",
    "        return 0.0\n",
    "    "
   ]
  },
  {
   "cell_type": "code",
   "execution_count": 243,
   "metadata": {},
   "outputs": [
    {
     "name": "stdout",
     "output_type": "stream",
     "text": [
      "y_sep_vers: [0 0 0 0 0 0 0 0 0 0 0 0 0 0 0 0 0 0 0 0 0 0 0 0 0 0 0 0 0 0 0 0 0 0 0 0 0\n",
      " 0 0 0 0 0 0 0 0 0 0 0 0 0 1 1 1 1 1 1 1 1 1 1 1 1 1 1 1 1 1 1 1 1 1 1 1 1\n",
      " 1 1 1 1 1 1 1 1 1 1 1 1 1 1 1 1 1 1 1 1 1 1 1 1 1 1]\n",
      "y_vers_virg: [1 1 1 1 1 1 1 1 1 1 1 1 1 1 1 1 1 1 1 1 1 1 1 1 1 1 1 1 1 1 1 1 1 1 1 1 1\n",
      " 1 1 1 1 1 1 1 1 1 1 1 1 1 0 0 0 0 0 0 0 0 0 0 0 0 0 0 0 0 0 0 0 0 0 0 0 0\n",
      " 0 0 0 0 0 0 0 0 0 0 0 0 0 0 0 0 0 0 0 0 0 0 0 0 0 0]\n"
     ]
    }
   ],
   "source": [
    "import ssl\n",
    "ssl._create_default_https_context = ssl._create_unverified_context\n",
    "\n",
    "df = pd.read_csv('https://archive.ics.uci.edu/ml/machine-learning-databases/iris/iris.data', header=None)\n",
    "# Next, we extract the first 100 class labels that correspond to the 50 Iris-Setosa \n",
    "# and 50 Iris-Versicolor flowers, respectively:\n",
    "y_sep_vers = df.iloc[0:100, 4].values\n",
    "\n",
    "# The we want to convert the class labels into the two integer class labels 1 (Versicolor) and 0 (Setosa) \n",
    "# that we assign to a vector y\n",
    "y_sep_vers = np.where(y_sep_vers == 'Iris-versicolor', 1, 0)\n",
    "print(\"y_sep_vers:\", y_sep_vers)\n",
    "\n",
    "# Also, we need to extract the first feature column (sepal length) and the third feature column (petal length) \n",
    "# of those 100 training samples and assign them to a feature matrix X:\n",
    "X_sep_vers = df.iloc[0:100, [0, 2]].values\n",
    "\n",
    "#===========\n",
    "y_vers_virg = df.iloc[50:150, 4].values\n",
    "\n",
    "# The we want to convert the class labels into the two integer class labels 1 (Versicolor) and 0 (Iris-virginica) \n",
    "# that we assign to a vector y\n",
    "y_vers_virg = np.where(y_vers_virg == 'Iris-versicolor', 1, 0)\n",
    "print(\"y_vers_virg:\", y_vers_virg)\n",
    "\n",
    "# Also, we need to extract the first feature column (sepal length) and the third feature column (petal length) \n",
    "# of those 100 training samples and assign them to a feature matrix X:\n",
    "X_vers_virg = df.iloc[50:150, [0, 2]].values\n",
    "\n"
   ]
  },
  {
   "cell_type": "code",
   "execution_count": 244,
   "metadata": {},
   "outputs": [
    {
     "data": {
      "image/png": "[encoded data removed]",
      "text/plain": [
       "<Figure size 432x288 with 1 Axes>"
      ]
     },
     "metadata": {
      "needs_background": "light"
     },
     "output_type": "display_data"
    }
   ],
   "source": [
    "plt.scatter(X_sep_vers[:50, 0], X_sep_vers[:50, 1], color='red', marker='o', label='setosa')\n",
    "plt.scatter(X_sep_vers[50:100, 0], X_sep_vers[50:100, 1], color='blue', marker='x', label='versicolor')\n",
    "plt.xlabel('petal length')\n",
    "plt.ylabel('sepal length')\n",
    "plt.legend(loc='upper left')\n",
    "plt.show()"
   ]
  },
  {
   "cell_type": "code",
   "execution_count": 245,
   "metadata": {},
   "outputs": [
    {
     "data": {
      "image/png": "[encoded data removed]",
      "text/plain": [
       "<Figure size 432x288 with 1 Axes>"
      ]
     },
     "metadata": {
      "needs_background": "light"
     },
     "output_type": "display_data"
    }
   ],
   "source": [
    "plt.scatter(X_vers_virg[:50, 0], X_vers_virg[:50, 1], color='red', marker='o', label='versicolor')\n",
    "plt.scatter(X_vers_virg[50:100, 0], X_vers_virg[50:100, 1], color='blue', marker='x', label='virginica')\n",
    "plt.xlabel('petal length')\n",
    "plt.ylabel('sepal length')\n",
    "plt.legend(loc='upper left')\n",
    "plt.show()"
   ]
  },
  {
   "cell_type": "code",
   "execution_count": 246,
   "metadata": {},
   "outputs": [
    {
     "data": {
      "image/png": "[encoded data removed]",
      "text/plain": [
       "<Figure size 432x288 with 1 Axes>"
      ]
     },
     "metadata": {
      "needs_background": "light"
     },
     "output_type": "display_data"
    }
   ],
   "source": [
    "model = Perceptron()\n",
    "model.fit(X_sep_vers, y_sep_vers, learning_rate = 0.1, num_iteration = 10)\n",
    "\n",
    "plt.plot(range(1, len(model.errors) + 1), model.errors, marker='o')\n",
    "plt.xlabel('Iteration')\n",
    "plt.ylabel('Number of misclassifications')\n",
    "plt.show()"
   ]
  },
  {
   "cell_type": "code",
   "execution_count": 247,
   "metadata": {},
   "outputs": [
    {
     "data": {
      "image/png": "[encoded data removed]",
      "text/plain": [
       "<Figure size 432x288 with 1 Axes>"
      ]
     },
     "metadata": {
      "needs_background": "light"
     },
     "output_type": "display_data"
    }
   ],
   "source": [
    "model.fit(X_vers_virg, y_vers_virg, learning_rate = 0.1, num_iteration = 20)\n",
    "\n",
    "plt.plot(range(1, len(model.errors) + 1), model.errors, marker='o')\n",
    "plt.xlabel('Iteration')\n",
    "plt.ylabel('Number of misclassifications')\n",
    "plt.show()"
   ]
  },
  {
   "cell_type": "code",
   "execution_count": null,
   "metadata": {},
   "outputs": [],
   "source": []
  },
  {
   "cell_type": "code",
   "execution_count": null,
   "metadata": {},
   "outputs": [],
   "source": []
  }
 ],
 "metadata": {
  "colab": {
   "name": "Perceptron.ipynb",
   "provenance": [],
   "toc_visible": true
  },
  "kernelspec": {
   "display_name": "Python 3",
   "language": "python",
   "name": "python3"
  },
  "language_info": {
   "codemirror_mode": {
    "name": "ipython",
    "version": 3
   },
   "file_extension": ".py",
   "mimetype": "text/x-python",
   "name": "python",
   "nbconvert_exporter": "python",
   "pygments_lexer": "ipython3",
   "version": "3.7.0"
  }
 },
 "nbformat": 4,
 "nbformat_minor": 1
}
