{
 "cells": [
  {
   "cell_type": "code",
   "execution_count": 64,
   "metadata": {
    "executionInfo": {
     "elapsed": 577,
     "status": "ok",
     "timestamp": 1611512887149,
     "user": {
      "displayName": "Oleksandra Baga",
      "photoUrl": "https://lh3.googleusercontent.com/a-/AOh14GijW8FteLiMLVmrW7PBlaeCFR1_Nwz47XEAMuVc=s64",
      "userId": "05066626167209152172"
     },
     "user_tz": -60
    },
    "id": "DEqtbzF5oyzG"
   },
   "outputs": [],
   "source": [
    "import torch\n",
    "import os\n",
    "import time\n",
    "import sys\n",
    "import numpy as np\n",
    "import pandas as pd\n",
    "from sklearn.model_selection import train_test_split\n",
    "from sklearn.utils import shuffle\n",
    "import matplotlib.pyplot as plt\n",
    "import seaborn as sns\n",
    "%matplotlib inline\n",
    "from torch.autograd import grad\n",
    "from torch.nn import Parameter\n",
    "cuda = torch.cuda.is_available()\n",
    "from google.colab import drive\n",
    "import pickle as pk\n",
    "from torchsummary import summary"
   ]
  },
  {
   "cell_type": "code",
   "execution_count": 3,
   "metadata": {
    "colab": {
     "base_uri": "https://localhost:8080/"
    },
    "executionInfo": {
     "elapsed": 74033,
     "status": "ok",
     "timestamp": 1611509257912,
     "user": {
      "displayName": "Oleksandra Baga",
      "photoUrl": "https://lh3.googleusercontent.com/a-/AOh14GijW8FteLiMLVmrW7PBlaeCFR1_Nwz47XEAMuVc=s64",
      "userId": "05066626167209152172"
     },
     "user_tz": -60
    },
    "id": "iw4BjzPvZoNq",
    "outputId": "a8048417-f232-4272-b35c-1e5d2ae22c76"
   },
   "outputs": [
    {
     "name": "stdout",
     "output_type": "stream",
     "text": [
      "Mounted at /content/drive\n"
     ]
    }
   ],
   "source": [
    "root_path = '/content/drive'\n",
    "drive.mount(root_path)"
   ]
  },
  {
   "cell_type": "code",
   "execution_count": 5,
   "metadata": {
    "colab": {
     "base_uri": "https://localhost:8080/"
    },
    "executionInfo": {
     "elapsed": 587,
     "status": "ok",
     "timestamp": 1611509260407,
     "user": {
      "displayName": "Oleksandra Baga",
      "photoUrl": "https://lh3.googleusercontent.com/a-/AOh14GijW8FteLiMLVmrW7PBlaeCFR1_Nwz47XEAMuVc=s64",
      "userId": "05066626167209152172"
     },
     "user_tz": -60
    },
    "id": "XkiQ1pRAH5mX",
    "outputId": "d33059c4-2438-4d4b-86c8-0f4683cc1ee5"
   },
   "outputs": [
    {
     "data": {
      "text/plain": [
       "array([[ True,  True],\n",
       "       [ True,  True]])"
      ]
     },
     "execution_count": 5,
     "metadata": {
      "tags": []
     },
     "output_type": "execute_result"
    }
   ],
   "source": [
    "a = np.array([[1, 2],[3, 4]], dtype=float)\n",
    "b = torch.FloatTensor([[1, 2],[3, 4]])\n",
    "c = torch.from_numpy(a)\n",
    "a == b.numpy()\n"
   ]
  },
  {
   "cell_type": "code",
   "execution_count": 6,
   "metadata": {
    "colab": {
     "base_uri": "https://localhost:8080/"
    },
    "executionInfo": {
     "elapsed": 653,
     "status": "ok",
     "timestamp": 1611509262060,
     "user": {
      "displayName": "Oleksandra Baga",
      "photoUrl": "https://lh3.googleusercontent.com/a-/AOh14GijW8FteLiMLVmrW7PBlaeCFR1_Nwz47XEAMuVc=s64",
      "userId": "05066626167209152172"
     },
     "user_tz": -60
    },
    "id": "TXvHNLmyQV0p",
    "outputId": "225c4d64-2a08-4713-f6c9-c22dd07e3373"
   },
   "outputs": [
    {
     "data": {
      "text/plain": [
       "tensor([[ 3.,  6.],\n",
       "        [21., 28.]])"
      ]
     },
     "execution_count": 6,
     "metadata": {
      "tags": []
     },
     "output_type": "execute_result"
    }
   ],
   "source": [
    "d = torch.ones([2,3,4])\n",
    "#print(d)\n",
    "e = d.reshape([-1, 2])\n",
    "#print(e)\n",
    "#print(e.shape)\n",
    "\n",
    "torch.einsum('i, i ->', b.reshape(-1), b.reshape(-1))\n",
    "\n",
    "torch.einsum('ij, ik -> ik', b, b)"
   ]
  },
  {
   "cell_type": "code",
   "execution_count": 7,
   "metadata": {
    "colab": {
     "base_uri": "https://localhost:8080/"
    },
    "executionInfo": {
     "elapsed": 524,
     "status": "ok",
     "timestamp": 1611509263578,
     "user": {
      "displayName": "Oleksandra Baga",
      "photoUrl": "https://lh3.googleusercontent.com/a-/AOh14GijW8FteLiMLVmrW7PBlaeCFR1_Nwz47XEAMuVc=s64",
      "userId": "05066626167209152172"
     },
     "user_tz": -60
    },
    "id": "1MPmj-RDYPGZ",
    "outputId": "0b0aeb01-ac0b-4edb-aca2-c203a94c0849"
   },
   "outputs": [
    {
     "data": {
      "text/plain": [
       "(tensor([2., 0., 0.]),)"
      ]
     },
     "execution_count": 7,
     "metadata": {
      "tags": []
     },
     "output_type": "execute_result"
    }
   ],
   "source": [
    "yhat = torch.Tensor([1, 2, 3])\n",
    "#yhat.requires_grad = True\n",
    "# stores instanse with grad = true\n",
    "yhat = Parameter(yhat)\n",
    "t = torch.Tensor([0, 2, 3])\n",
    "\n",
    "def mse(y, t):\n",
    "  return torch.dot((y-t), (y-t))\n",
    "\n",
    "def manual_grad(y, t):\n",
    "  return 2*(y-t)\n",
    "\n",
    "z = mse(yhat, t)\n",
    "grad(z, yhat)\n"
   ]
  },
  {
   "cell_type": "code",
   "execution_count": 8,
   "metadata": {
    "executionInfo": {
     "elapsed": 533,
     "status": "ok",
     "timestamp": 1611509265955,
     "user": {
      "displayName": "Oleksandra Baga",
      "photoUrl": "https://lh3.googleusercontent.com/a-/AOh14GijW8FteLiMLVmrW7PBlaeCFR1_Nwz47XEAMuVc=s64",
      "userId": "05066626167209152172"
     },
     "user_tz": -60
    },
    "id": "w5P2cThNfr0L"
   },
   "outputs": [],
   "source": [
    "# NN Architecture\n",
    "## all lyers that we want to use are in package nn and we can use as many layers as we want\n",
    "import torch.nn.functional as f\n",
    "import torch.optim as optim\n",
    "import torch.nn as nn\n",
    "from collections import OrderedDict\n",
    "\n",
    "fc = nn.Linear(in_features=20, out_features=10)"
   ]
  },
  {
   "cell_type": "code",
   "execution_count": 9,
   "metadata": {
    "colab": {
     "base_uri": "https://localhost:8080/"
    },
    "executionInfo": {
     "elapsed": 459,
     "status": "ok",
     "timestamp": 1611509267488,
     "user": {
      "displayName": "Oleksandra Baga",
      "photoUrl": "https://lh3.googleusercontent.com/a-/AOh14GijW8FteLiMLVmrW7PBlaeCFR1_Nwz47XEAMuVc=s64",
      "userId": "05066626167209152172"
     },
     "user_tz": -60
    },
    "id": "IXpCQBfJhR2t",
    "outputId": "afc3d16f-1a4d-454f-e182-81a12abbe8b7"
   },
   "outputs": [
    {
     "data": {
      "text/plain": [
       "Sequential(\n",
       "  (fc1): Linear(in_features=560, out_features=1024, bias=True)\n",
       "  (sigmoid): Sigmoid()\n",
       "  (fc2): Linear(in_features=1024, out_features=10, bias=True)\n",
       ")"
      ]
     },
     "execution_count": 9,
     "metadata": {
      "tags": []
     },
     "output_type": "execute_result"
    }
   ],
   "source": [
    "model = nn.Sequential(OrderedDict([('fc1', nn.Linear(in_features=20*28, out_features=1024)),\n",
    "                                   ('sigmoid', nn.Sigmoid()),\n",
    "                                   ('fc2', nn.Linear(in_features=1024, out_features=10))]))\n",
    "model"
   ]
  },
  {
   "cell_type": "code",
   "execution_count": 10,
   "metadata": {
    "colab": {
     "base_uri": "https://localhost:8080/"
    },
    "executionInfo": {
     "elapsed": 634,
     "status": "ok",
     "timestamp": 1611509269401,
     "user": {
      "displayName": "Oleksandra Baga",
      "photoUrl": "https://lh3.googleusercontent.com/a-/AOh14GijW8FteLiMLVmrW7PBlaeCFR1_Nwz47XEAMuVc=s64",
      "userId": "05066626167209152172"
     },
     "user_tz": -60
    },
    "id": "EnjsAf2EkjBp",
    "outputId": "0e836bf0-294a-4a6c-f33e-6900d6b7341d"
   },
   "outputs": [
    {
     "data": {
      "text/plain": [
       "Sequential(\n",
       "  (0): Linear(in_features=784, out_features=1024, bias=True)\n",
       "  (1): Sigmoid()\n",
       "  (2): Linear(in_features=1024, out_features=10, bias=True)\n",
       ")"
      ]
     },
     "execution_count": 10,
     "metadata": {
      "tags": []
     },
     "output_type": "execute_result"
    }
   ],
   "source": [
    "layers = [\n",
    "          nn.Linear(28*28, 1024),\n",
    "          nn.Sigmoid(),\n",
    "          nn.Linear(1024, 10)\n",
    "]\n",
    "model2 = nn.Sequential(*layers)\n",
    "model2"
   ]
  },
  {
   "cell_type": "code",
   "execution_count": 11,
   "metadata": {
    "colab": {
     "base_uri": "https://localhost:8080/"
    },
    "executionInfo": {
     "elapsed": 534,
     "status": "ok",
     "timestamp": 1611509270961,
     "user": {
      "displayName": "Oleksandra Baga",
      "photoUrl": "https://lh3.googleusercontent.com/a-/AOh14GijW8FteLiMLVmrW7PBlaeCFR1_Nwz47XEAMuVc=s64",
      "userId": "05066626167209152172"
     },
     "user_tz": -60
    },
    "id": "tXicNYLClLG_",
    "outputId": "9214fe3f-daad-41d0-90f0-b33136b245e9"
   },
   "outputs": [
    {
     "data": {
      "text/plain": [
       "FCModel(\n",
       "  (body): Sequential(\n",
       "    (fc1): Linear(in_features=784, out_features=1024, bias=True)\n",
       "    (sigmoid): Sigmoid()\n",
       "    (fc2): Linear(in_features=1024, out_features=10, bias=True)\n",
       "  )\n",
       ")"
      ]
     },
     "execution_count": 11,
     "metadata": {
      "tags": []
     },
     "output_type": "execute_result"
    }
   ],
   "source": [
    "class FCModel(nn.Module):\n",
    "  def __init__(self):\n",
    "    super(FCModel, self).__init__()\n",
    "    self.body = nn.Sequential(OrderedDict([('fc1', nn.Linear(in_features=28*28, out_features=1024)),\n",
    "                                   ('sigmoid', nn.Sigmoid()),\n",
    "                                   ('fc2', nn.Linear(in_features=1024, out_features=10))]))\n",
    "  def forward(self, x):\n",
    "    b, c, *_ = x.shape\n",
    "    x = x.reshape([b, 28*28])\n",
    "    return self.body(x)\n",
    "\n",
    "model3 = FCModel()\n",
    "model3"
   ]
  },
  {
   "cell_type": "code",
   "execution_count": 12,
   "metadata": {
    "executionInfo": {
     "elapsed": 728,
     "status": "ok",
     "timestamp": 1611509273073,
     "user": {
      "displayName": "Oleksandra Baga",
      "photoUrl": "https://lh3.googleusercontent.com/a-/AOh14GijW8FteLiMLVmrW7PBlaeCFR1_Nwz47XEAMuVc=s64",
      "userId": "05066626167209152172"
     },
     "user_tz": -60
    },
    "id": "ijp6jMVCoEK0"
   },
   "outputs": [],
   "source": [
    "import torchvision\n",
    "import torchvision.datasets as datasets\n",
    "from torch.utils.data import DataLoader, Dataset\n",
    "from torchvision.transforms import transforms"
   ]
  },
  {
   "cell_type": "code",
   "execution_count": 13,
   "metadata": {
    "colab": {
     "base_uri": "https://localhost:8080/",
     "height": 369,
     "referenced_widgets": [
      "88e4da2f51344cf58c3565327db1eb1e",
      "edc08fccde3e4566b682334c6974d180",
      "be9dbe4b60fd4ea7b8d9b1a55b76b8bd",
      "185e42d7ae7e43698cd8d26e31b952d1",
      "36ebea33224d4f87a8bf0256b101e89e",
      "bc583dc175a243469443e9fea480a9ae",
      "2fa8e20fa27a45cf81239339b3967ad2",
      "d7b4b5d76ca043e9895e88279bbe574c",
      "eb84abd887e54a77b131cf498d5f66a1",
      "0554d4233b73470dbb64af50b4af0827",
      "0bfb78a239ab46f083cf699d15c0c671",
      "439801cd4bf0471d84466b9e80dfcf47",
      "dd383268012d4f44ab8926a846750c8d",
      "9dac614c5ed6465ea233753efbf7168c",
      "1d412e6745ed4798b017dd712231899e",
      "991e622b8a44457caf225e5bc01769da",
      "41d5b56bf21041f6b0d1d0e05a2f73b8",
      "e08b5b68f0c643a89aba44fe3a622949",
      "69225eba05164c2582b8ba4f043f3f18",
      "fc2500ce8146420c91b05bf986c1997c",
      "4b6412b2e1304103be468c9608b79d83",
      "8ef018278ad74605ba8b60b461665e9e",
      "942962e8bc2346eb932ccd2fbd5d5e66",
      "223d52d0f703496385f46ab95e2ffcf2",
      "6dbb2d8cb275482b8bddded912403ac4",
      "28d98c148fbf41dc8ade51eb4c56ec39",
      "440fa0b9b6b0471bb81ee311e5193710",
      "1ec91828b16e41498f3a802f6deeec06",
      "ad45bca6f70e47c3ac5d02652311d7fb",
      "a4a2d1f3ad774712b208115ad0403ffb",
      "a09c566719194c31a7acf665a60fae61",
      "1900df2de03545098ab8f88c46227563"
     ]
    },
    "executionInfo": {
     "elapsed": 3010,
     "status": "ok",
     "timestamp": 1611509277044,
     "user": {
      "displayName": "Oleksandra Baga",
      "photoUrl": "https://lh3.googleusercontent.com/a-/AOh14GijW8FteLiMLVmrW7PBlaeCFR1_Nwz47XEAMuVc=s64",
      "userId": "05066626167209152172"
     },
     "user_tz": -60
    },
    "id": "_Ik9gre8kVnj",
    "outputId": "dc50afb1-4389-4c32-dd4d-5414f6baa094"
   },
   "outputs": [
    {
     "name": "stdout",
     "output_type": "stream",
     "text": [
      "Downloading http://yann.lecun.com/exdb/mnist/train-images-idx3-ubyte.gz to data/MNIST/raw/train-images-idx3-ubyte.gz\n"
     ]
    },
    {
     "data": {
      "application/vnd.jupyter.widget-view+json": {
       "model_id": "88e4da2f51344cf58c3565327db1eb1e",
       "version_major": 2,
       "version_minor": 0
      },
      "text/plain": [
       "HBox(children=(FloatProgress(value=1.0, bar_style='info', max=1.0), HTML(value='')))"
      ]
     },
     "metadata": {
      "tags": []
     },
     "output_type": "display_data"
    },
    {
     "name": "stdout",
     "output_type": "stream",
     "text": [
      "Extracting data/MNIST/raw/train-images-idx3-ubyte.gz to data/MNIST/raw\n",
      "Downloading http://yann.lecun.com/exdb/mnist/train-labels-idx1-ubyte.gz to data/MNIST/raw/train-labels-idx1-ubyte.gz\n"
     ]
    },
    {
     "data": {
      "application/vnd.jupyter.widget-view+json": {
       "model_id": "eb84abd887e54a77b131cf498d5f66a1",
       "version_major": 2,
       "version_minor": 0
      },
      "text/plain": [
       "HBox(children=(FloatProgress(value=1.0, bar_style='info', max=1.0), HTML(value='')))"
      ]
     },
     "metadata": {
      "tags": []
     },
     "output_type": "display_data"
    },
    {
     "name": "stdout",
     "output_type": "stream",
     "text": [
      "Extracting data/MNIST/raw/train-labels-idx1-ubyte.gz to data/MNIST/raw\n",
      "Downloading http://yann.lecun.com/exdb/mnist/t10k-images-idx3-ubyte.gz to data/MNIST/raw/t10k-images-idx3-ubyte.gz\n"
     ]
    },
    {
     "data": {
      "application/vnd.jupyter.widget-view+json": {
       "model_id": "41d5b56bf21041f6b0d1d0e05a2f73b8",
       "version_major": 2,
       "version_minor": 0
      },
      "text/plain": [
       "HBox(children=(FloatProgress(value=1.0, bar_style='info', max=1.0), HTML(value='')))"
      ]
     },
     "metadata": {
      "tags": []
     },
     "output_type": "display_data"
    },
    {
     "name": "stdout",
     "output_type": "stream",
     "text": [
      "Extracting data/MNIST/raw/t10k-images-idx3-ubyte.gz to data/MNIST/raw\n",
      "Downloading http://yann.lecun.com/exdb/mnist/t10k-labels-idx1-ubyte.gz to data/MNIST/raw/t10k-labels-idx1-ubyte.gz\n"
     ]
    },
    {
     "data": {
      "application/vnd.jupyter.widget-view+json": {
       "model_id": "6dbb2d8cb275482b8bddded912403ac4",
       "version_major": 2,
       "version_minor": 0
      },
      "text/plain": [
       "HBox(children=(FloatProgress(value=1.0, bar_style='info', max=1.0), HTML(value='')))"
      ]
     },
     "metadata": {
      "tags": []
     },
     "output_type": "display_data"
    },
    {
     "name": "stdout",
     "output_type": "stream",
     "text": [
      "Extracting data/MNIST/raw/t10k-labels-idx1-ubyte.gz to data/MNIST/raw\n",
      "Processing...\n",
      "Done!\n"
     ]
    },
    {
     "name": "stderr",
     "output_type": "stream",
     "text": [
      "/usr/local/lib/python3.6/dist-packages/torchvision/datasets/mnist.py:480: UserWarning: The given NumPy array is not writeable, and PyTorch does not support non-writeable tensors. This means you can write to the underlying (supposedly non-writeable) NumPy array using the tensor. You may want to copy the array to protect its data or make it writeable before converting it to a tensor. This type of warning will be suppressed for the rest of this program. (Triggered internally at  /pytorch/torch/csrc/utils/tensor_numpy.cpp:141.)\n",
      "  return torch.from_numpy(parsed.astype(m[2], copy=False)).view(*s)\n"
     ]
    }
   ],
   "source": [
    "train_data = datasets.MNIST('data', train=True, download=True, transform=transforms.ToTensor())\n",
    "test_data = datasets.MNIST('data', train=False, download=True, transform=transforms.ToTensor())"
   ]
  },
  {
   "cell_type": "code",
   "execution_count": 14,
   "metadata": {
    "colab": {
     "base_uri": "https://localhost:8080/"
    },
    "executionInfo": {
     "elapsed": 5259,
     "status": "ok",
     "timestamp": 1611509284263,
     "user": {
      "displayName": "Oleksandra Baga",
      "photoUrl": "https://lh3.googleusercontent.com/a-/AOh14GijW8FteLiMLVmrW7PBlaeCFR1_Nwz47XEAMuVc=s64",
      "userId": "05066626167209152172"
     },
     "user_tz": -60
    },
    "id": "quSkFvwMpoYJ",
    "outputId": "83abfccf-5138-4154-f937-9e76b7a9f507"
   },
   "outputs": [
    {
     "name": "stdout",
     "output_type": "stream",
     "text": [
      "\n",
      "\n",
      "\n",
      "\n"
     ]
    }
   ],
   "source": [
    "train_loader = DataLoader(train_data, batch_size=len(train_data))\n",
    "\n",
    "batch = next(iter(train_loader))\n",
    "x, y = batch\n",
    "mean, std = torch.mean(x), torch.std(x)\n",
    "\n",
    "transform = transforms.Compose([\n",
    "                           transforms.ToTensor(),\n",
    "                           transforms.Normalize(mean, std)\n",
    "])"
   ]
  },
  {
   "cell_type": "code",
   "execution_count": 32,
   "metadata": {
    "colab": {
     "base_uri": "https://localhost:8080/",
     "height": 298
    },
    "executionInfo": {
     "elapsed": 581,
     "status": "ok",
     "timestamp": 1611511068398,
     "user": {
      "displayName": "Oleksandra Baga",
      "photoUrl": "https://lh3.googleusercontent.com/a-/AOh14GijW8FteLiMLVmrW7PBlaeCFR1_Nwz47XEAMuVc=s64",
      "userId": "05066626167209152172"
     },
     "user_tz": -60
    },
    "id": "4GS3rqbXrGyD",
    "outputId": "0f7183e4-d9be-4799-82db-24e4c25b6afe"
   },
   "outputs": [
    {
     "data": {
      "text/plain": [
       "Text(0.5, 1.0, '9')"
      ]
     },
     "execution_count": 32,
     "metadata": {
      "tags": []
     },
     "output_type": "execute_result"
    },
    {
     "data": {
      "image/png": "[encoded data removed]",
      "text/plain": [
       "<Figure size 432x288 with 1 Axes>"
      ]
     },
     "metadata": {
      "needs_background": "light",
      "tags": []
     },
     "output_type": "display_data"
    }
   ],
   "source": [
    "train_data = datasets.MNIST('data', train=True, download=True, transform=transform)\n",
    "\n",
    "test_data = datasets.MNIST('data', train=False, download=True, transform=transform)\n",
    "\n",
    "train_loader = DataLoader(train_data, batch_size=64, shuffle=True)\n",
    "test_loader = DataLoader(test_data, batch_size=64, shuffle=True)\n",
    "\n",
    "x, y = next(iter(train_loader))\n",
    "\n",
    "x.shape\n",
    "\n",
    "plt.imshow(x[0].reshape([28, 28]), cmap='gray')\n",
    "plt.title(y[0].item())"
   ]
  },
  {
   "cell_type": "code",
   "execution_count": 33,
   "metadata": {
    "colab": {
     "base_uri": "https://localhost:8080/"
    },
    "executionInfo": {
     "elapsed": 506,
     "status": "ok",
     "timestamp": 1611511072102,
     "user": {
      "displayName": "Oleksandra Baga",
      "photoUrl": "https://lh3.googleusercontent.com/a-/AOh14GijW8FteLiMLVmrW7PBlaeCFR1_Nwz47XEAMuVc=s64",
      "userId": "05066626167209152172"
     },
     "user_tz": -60
    },
    "id": "AiEIDIs0FhCQ",
    "outputId": "b6edfff8-bcb0-4065-9e41-422fdd3e4dc1"
   },
   "outputs": [
    {
     "data": {
      "text/plain": [
       "device(type='cuda', index=0)"
      ]
     },
     "execution_count": 33,
     "metadata": {
      "tags": []
     },
     "output_type": "execute_result"
    }
   ],
   "source": [
    "a = torch.Tensor([1, 2, 3])\n",
    "a = a.cuda()\n",
    "a.device"
   ]
  },
  {
   "cell_type": "code",
   "execution_count": 91,
   "metadata": {
    "executionInfo": {
     "elapsed": 554,
     "status": "ok",
     "timestamp": 1611515515890,
     "user": {
      "displayName": "Oleksandra Baga",
      "photoUrl": "https://lh3.googleusercontent.com/a-/AOh14GijW8FteLiMLVmrW7PBlaeCFR1_Nwz47XEAMuVc=s64",
      "userId": "05066626167209152172"
     },
     "user_tz": -60
    },
    "id": "W0fVCjy27vkZ"
   },
   "outputs": [],
   "source": [
    "\n",
    "def train(model: nn.Module, optimizer: optim.Optimizer, \n",
    "          data: Union[DataLoader, Tuple[DataLoader]], max_epoch: int, cuda = torch.cuda.is_available()):\n",
    "  \n",
    "  if isinstance(data, DataLoader):\n",
    "    train_loader = data\n",
    "  elif isinstance(data, tuple):\n",
    "    if len(data) == 2:\n",
    "      train_loader, test_loader = data\n",
    "      if not isinstance (train_loader, DataLoader):\n",
    "        raise TypeError(f'Expected DataLoader but got {type(train_loader)}')\n",
    "      if not isinstance (test_loader, DataLoader):\n",
    "        raise TypeError(f'Expected DataLoader but got {type(test_loader)}')\n",
    "    else:\n",
    "      raise ValueError(f'Expected tuple of lenght 2 but got {len(data)}')\n",
    "  \n",
    "  use_test = True\n",
    "  criterium = nn.CrossEntropyLoss()\n",
    "  model.train()\n",
    "  losses = []\n",
    "  batch_total = len(data[0])\n",
    "\n",
    "  for epoch in range(max_epoch):\n",
    "    samples_total = 0\n",
    "    samples_correct = 0\n",
    "    samples_correct_test = 0\n",
    "\n",
    "    for batch_idx, batch in enumerate(train_loader):\n",
    "      x, y = batch\n",
    "      if cuda:\n",
    "        x, y = x.cuda(), y.cuda()\n",
    "      output = model(x)\n",
    "      loss = criterium(output, y)\n",
    "      loss.backward()\n",
    "      optimizer.step()\n",
    "\n",
    "      yhat = torch.argmax(output, dim=1)\n",
    "\n",
    "      samples_total += len(y)\n",
    "      samples_correct += torch.sum(yhat == y)\n",
    "      losses.append(loss.item())\n",
    "\n",
    "      if batch_idx % 50 == 0:\n",
    "        acc = float(samples_correct) / float(samples_total)\n",
    "        \n",
    "        # evaluate on test set each tie´me when we generate output\n",
    "        if use_test:\n",
    "          # put model in evaluation mode\n",
    "          model.eval()\n",
    "\n",
    "          test_x, test_y = next(iter(test_loader))\n",
    "          if cuda:\n",
    "            test_x, test_y = test_x.cuda(), test_y.cuda()\n",
    "          test_output = model(test_x)\n",
    "          test_loss = criterium(test_output, test_y)\n",
    "          test_yhat = torch.argmax(test_output, dim=1)\n",
    "          samples_correct_test = torch.sum(test_yhat == test_y)\n",
    "          test_acc = float(samples_correct_test) / float(len(test_y))\n",
    "          model.train()\n",
    "\n",
    "\n",
    "          sys.stdout.write(f'\\repoch: {epoch} / {max_epoch} Step: {batch_idx}/{batch_total}, Loss: {loss.item():.6f}, Acc: {acc:.2%}, Test Loss: {test_loss:.6f}, Test Acc: {test_acc:.2%},')\n",
    "        else:\n",
    "          sys.stdout.write(f'\\repoch: {epoch} / {max_epoch} Step: {batch_idx}/{batch_total}, Loss: {loss.item():.6f}, Acc: {acc:.2%}')\n",
    "\n",
    "\n",
    "  return losses"
   ]
  },
  {
   "cell_type": "code",
   "execution_count": 84,
   "metadata": {
    "executionInfo": {
     "elapsed": 484,
     "status": "ok",
     "timestamp": 1611514848249,
     "user": {
      "displayName": "Oleksandra Baga",
      "photoUrl": "https://lh3.googleusercontent.com/a-/AOh14GijW8FteLiMLVmrW7PBlaeCFR1_Nwz47XEAMuVc=s64",
      "userId": "05066626167209152172"
     },
     "user_tz": -60
    },
    "id": "x5MROgWHfhoj"
   },
   "outputs": [],
   "source": [
    "def validate(model: nn.Module, data: DataLoader, cuda=True):\n",
    "  criterion = nn.CrossEntropyLoss()\n",
    "  losses = []\n",
    "  correct_samples = 0\n",
    "  total_samples = 0\n",
    "  for x, y in data:\n",
    "      if cuda:\n",
    "        x, y = x.cuda(), y.cuda()\n",
    "      output = model(x)\n",
    "      loss = criterion(output, y)\n",
    "      yhat = torch.argmax(output, dim=1)\n",
    "      losses.append(loss.item())\n",
    "      correct_samples += torch.sum(yhat == y)\n",
    "      total_samples += len(y)\n",
    "\n",
    "  mean_losses = np.mean(losses)\n",
    "  acc = float(correct_samples) / float(total_samples)\n",
    "  print(f'Validation complete! Validation loss: {mean_losses:.6f}, Validation accuracy: {acc:.2%}')\n",
    "\n",
    "  return mean_losses, acc"
   ]
  },
  {
   "cell_type": "code",
   "execution_count": 92,
   "metadata": {
    "colab": {
     "base_uri": "https://localhost:8080/"
    },
    "executionInfo": {
     "elapsed": 98731,
     "status": "ok",
     "timestamp": 1611515620489,
     "user": {
      "displayName": "Oleksandra Baga",
      "photoUrl": "https://lh3.googleusercontent.com/a-/AOh14GijW8FteLiMLVmrW7PBlaeCFR1_Nwz47XEAMuVc=s64",
      "userId": "05066626167209152172"
     },
     "user_tz": -60
    },
    "id": "IXluCUoL-bJ3",
    "outputId": "b1ddb083-97a4-45db-fd02-b2e69784e866"
   },
   "outputs": [
    {
     "name": "stdout",
     "output_type": "stream",
     "text": [
      "epoch: 9 / 10 Step: 900/938, Loss: 2.590835, Acc: 85.63%, Test Loss: 1.219854, Test Acc: 87.50%,\n",
      "Training took 98.17458319664001s\n"
     ]
    }
   ],
   "source": [
    "from typing import Union, Tuple\n",
    "start = time.time()\n",
    "fc_model = FCModel()\n",
    "fc_model = fc_model.cuda()\n",
    "fc_optim = optim.Adam(fc_model.parameters(), lr=1e-3)\n",
    "fc_losses = train(fc_model, fc_optim, (train_loader, test_loader), max_epoch=10)\n",
    "end = time.time()\n",
    "print(f'\\nTraining took {end - start}s')\n"
   ]
  },
  {
   "cell_type": "code",
   "execution_count": 86,
   "metadata": {
    "executionInfo": {
     "elapsed": 967,
     "status": "ok",
     "timestamp": 1611514861183,
     "user": {
      "displayName": "Oleksandra Baga",
      "photoUrl": "https://lh3.googleusercontent.com/a-/AOh14GijW8FteLiMLVmrW7PBlaeCFR1_Nwz47XEAMuVc=s64",
      "userId": "05066626167209152172"
     },
     "user_tz": -60
    },
    "id": "-wcl3aeecWOe"
   },
   "outputs": [],
   "source": [
    "checkpoint = {'model_state_dict': fc_model.state_dict(),\n",
    "              'optimizer_state_dict': fc_optim.state_dict(),\n",
    "              'epoch': 10,\n",
    "              'losses': fc_losses}\n",
    "#checkpoint\n",
    "filename = 'fc_model:10:pth'\n",
    "checkpoint_path = os.path.join(root_path, 'My Drive', filename)\n",
    "\n",
    "with open(checkpoint_path, 'wb') as f:\n",
    "  pk.dump(checkpoint, f)\n"
   ]
  },
  {
   "cell_type": "code",
   "execution_count": 26,
   "metadata": {
    "colab": {
     "base_uri": "https://localhost:8080/"
    },
    "executionInfo": {
     "elapsed": 556,
     "status": "ok",
     "timestamp": 1611509967821,
     "user": {
      "displayName": "Oleksandra Baga",
      "photoUrl": "https://lh3.googleusercontent.com/a-/AOh14GijW8FteLiMLVmrW7PBlaeCFR1_Nwz47XEAMuVc=s64",
      "userId": "05066626167209152172"
     },
     "user_tz": -60
    },
    "id": "EcEIDiP1eLKa",
    "outputId": "fe5157dc-2cf5-4fb1-8755-5891d8f26713"
   },
   "outputs": [
    {
     "data": {
      "text/plain": [
       "<All keys matched successfully>"
      ]
     },
     "execution_count": 26,
     "metadata": {
      "tags": []
     },
     "output_type": "execute_result"
    }
   ],
   "source": [
    "with open(checkpoint_path, 'rb') as f:\n",
    "  loaded = pk.load(f)\n",
    "fc_model_loaded = FCModel()\n",
    "fc_model.load_state_dict(loaded['model_state_dict'])"
   ]
  },
  {
   "cell_type": "code",
   "execution_count": 88,
   "metadata": {
    "colab": {
     "base_uri": "https://localhost:8080/"
    },
    "executionInfo": {
     "elapsed": 1877,
     "status": "ok",
     "timestamp": 1611515023467,
     "user": {
      "displayName": "Oleksandra Baga",
      "photoUrl": "https://lh3.googleusercontent.com/a-/AOh14GijW8FteLiMLVmrW7PBlaeCFR1_Nwz47XEAMuVc=s64",
      "userId": "05066626167209152172"
     },
     "user_tz": -60
    },
    "id": "2mu8YPAxhRf6",
    "outputId": "fa90c329-b511-4980-87ac-486a08557559"
   },
   "outputs": [
    {
     "name": "stdout",
     "output_type": "stream",
     "text": [
      "Validation complete! Validation loss: 2.349312, Validation accuracy: 13.81%\n"
     ]
    },
    {
     "data": {
      "text/plain": [
       "(2.3493122629299283, 0.1381)"
      ]
     },
     "execution_count": 88,
     "metadata": {
      "tags": []
     },
     "output_type": "execute_result"
    }
   ],
   "source": [
    "validate(fc_model_loaded.cuda(), test_loader)"
   ]
  },
  {
   "cell_type": "code",
   "execution_count": 72,
   "metadata": {
    "colab": {
     "base_uri": "https://localhost:8080/"
    },
    "executionInfo": {
     "elapsed": 524,
     "status": "ok",
     "timestamp": 1611513608380,
     "user": {
      "displayName": "Oleksandra Baga",
      "photoUrl": "https://lh3.googleusercontent.com/a-/AOh14GijW8FteLiMLVmrW7PBlaeCFR1_Nwz47XEAMuVc=s64",
      "userId": "05066626167209152172"
     },
     "user_tz": -60
    },
    "id": "qm7_5oK9lkcj",
    "outputId": "088238d5-b120-481a-c5c1-d1758dc58387"
   },
   "outputs": [
    {
     "data": {
      "text/plain": [
       "CNNModel(\n",
       "  (head): Linear(in_features=128, out_features=10, bias=True)\n",
       "  (body): Sequential(\n",
       "    (conv1): Conv2d(1, 16, kernel_size=(3, 3), stride=(1, 1), padding=(1, 1))\n",
       "    (relu1): LeakyReLU(negative_slope=0.01)\n",
       "    (bn1): BatchNorm2d(16, eps=1e-05, momentum=0.1, affine=True, track_running_stats=True)\n",
       "    (pool1): MaxPool2d(kernel_size=2, stride=2, padding=0, dilation=1, ceil_mode=False)\n",
       "    (conv2): Conv2d(16, 32, kernel_size=(3, 3), stride=(1, 1), padding=(1, 1))\n",
       "    (relu2): LeakyReLU(negative_slope=0.01)\n",
       "    (bn2): BatchNorm2d(32, eps=1e-05, momentum=0.1, affine=True, track_running_stats=True)\n",
       "    (pool2): MaxPool2d(kernel_size=2, stride=2, padding=0, dilation=1, ceil_mode=False)\n",
       "    (conv3): Conv2d(32, 64, kernel_size=(3, 3), stride=(1, 1), padding=(1, 1))\n",
       "    (relu3): LeakyReLU(negative_slope=0.01)\n",
       "    (bn3): BatchNorm2d(64, eps=1e-05, momentum=0.1, affine=True, track_running_stats=True)\n",
       "    (pool3): MaxPool2d(kernel_size=2, stride=2, padding=0, dilation=1, ceil_mode=False)\n",
       "    (conv4): Conv2d(64, 128, kernel_size=(3, 3), stride=(1, 1), padding=(1, 1))\n",
       "    (relu4): LeakyReLU(negative_slope=0.01)\n",
       "    (bn4): BatchNorm2d(128, eps=1e-05, momentum=0.1, affine=True, track_running_stats=True)\n",
       "    (pool4): MaxPool2d(kernel_size=2, stride=2, padding=0, dilation=1, ceil_mode=False)\n",
       "  )\n",
       ")"
      ]
     },
     "execution_count": 72,
     "metadata": {
      "tags": []
     },
     "output_type": "execute_result"
    }
   ],
   "source": [
    "class CNNModel(nn.Module):\n",
    "  def __init__(self):\n",
    "    super(CNNModel, self).__init__()\n",
    "    self.head = nn.Linear(128, 10)\n",
    "    self.body = nn.Sequential(OrderedDict([\n",
    "                                           ('conv1', nn.Conv2d(in_channels=1, out_channels=16, kernel_size=3, stride=1, padding=1)),\n",
    "                                           ('relu1', nn.LeakyReLU()),\n",
    "                                           ('bn1', nn.BatchNorm2d(16)),\n",
    "                                           ('pool1', nn.MaxPool2d(kernel_size=2, stride=2)),\n",
    "                                           ('conv2', nn.Conv2d(in_channels=16, out_channels=32, kernel_size=3, stride=1, padding=1)),\n",
    "                                           ('relu2', nn.LeakyReLU()),\n",
    "                                           ('bn2', nn.BatchNorm2d(32)),\n",
    "                                           ('pool2', nn.MaxPool2d(kernel_size=2, stride=2)),\n",
    "                                           ('conv3', nn.Conv2d(in_channels=32, out_channels=64, kernel_size=3, stride=1, padding=1)),\n",
    "                                           ('relu3', nn.LeakyReLU()),\n",
    "                                           ('bn3', nn.BatchNorm2d(64)),\n",
    "                                           ('pool3', nn.MaxPool2d(kernel_size=2, stride=2)),\n",
    "                                           ('conv4', nn.Conv2d(in_channels=64, out_channels=128, kernel_size=3, stride=1, padding=1)),\n",
    "                                           ('relu4', nn.LeakyReLU()),\n",
    "                                           ('bn4', nn.BatchNorm2d(128)),\n",
    "                                           ('pool4', nn.MaxPool2d(kernel_size=2, stride=2))\n",
    "                                           ]))\n",
    "  \n",
    "  def forward(self, x):\n",
    "    y = self.body(x)\n",
    "    return self.head(y.reshape([-1, 128]))\n",
    "\n",
    "\n",
    "cnn = CNNModel()\n",
    "cnn"
   ]
  },
  {
   "cell_type": "code",
   "execution_count": 73,
   "metadata": {
    "colab": {
     "base_uri": "https://localhost:8080/"
    },
    "executionInfo": {
     "elapsed": 627,
     "status": "ok",
     "timestamp": 1611513611742,
     "user": {
      "displayName": "Oleksandra Baga",
      "photoUrl": "https://lh3.googleusercontent.com/a-/AOh14GijW8FteLiMLVmrW7PBlaeCFR1_Nwz47XEAMuVc=s64",
      "userId": "05066626167209152172"
     },
     "user_tz": -60
    },
    "id": "h7nYeHdzpZwN",
    "outputId": "f48588b1-7e40-4a8c-dbab-99d5bf5a9b0e"
   },
   "outputs": [
    {
     "name": "stdout",
     "output_type": "stream",
     "text": [
      "----------------------------------------------------------------\n",
      "        Layer (type)               Output Shape         Param #\n",
      "================================================================\n",
      "            Conv2d-1           [-1, 16, 28, 28]             160\n",
      "         LeakyReLU-2           [-1, 16, 28, 28]               0\n",
      "       BatchNorm2d-3           [-1, 16, 28, 28]              32\n",
      "         MaxPool2d-4           [-1, 16, 14, 14]               0\n",
      "            Conv2d-5           [-1, 32, 14, 14]           4,640\n",
      "         LeakyReLU-6           [-1, 32, 14, 14]               0\n",
      "       BatchNorm2d-7           [-1, 32, 14, 14]              64\n",
      "         MaxPool2d-8             [-1, 32, 7, 7]               0\n",
      "            Conv2d-9             [-1, 64, 7, 7]          18,496\n",
      "        LeakyReLU-10             [-1, 64, 7, 7]               0\n",
      "      BatchNorm2d-11             [-1, 64, 7, 7]             128\n",
      "        MaxPool2d-12             [-1, 64, 3, 3]               0\n",
      "           Conv2d-13            [-1, 128, 3, 3]          73,856\n",
      "        LeakyReLU-14            [-1, 128, 3, 3]               0\n",
      "      BatchNorm2d-15            [-1, 128, 3, 3]             256\n",
      "        MaxPool2d-16            [-1, 128, 1, 1]               0\n",
      "           Linear-17                   [-1, 10]           1,290\n",
      "================================================================\n",
      "Total params: 98,922\n",
      "Trainable params: 98,922\n",
      "Non-trainable params: 0\n",
      "----------------------------------------------------------------\n",
      "Input size (MB): 0.00\n",
      "Forward/backward pass size (MB): 0.57\n",
      "Params size (MB): 0.38\n",
      "Estimated Total Size (MB): 0.95\n",
      "----------------------------------------------------------------\n"
     ]
    }
   ],
   "source": [
    "summary(cnn, input_size=(1, 28, 28), device='cpu')"
   ]
  },
  {
   "cell_type": "code",
   "execution_count": 75,
   "metadata": {
    "colab": {
     "base_uri": "https://localhost:8080/"
    },
    "executionInfo": {
     "elapsed": 13380,
     "status": "ok",
     "timestamp": 1611513805845,
     "user": {
      "displayName": "Oleksandra Baga",
      "photoUrl": "https://lh3.googleusercontent.com/a-/AOh14GijW8FteLiMLVmrW7PBlaeCFR1_Nwz47XEAMuVc=s64",
      "userId": "05066626167209152172"
     },
     "user_tz": -60
    },
    "id": "3qZcMwtAsmRL",
    "outputId": "0d7d2012-16d5-4890-9409-8f9d446d2c52"
   },
   "outputs": [
    {
     "name": "stdout",
     "output_type": "stream",
     "text": [
      "ecpoch: 0 / 10 Step: 900/938, Loss: 0.459869, Acc: 0.90, Test Loss: 0.521984, Test Acc: 0.89,"
     ]
    }
   ],
   "source": [
    "cnn = cnn.cuda()\n",
    "cnn_optim = optim.Adam(cnn.parameters(), lr=1e-3)\n",
    "cnn_losses = train(cnn, cnn_optim, (train_loader, test_loader), max_epoch=10)"
   ]
  }
 ],
 "metadata": {
  "accelerator": "GPU",
  "colab": {
   "authorship_tag": "ABX9TyNtDeaAyfPyn0qG1jULu0SR",
   "name": "PyTorch_tutorial.ipynb",
   "provenance": []
  },
  "kernelspec": {
   "display_name": "Python 3",
   "language": "python",
   "name": "python3"
  },
  "language_info": {
   "codemirror_mode": {
    "name": "ipython",
    "version": 3
   },
   "file_extension": ".py",
   "mimetype": "text/x-python",
   "name": "python",
   "nbconvert_exporter": "python",
   "pygments_lexer": "ipython3",
   "version": "3.7.0"
  },
  "widgets": {
   "application/vnd.jupyter.widget-state+json": {
    "0554d4233b73470dbb64af50b4af0827": {
     "model_module": "@jupyter-widgets/base",
     "model_name": "LayoutModel",
     "state": {
      "_model_module": "@jupyter-widgets/base",
      "_model_module_version": "1.2.0",
      "_model_name": "LayoutModel",
      "_view_count": null,
      "_view_module": "@jupyter-widgets/base",
      "_view_module_version": "1.2.0",
      "_view_name": "LayoutView",
      "align_content": null,
      "align_items": null,
      "align_self": null,
      "border": null,
      "bottom": null,
      "display": null,
      "flex": null,
      "flex_flow": null,
      "grid_area": null,
      "grid_auto_columns": null,
      "grid_auto_flow": null,
      "grid_auto_rows": null,
      "grid_column": null,
      "grid_gap": null,
      "grid_row": null,
      "grid_template_areas": null,
      "grid_template_columns": null,
      "grid_template_rows": null,
      "height": null,
      "justify_content": null,
      "justify_items": null,
      "left": null,
      "margin": null,
      "max_height": null,
      "max_width": null,
      "min_height": null,
      "min_width": null,
      "object_fit": null,
      "object_position": null,
      "order": null,
      "overflow": null,
      "overflow_x": null,
      "overflow_y": null,
      "padding": null,
      "right": null,
      "top": null,
      "visibility": null,
      "width": null
     }
    },
    "0bfb78a239ab46f083cf699d15c0c671": {
     "model_module": "@jupyter-widgets/controls",
     "model_name": "FloatProgressModel",
     "state": {
      "_dom_classes": [],
      "_model_module": "@jupyter-widgets/controls",
      "_model_module_version": "1.5.0",
      "_model_name": "FloatProgressModel",
      "_view_count": null,
      "_view_module": "@jupyter-widgets/controls",
      "_view_module_version": "1.5.0",
      "_view_name": "ProgressView",
      "bar_style": "success",
      "description": "",
      "description_tooltip": null,
      "layout": "IPY_MODEL_9dac614c5ed6465ea233753efbf7168c",
      "max": 1,
      "min": 0,
      "orientation": "horizontal",
      "style": "IPY_MODEL_dd383268012d4f44ab8926a846750c8d",
      "value": 1
     }
    },
    "185e42d7ae7e43698cd8d26e31b952d1": {
     "model_module": "@jupyter-widgets/controls",
     "model_name": "HTMLModel",
     "state": {
      "_dom_classes": [],
      "_model_module": "@jupyter-widgets/controls",
      "_model_module_version": "1.5.0",
      "_model_name": "HTMLModel",
      "_view_count": null,
      "_view_module": "@jupyter-widgets/controls",
      "_view_module_version": "1.5.0",
      "_view_name": "HTMLView",
      "description": "",
      "description_tooltip": null,
      "layout": "IPY_MODEL_d7b4b5d76ca043e9895e88279bbe574c",
      "placeholder": "​",
      "style": "IPY_MODEL_2fa8e20fa27a45cf81239339b3967ad2",
      "value": " 9920512/? [00:05&lt;00:00, 1898035.75it/s]"
     }
    },
    "1900df2de03545098ab8f88c46227563": {
     "model_module": "@jupyter-widgets/base",
     "model_name": "LayoutModel",
     "state": {
      "_model_module": "@jupyter-widgets/base",
      "_model_module_version": "1.2.0",
      "_model_name": "LayoutModel",
      "_view_count": null,
      "_view_module": "@jupyter-widgets/base",
      "_view_module_version": "1.2.0",
      "_view_name": "LayoutView",
      "align_content": null,
      "align_items": null,
      "align_self": null,
      "border": null,
      "bottom": null,
      "display": null,
      "flex": null,
      "flex_flow": null,
      "grid_area": null,
      "grid_auto_columns": null,
      "grid_auto_flow": null,
      "grid_auto_rows": null,
      "grid_column": null,
      "grid_gap": null,
      "grid_row": null,
      "grid_template_areas": null,
      "grid_template_columns": null,
      "grid_template_rows": null,
      "height": null,
      "justify_content": null,
      "justify_items": null,
      "left": null,
      "margin": null,
      "max_height": null,
      "max_width": null,
      "min_height": null,
      "min_width": null,
      "object_fit": null,
      "object_position": null,
      "order": null,
      "overflow": null,
      "overflow_x": null,
      "overflow_y": null,
      "padding": null,
      "right": null,
      "top": null,
      "visibility": null,
      "width": null
     }
    },
    "1d412e6745ed4798b017dd712231899e": {
     "model_module": "@jupyter-widgets/controls",
     "model_name": "DescriptionStyleModel",
     "state": {
      "_model_module": "@jupyter-widgets/controls",
      "_model_module_version": "1.5.0",
      "_model_name": "DescriptionStyleModel",
      "_view_count": null,
      "_view_module": "@jupyter-widgets/base",
      "_view_module_version": "1.2.0",
      "_view_name": "StyleView",
      "description_width": ""
     }
    },
    "1ec91828b16e41498f3a802f6deeec06": {
     "model_module": "@jupyter-widgets/controls",
     "model_name": "HTMLModel",
     "state": {
      "_dom_classes": [],
      "_model_module": "@jupyter-widgets/controls",
      "_model_module_version": "1.5.0",
      "_model_name": "HTMLModel",
      "_view_count": null,
      "_view_module": "@jupyter-widgets/controls",
      "_view_module_version": "1.5.0",
      "_view_name": "HTMLView",
      "description": "",
      "description_tooltip": null,
      "layout": "IPY_MODEL_1900df2de03545098ab8f88c46227563",
      "placeholder": "​",
      "style": "IPY_MODEL_a09c566719194c31a7acf665a60fae61",
      "value": " 8192/? [00:02&lt;00:00, 3045.74it/s]"
     }
    },
    "223d52d0f703496385f46ab95e2ffcf2": {
     "model_module": "@jupyter-widgets/base",
     "model_name": "LayoutModel",
     "state": {
      "_model_module": "@jupyter-widgets/base",
      "_model_module_version": "1.2.0",
      "_model_name": "LayoutModel",
      "_view_count": null,
      "_view_module": "@jupyter-widgets/base",
      "_view_module_version": "1.2.0",
      "_view_name": "LayoutView",
      "align_content": null,
      "align_items": null,
      "align_self": null,
      "border": null,
      "bottom": null,
      "display": null,
      "flex": null,
      "flex_flow": null,
      "grid_area": null,
      "grid_auto_columns": null,
      "grid_auto_flow": null,
      "grid_auto_rows": null,
      "grid_column": null,
      "grid_gap": null,
      "grid_row": null,
      "grid_template_areas": null,
      "grid_template_columns": null,
      "grid_template_rows": null,
      "height": null,
      "justify_content": null,
      "justify_items": null,
      "left": null,
      "margin": null,
      "max_height": null,
      "max_width": null,
      "min_height": null,
      "min_width": null,
      "object_fit": null,
      "object_position": null,
      "order": null,
      "overflow": null,
      "overflow_x": null,
      "overflow_y": null,
      "padding": null,
      "right": null,
      "top": null,
      "visibility": null,
      "width": null
     }
    },
    "28d98c148fbf41dc8ade51eb4c56ec39": {
     "model_module": "@jupyter-widgets/base",
     "model_name": "LayoutModel",
     "state": {
      "_model_module": "@jupyter-widgets/base",
      "_model_module_version": "1.2.0",
      "_model_name": "LayoutModel",
      "_view_count": null,
      "_view_module": "@jupyter-widgets/base",
      "_view_module_version": "1.2.0",
      "_view_name": "LayoutView",
      "align_content": null,
      "align_items": null,
      "align_self": null,
      "border": null,
      "bottom": null,
      "display": null,
      "flex": null,
      "flex_flow": null,
      "grid_area": null,
      "grid_auto_columns": null,
      "grid_auto_flow": null,
      "grid_auto_rows": null,
      "grid_column": null,
      "grid_gap": null,
      "grid_row": null,
      "grid_template_areas": null,
      "grid_template_columns": null,
      "grid_template_rows": null,
      "height": null,
      "justify_content": null,
      "justify_items": null,
      "left": null,
      "margin": null,
      "max_height": null,
      "max_width": null,
      "min_height": null,
      "min_width": null,
      "object_fit": null,
      "object_position": null,
      "order": null,
      "overflow": null,
      "overflow_x": null,
      "overflow_y": null,
      "padding": null,
      "right": null,
      "top": null,
      "visibility": null,
      "width": null
     }
    },
    "2fa8e20fa27a45cf81239339b3967ad2": {
     "model_module": "@jupyter-widgets/controls",
     "model_name": "DescriptionStyleModel",
     "state": {
      "_model_module": "@jupyter-widgets/controls",
      "_model_module_version": "1.5.0",
      "_model_name": "DescriptionStyleModel",
      "_view_count": null,
      "_view_module": "@jupyter-widgets/base",
      "_view_module_version": "1.2.0",
      "_view_name": "StyleView",
      "description_width": ""
     }
    },
    "36ebea33224d4f87a8bf0256b101e89e": {
     "model_module": "@jupyter-widgets/controls",
     "model_name": "ProgressStyleModel",
     "state": {
      "_model_module": "@jupyter-widgets/controls",
      "_model_module_version": "1.5.0",
      "_model_name": "ProgressStyleModel",
      "_view_count": null,
      "_view_module": "@jupyter-widgets/base",
      "_view_module_version": "1.2.0",
      "_view_name": "StyleView",
      "bar_color": null,
      "description_width": "initial"
     }
    },
    "41d5b56bf21041f6b0d1d0e05a2f73b8": {
     "model_module": "@jupyter-widgets/controls",
     "model_name": "HBoxModel",
     "state": {
      "_dom_classes": [],
      "_model_module": "@jupyter-widgets/controls",
      "_model_module_version": "1.5.0",
      "_model_name": "HBoxModel",
      "_view_count": null,
      "_view_module": "@jupyter-widgets/controls",
      "_view_module_version": "1.5.0",
      "_view_name": "HBoxView",
      "box_style": "",
      "children": [
       "IPY_MODEL_69225eba05164c2582b8ba4f043f3f18",
       "IPY_MODEL_fc2500ce8146420c91b05bf986c1997c"
      ],
      "layout": "IPY_MODEL_e08b5b68f0c643a89aba44fe3a622949"
     }
    },
    "439801cd4bf0471d84466b9e80dfcf47": {
     "model_module": "@jupyter-widgets/controls",
     "model_name": "HTMLModel",
     "state": {
      "_dom_classes": [],
      "_model_module": "@jupyter-widgets/controls",
      "_model_module_version": "1.5.0",
      "_model_name": "HTMLModel",
      "_view_count": null,
      "_view_module": "@jupyter-widgets/controls",
      "_view_module_version": "1.5.0",
      "_view_name": "HTMLView",
      "description": "",
      "description_tooltip": null,
      "layout": "IPY_MODEL_991e622b8a44457caf225e5bc01769da",
      "placeholder": "​",
      "style": "IPY_MODEL_1d412e6745ed4798b017dd712231899e",
      "value": " 32768/? [00:03&lt;00:00, 8950.45it/s]"
     }
    },
    "440fa0b9b6b0471bb81ee311e5193710": {
     "model_module": "@jupyter-widgets/controls",
     "model_name": "FloatProgressModel",
     "state": {
      "_dom_classes": [],
      "_model_module": "@jupyter-widgets/controls",
      "_model_module_version": "1.5.0",
      "_model_name": "FloatProgressModel",
      "_view_count": null,
      "_view_module": "@jupyter-widgets/controls",
      "_view_module_version": "1.5.0",
      "_view_name": "ProgressView",
      "bar_style": "success",
      "description": "",
      "description_tooltip": null,
      "layout": "IPY_MODEL_a4a2d1f3ad774712b208115ad0403ffb",
      "max": 1,
      "min": 0,
      "orientation": "horizontal",
      "style": "IPY_MODEL_ad45bca6f70e47c3ac5d02652311d7fb",
      "value": 1
     }
    },
    "4b6412b2e1304103be468c9608b79d83": {
     "model_module": "@jupyter-widgets/controls",
     "model_name": "ProgressStyleModel",
     "state": {
      "_model_module": "@jupyter-widgets/controls",
      "_model_module_version": "1.5.0",
      "_model_name": "ProgressStyleModel",
      "_view_count": null,
      "_view_module": "@jupyter-widgets/base",
      "_view_module_version": "1.2.0",
      "_view_name": "StyleView",
      "bar_color": null,
      "description_width": "initial"
     }
    },
    "69225eba05164c2582b8ba4f043f3f18": {
     "model_module": "@jupyter-widgets/controls",
     "model_name": "FloatProgressModel",
     "state": {
      "_dom_classes": [],
      "_model_module": "@jupyter-widgets/controls",
      "_model_module_version": "1.5.0",
      "_model_name": "FloatProgressModel",
      "_view_count": null,
      "_view_module": "@jupyter-widgets/controls",
      "_view_module_version": "1.5.0",
      "_view_name": "ProgressView",
      "bar_style": "success",
      "description": "",
      "description_tooltip": null,
      "layout": "IPY_MODEL_8ef018278ad74605ba8b60b461665e9e",
      "max": 1,
      "min": 0,
      "orientation": "horizontal",
      "style": "IPY_MODEL_4b6412b2e1304103be468c9608b79d83",
      "value": 1
     }
    },
    "6dbb2d8cb275482b8bddded912403ac4": {
     "model_module": "@jupyter-widgets/controls",
     "model_name": "HBoxModel",
     "state": {
      "_dom_classes": [],
      "_model_module": "@jupyter-widgets/controls",
      "_model_module_version": "1.5.0",
      "_model_name": "HBoxModel",
      "_view_count": null,
      "_view_module": "@jupyter-widgets/controls",
      "_view_module_version": "1.5.0",
      "_view_name": "HBoxView",
      "box_style": "",
      "children": [
       "IPY_MODEL_440fa0b9b6b0471bb81ee311e5193710",
       "IPY_MODEL_1ec91828b16e41498f3a802f6deeec06"
      ],
      "layout": "IPY_MODEL_28d98c148fbf41dc8ade51eb4c56ec39"
     }
    },
    "88e4da2f51344cf58c3565327db1eb1e": {
     "model_module": "@jupyter-widgets/controls",
     "model_name": "HBoxModel",
     "state": {
      "_dom_classes": [],
      "_model_module": "@jupyter-widgets/controls",
      "_model_module_version": "1.5.0",
      "_model_name": "HBoxModel",
      "_view_count": null,
      "_view_module": "@jupyter-widgets/controls",
      "_view_module_version": "1.5.0",
      "_view_name": "HBoxView",
      "box_style": "",
      "children": [
       "IPY_MODEL_be9dbe4b60fd4ea7b8d9b1a55b76b8bd",
       "IPY_MODEL_185e42d7ae7e43698cd8d26e31b952d1"
      ],
      "layout": "IPY_MODEL_edc08fccde3e4566b682334c6974d180"
     }
    },
    "8ef018278ad74605ba8b60b461665e9e": {
     "model_module": "@jupyter-widgets/base",
     "model_name": "LayoutModel",
     "state": {
      "_model_module": "@jupyter-widgets/base",
      "_model_module_version": "1.2.0",
      "_model_name": "LayoutModel",
      "_view_count": null,
      "_view_module": "@jupyter-widgets/base",
      "_view_module_version": "1.2.0",
      "_view_name": "LayoutView",
      "align_content": null,
      "align_items": null,
      "align_self": null,
      "border": null,
      "bottom": null,
      "display": null,
      "flex": null,
      "flex_flow": null,
      "grid_area": null,
      "grid_auto_columns": null,
      "grid_auto_flow": null,
      "grid_auto_rows": null,
      "grid_column": null,
      "grid_gap": null,
      "grid_row": null,
      "grid_template_areas": null,
      "grid_template_columns": null,
      "grid_template_rows": null,
      "height": null,
      "justify_content": null,
      "justify_items": null,
      "left": null,
      "margin": null,
      "max_height": null,
      "max_width": null,
      "min_height": null,
      "min_width": null,
      "object_fit": null,
      "object_position": null,
      "order": null,
      "overflow": null,
      "overflow_x": null,
      "overflow_y": null,
      "padding": null,
      "right": null,
      "top": null,
      "visibility": null,
      "width": null
     }
    },
    "942962e8bc2346eb932ccd2fbd5d5e66": {
     "model_module": "@jupyter-widgets/controls",
     "model_name": "DescriptionStyleModel",
     "state": {
      "_model_module": "@jupyter-widgets/controls",
      "_model_module_version": "1.5.0",
      "_model_name": "DescriptionStyleModel",
      "_view_count": null,
      "_view_module": "@jupyter-widgets/base",
      "_view_module_version": "1.2.0",
      "_view_name": "StyleView",
      "description_width": ""
     }
    },
    "991e622b8a44457caf225e5bc01769da": {
     "model_module": "@jupyter-widgets/base",
     "model_name": "LayoutModel",
     "state": {
      "_model_module": "@jupyter-widgets/base",
      "_model_module_version": "1.2.0",
      "_model_name": "LayoutModel",
      "_view_count": null,
      "_view_module": "@jupyter-widgets/base",
      "_view_module_version": "1.2.0",
      "_view_name": "LayoutView",
      "align_content": null,
      "align_items": null,
      "align_self": null,
      "border": null,
      "bottom": null,
      "display": null,
      "flex": null,
      "flex_flow": null,
      "grid_area": null,
      "grid_auto_columns": null,
      "grid_auto_flow": null,
      "grid_auto_rows": null,
      "grid_column": null,
      "grid_gap": null,
      "grid_row": null,
      "grid_template_areas": null,
      "grid_template_columns": null,
      "grid_template_rows": null,
      "height": null,
      "justify_content": null,
      "justify_items": null,
      "left": null,
      "margin": null,
      "max_height": null,
      "max_width": null,
      "min_height": null,
      "min_width": null,
      "object_fit": null,
      "object_position": null,
      "order": null,
      "overflow": null,
      "overflow_x": null,
      "overflow_y": null,
      "padding": null,
      "right": null,
      "top": null,
      "visibility": null,
      "width": null
     }
    },
    "9dac614c5ed6465ea233753efbf7168c": {
     "model_module": "@jupyter-widgets/base",
     "model_name": "LayoutModel",
     "state": {
      "_model_module": "@jupyter-widgets/base",
      "_model_module_version": "1.2.0",
      "_model_name": "LayoutModel",
      "_view_count": null,
      "_view_module": "@jupyter-widgets/base",
      "_view_module_version": "1.2.0",
      "_view_name": "LayoutView",
      "align_content": null,
      "align_items": null,
      "align_self": null,
      "border": null,
      "bottom": null,
      "display": null,
      "flex": null,
      "flex_flow": null,
      "grid_area": null,
      "grid_auto_columns": null,
      "grid_auto_flow": null,
      "grid_auto_rows": null,
      "grid_column": null,
      "grid_gap": null,
      "grid_row": null,
      "grid_template_areas": null,
      "grid_template_columns": null,
      "grid_template_rows": null,
      "height": null,
      "justify_content": null,
      "justify_items": null,
      "left": null,
      "margin": null,
      "max_height": null,
      "max_width": null,
      "min_height": null,
      "min_width": null,
      "object_fit": null,
      "object_position": null,
      "order": null,
      "overflow": null,
      "overflow_x": null,
      "overflow_y": null,
      "padding": null,
      "right": null,
      "top": null,
      "visibility": null,
      "width": null
     }
    },
    "a09c566719194c31a7acf665a60fae61": {
     "model_module": "@jupyter-widgets/controls",
     "model_name": "DescriptionStyleModel",
     "state": {
      "_model_module": "@jupyter-widgets/controls",
      "_model_module_version": "1.5.0",
      "_model_name": "DescriptionStyleModel",
      "_view_count": null,
      "_view_module": "@jupyter-widgets/base",
      "_view_module_version": "1.2.0",
      "_view_name": "StyleView",
      "description_width": ""
     }
    },
    "a4a2d1f3ad774712b208115ad0403ffb": {
     "model_module": "@jupyter-widgets/base",
     "model_name": "LayoutModel",
     "state": {
      "_model_module": "@jupyter-widgets/base",
      "_model_module_version": "1.2.0",
      "_model_name": "LayoutModel",
      "_view_count": null,
      "_view_module": "@jupyter-widgets/base",
      "_view_module_version": "1.2.0",
      "_view_name": "LayoutView",
      "align_content": null,
      "align_items": null,
      "align_self": null,
      "border": null,
      "bottom": null,
      "display": null,
      "flex": null,
      "flex_flow": null,
      "grid_area": null,
      "grid_auto_columns": null,
      "grid_auto_flow": null,
      "grid_auto_rows": null,
      "grid_column": null,
      "grid_gap": null,
      "grid_row": null,
      "grid_template_areas": null,
      "grid_template_columns": null,
      "grid_template_rows": null,
      "height": null,
      "justify_content": null,
      "justify_items": null,
      "left": null,
      "margin": null,
      "max_height": null,
      "max_width": null,
      "min_height": null,
      "min_width": null,
      "object_fit": null,
      "object_position": null,
      "order": null,
      "overflow": null,
      "overflow_x": null,
      "overflow_y": null,
      "padding": null,
      "right": null,
      "top": null,
      "visibility": null,
      "width": null
     }
    },
    "ad45bca6f70e47c3ac5d02652311d7fb": {
     "model_module": "@jupyter-widgets/controls",
     "model_name": "ProgressStyleModel",
     "state": {
      "_model_module": "@jupyter-widgets/controls",
      "_model_module_version": "1.5.0",
      "_model_name": "ProgressStyleModel",
      "_view_count": null,
      "_view_module": "@jupyter-widgets/base",
      "_view_module_version": "1.2.0",
      "_view_name": "StyleView",
      "bar_color": null,
      "description_width": "initial"
     }
    },
    "bc583dc175a243469443e9fea480a9ae": {
     "model_module": "@jupyter-widgets/base",
     "model_name": "LayoutModel",
     "state": {
      "_model_module": "@jupyter-widgets/base",
      "_model_module_version": "1.2.0",
      "_model_name": "LayoutModel",
      "_view_count": null,
      "_view_module": "@jupyter-widgets/base",
      "_view_module_version": "1.2.0",
      "_view_name": "LayoutView",
      "align_content": null,
      "align_items": null,
      "align_self": null,
      "border": null,
      "bottom": null,
      "display": null,
      "flex": null,
      "flex_flow": null,
      "grid_area": null,
      "grid_auto_columns": null,
      "grid_auto_flow": null,
      "grid_auto_rows": null,
      "grid_column": null,
      "grid_gap": null,
      "grid_row": null,
      "grid_template_areas": null,
      "grid_template_columns": null,
      "grid_template_rows": null,
      "height": null,
      "justify_content": null,
      "justify_items": null,
      "left": null,
      "margin": null,
      "max_height": null,
      "max_width": null,
      "min_height": null,
      "min_width": null,
      "object_fit": null,
      "object_position": null,
      "order": null,
      "overflow": null,
      "overflow_x": null,
      "overflow_y": null,
      "padding": null,
      "right": null,
      "top": null,
      "visibility": null,
      "width": null
     }
    },
    "be9dbe4b60fd4ea7b8d9b1a55b76b8bd": {
     "model_module": "@jupyter-widgets/controls",
     "model_name": "FloatProgressModel",
     "state": {
      "_dom_classes": [],
      "_model_module": "@jupyter-widgets/controls",
      "_model_module_version": "1.5.0",
      "_model_name": "FloatProgressModel",
      "_view_count": null,
      "_view_module": "@jupyter-widgets/controls",
      "_view_module_version": "1.5.0",
      "_view_name": "ProgressView",
      "bar_style": "success",
      "description": "",
      "description_tooltip": null,
      "layout": "IPY_MODEL_bc583dc175a243469443e9fea480a9ae",
      "max": 1,
      "min": 0,
      "orientation": "horizontal",
      "style": "IPY_MODEL_36ebea33224d4f87a8bf0256b101e89e",
      "value": 1
     }
    },
    "d7b4b5d76ca043e9895e88279bbe574c": {
     "model_module": "@jupyter-widgets/base",
     "model_name": "LayoutModel",
     "state": {
      "_model_module": "@jupyter-widgets/base",
      "_model_module_version": "1.2.0",
      "_model_name": "LayoutModel",
      "_view_count": null,
      "_view_module": "@jupyter-widgets/base",
      "_view_module_version": "1.2.0",
      "_view_name": "LayoutView",
      "align_content": null,
      "align_items": null,
      "align_self": null,
      "border": null,
      "bottom": null,
      "display": null,
      "flex": null,
      "flex_flow": null,
      "grid_area": null,
      "grid_auto_columns": null,
      "grid_auto_flow": null,
      "grid_auto_rows": null,
      "grid_column": null,
      "grid_gap": null,
      "grid_row": null,
      "grid_template_areas": null,
      "grid_template_columns": null,
      "grid_template_rows": null,
      "height": null,
      "justify_content": null,
      "justify_items": null,
      "left": null,
      "margin": null,
      "max_height": null,
      "max_width": null,
      "min_height": null,
      "min_width": null,
      "object_fit": null,
      "object_position": null,
      "order": null,
      "overflow": null,
      "overflow_x": null,
      "overflow_y": null,
      "padding": null,
      "right": null,
      "top": null,
      "visibility": null,
      "width": null
     }
    },
    "dd383268012d4f44ab8926a846750c8d": {
     "model_module": "@jupyter-widgets/controls",
     "model_name": "ProgressStyleModel",
     "state": {
      "_model_module": "@jupyter-widgets/controls",
      "_model_module_version": "1.5.0",
      "_model_name": "ProgressStyleModel",
      "_view_count": null,
      "_view_module": "@jupyter-widgets/base",
      "_view_module_version": "1.2.0",
      "_view_name": "StyleView",
      "bar_color": null,
      "description_width": "initial"
     }
    },
    "e08b5b68f0c643a89aba44fe3a622949": {
     "model_module": "@jupyter-widgets/base",
     "model_name": "LayoutModel",
     "state": {
      "_model_module": "@jupyter-widgets/base",
      "_model_module_version": "1.2.0",
      "_model_name": "LayoutModel",
      "_view_count": null,
      "_view_module": "@jupyter-widgets/base",
      "_view_module_version": "1.2.0",
      "_view_name": "LayoutView",
      "align_content": null,
      "align_items": null,
      "align_self": null,
      "border": null,
      "bottom": null,
      "display": null,
      "flex": null,
      "flex_flow": null,
      "grid_area": null,
      "grid_auto_columns": null,
      "grid_auto_flow": null,
      "grid_auto_rows": null,
      "grid_column": null,
      "grid_gap": null,
      "grid_row": null,
      "grid_template_areas": null,
      "grid_template_columns": null,
      "grid_template_rows": null,
      "height": null,
      "justify_content": null,
      "justify_items": null,
      "left": null,
      "margin": null,
      "max_height": null,
      "max_width": null,
      "min_height": null,
      "min_width": null,
      "object_fit": null,
      "object_position": null,
      "order": null,
      "overflow": null,
      "overflow_x": null,
      "overflow_y": null,
      "padding": null,
      "right": null,
      "top": null,
      "visibility": null,
      "width": null
     }
    },
    "eb84abd887e54a77b131cf498d5f66a1": {
     "model_module": "@jupyter-widgets/controls",
     "model_name": "HBoxModel",
     "state": {
      "_dom_classes": [],
      "_model_module": "@jupyter-widgets/controls",
      "_model_module_version": "1.5.0",
      "_model_name": "HBoxModel",
      "_view_count": null,
      "_view_module": "@jupyter-widgets/controls",
      "_view_module_version": "1.5.0",
      "_view_name": "HBoxView",
      "box_style": "",
      "children": [
       "IPY_MODEL_0bfb78a239ab46f083cf699d15c0c671",
       "IPY_MODEL_439801cd4bf0471d84466b9e80dfcf47"
      ],
      "layout": "IPY_MODEL_0554d4233b73470dbb64af50b4af0827"
     }
    },
    "edc08fccde3e4566b682334c6974d180": {
     "model_module": "@jupyter-widgets/base",
     "model_name": "LayoutModel",
     "state": {
      "_model_module": "@jupyter-widgets/base",
      "_model_module_version": "1.2.0",
      "_model_name": "LayoutModel",
      "_view_count": null,
      "_view_module": "@jupyter-widgets/base",
      "_view_module_version": "1.2.0",
      "_view_name": "LayoutView",
      "align_content": null,
      "align_items": null,
      "align_self": null,
      "border": null,
      "bottom": null,
      "display": null,
      "flex": null,
      "flex_flow": null,
      "grid_area": null,
      "grid_auto_columns": null,
      "grid_auto_flow": null,
      "grid_auto_rows": null,
      "grid_column": null,
      "grid_gap": null,
      "grid_row": null,
      "grid_template_areas": null,
      "grid_template_columns": null,
      "grid_template_rows": null,
      "height": null,
      "justify_content": null,
      "justify_items": null,
      "left": null,
      "margin": null,
      "max_height": null,
      "max_width": null,
      "min_height": null,
      "min_width": null,
      "object_fit": null,
      "object_position": null,
      "order": null,
      "overflow": null,
      "overflow_x": null,
      "overflow_y": null,
      "padding": null,
      "right": null,
      "top": null,
      "visibility": null,
      "width": null
     }
    },
    "fc2500ce8146420c91b05bf986c1997c": {
     "model_module": "@jupyter-widgets/controls",
     "model_name": "HTMLModel",
     "state": {
      "_dom_classes": [],
      "_model_module": "@jupyter-widgets/controls",
      "_model_module_version": "1.5.0",
      "_model_name": "HTMLModel",
      "_view_count": null,
      "_view_module": "@jupyter-widgets/controls",
      "_view_module_version": "1.5.0",
      "_view_name": "HTMLView",
      "description": "",
      "description_tooltip": null,
      "layout": "IPY_MODEL_223d52d0f703496385f46ab95e2ffcf2",
      "placeholder": "​",
      "style": "IPY_MODEL_942962e8bc2346eb932ccd2fbd5d5e66",
      "value": " 1654784/? [00:03&lt;00:00, 486022.64it/s]"
     }
    }
   }
  }
 },
 "nbformat": 4,
 "nbformat_minor": 1
}
