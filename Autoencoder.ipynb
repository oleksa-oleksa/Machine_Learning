{
  "nbformat": 4,
  "nbformat_minor": 0,
  "metadata": {
    "accelerator": "GPU",
    "colab": {
      "name": "Autoencoder.ipynb",
      "provenance": [],
      "collapsed_sections": []
    },
    "kernelspec": {
      "display_name": "Python 3",
      "name": "python3"
    },
    "widgets": {
      "application/vnd.jupyter.widget-state+json": {
        "4e5f1536c09346ec9a362804f8759067": {
          "model_module": "@jupyter-widgets/controls",
          "model_name": "HBoxModel",
          "state": {
            "_view_name": "HBoxView",
            "_dom_classes": [],
            "_model_name": "HBoxModel",
            "_view_module": "@jupyter-widgets/controls",
            "_model_module_version": "1.5.0",
            "_view_count": null,
            "_view_module_version": "1.5.0",
            "box_style": "",
            "layout": "IPY_MODEL_89e175b5e2404a8ca872824c022c78d9",
            "_model_module": "@jupyter-widgets/controls",
            "children": [
              "IPY_MODEL_48b7aa9568434bda979fec54d5989e98",
              "IPY_MODEL_e33bb9d992604f5b8ec0d7a3c018ca55"
            ]
          }
        },
        "89e175b5e2404a8ca872824c022c78d9": {
          "model_module": "@jupyter-widgets/base",
          "model_name": "LayoutModel",
          "state": {
            "_view_name": "LayoutView",
            "grid_template_rows": null,
            "right": null,
            "justify_content": null,
            "_view_module": "@jupyter-widgets/base",
            "overflow": null,
            "_model_module_version": "1.2.0",
            "_view_count": null,
            "flex_flow": null,
            "width": null,
            "min_width": null,
            "border": null,
            "align_items": null,
            "bottom": null,
            "_model_module": "@jupyter-widgets/base",
            "top": null,
            "grid_column": null,
            "overflow_y": null,
            "overflow_x": null,
            "grid_auto_flow": null,
            "grid_area": null,
            "grid_template_columns": null,
            "flex": null,
            "_model_name": "LayoutModel",
            "justify_items": null,
            "grid_row": null,
            "max_height": null,
            "align_content": null,
            "visibility": null,
            "align_self": null,
            "height": null,
            "min_height": null,
            "padding": null,
            "grid_auto_rows": null,
            "grid_gap": null,
            "max_width": null,
            "order": null,
            "_view_module_version": "1.2.0",
            "grid_template_areas": null,
            "object_position": null,
            "object_fit": null,
            "grid_auto_columns": null,
            "margin": null,
            "display": null,
            "left": null
          }
        },
        "48b7aa9568434bda979fec54d5989e98": {
          "model_module": "@jupyter-widgets/controls",
          "model_name": "FloatProgressModel",
          "state": {
            "_view_name": "ProgressView",
            "style": "IPY_MODEL_52d299586cf14d38b034ae31fcaa0d11",
            "_dom_classes": [],
            "description": "",
            "_model_name": "FloatProgressModel",
            "bar_style": "success",
            "max": 1,
            "_view_module": "@jupyter-widgets/controls",
            "_model_module_version": "1.5.0",
            "value": 1,
            "_view_count": null,
            "_view_module_version": "1.5.0",
            "orientation": "horizontal",
            "min": 0,
            "description_tooltip": null,
            "_model_module": "@jupyter-widgets/controls",
            "layout": "IPY_MODEL_6832279ff5874a87b279177e52abb0ea"
          }
        },
        "e33bb9d992604f5b8ec0d7a3c018ca55": {
          "model_module": "@jupyter-widgets/controls",
          "model_name": "HTMLModel",
          "state": {
            "_view_name": "HTMLView",
            "style": "IPY_MODEL_e23790b358834e9181ef0319e14c4195",
            "_dom_classes": [],
            "description": "",
            "_model_name": "HTMLModel",
            "placeholder": "​",
            "_view_module": "@jupyter-widgets/controls",
            "_model_module_version": "1.5.0",
            "value": " 9920512/? [00:00&lt;00:00, 11007501.40it/s]",
            "_view_count": null,
            "_view_module_version": "1.5.0",
            "description_tooltip": null,
            "_model_module": "@jupyter-widgets/controls",
            "layout": "IPY_MODEL_df1433e675de4ad6b4f4e246cf697972"
          }
        },
        "52d299586cf14d38b034ae31fcaa0d11": {
          "model_module": "@jupyter-widgets/controls",
          "model_name": "ProgressStyleModel",
          "state": {
            "_view_name": "StyleView",
            "_model_name": "ProgressStyleModel",
            "description_width": "initial",
            "_view_module": "@jupyter-widgets/base",
            "_model_module_version": "1.5.0",
            "_view_count": null,
            "_view_module_version": "1.2.0",
            "bar_color": null,
            "_model_module": "@jupyter-widgets/controls"
          }
        },
        "6832279ff5874a87b279177e52abb0ea": {
          "model_module": "@jupyter-widgets/base",
          "model_name": "LayoutModel",
          "state": {
            "_view_name": "LayoutView",
            "grid_template_rows": null,
            "right": null,
            "justify_content": null,
            "_view_module": "@jupyter-widgets/base",
            "overflow": null,
            "_model_module_version": "1.2.0",
            "_view_count": null,
            "flex_flow": null,
            "width": null,
            "min_width": null,
            "border": null,
            "align_items": null,
            "bottom": null,
            "_model_module": "@jupyter-widgets/base",
            "top": null,
            "grid_column": null,
            "overflow_y": null,
            "overflow_x": null,
            "grid_auto_flow": null,
            "grid_area": null,
            "grid_template_columns": null,
            "flex": null,
            "_model_name": "LayoutModel",
            "justify_items": null,
            "grid_row": null,
            "max_height": null,
            "align_content": null,
            "visibility": null,
            "align_self": null,
            "height": null,
            "min_height": null,
            "padding": null,
            "grid_auto_rows": null,
            "grid_gap": null,
            "max_width": null,
            "order": null,
            "_view_module_version": "1.2.0",
            "grid_template_areas": null,
            "object_position": null,
            "object_fit": null,
            "grid_auto_columns": null,
            "margin": null,
            "display": null,
            "left": null
          }
        },
        "e23790b358834e9181ef0319e14c4195": {
          "model_module": "@jupyter-widgets/controls",
          "model_name": "DescriptionStyleModel",
          "state": {
            "_view_name": "StyleView",
            "_model_name": "DescriptionStyleModel",
            "description_width": "",
            "_view_module": "@jupyter-widgets/base",
            "_model_module_version": "1.5.0",
            "_view_count": null,
            "_view_module_version": "1.2.0",
            "_model_module": "@jupyter-widgets/controls"
          }
        },
        "df1433e675de4ad6b4f4e246cf697972": {
          "model_module": "@jupyter-widgets/base",
          "model_name": "LayoutModel",
          "state": {
            "_view_name": "LayoutView",
            "grid_template_rows": null,
            "right": null,
            "justify_content": null,
            "_view_module": "@jupyter-widgets/base",
            "overflow": null,
            "_model_module_version": "1.2.0",
            "_view_count": null,
            "flex_flow": null,
            "width": null,
            "min_width": null,
            "border": null,
            "align_items": null,
            "bottom": null,
            "_model_module": "@jupyter-widgets/base",
            "top": null,
            "grid_column": null,
            "overflow_y": null,
            "overflow_x": null,
            "grid_auto_flow": null,
            "grid_area": null,
            "grid_template_columns": null,
            "flex": null,
            "_model_name": "LayoutModel",
            "justify_items": null,
            "grid_row": null,
            "max_height": null,
            "align_content": null,
            "visibility": null,
            "align_self": null,
            "height": null,
            "min_height": null,
            "padding": null,
            "grid_auto_rows": null,
            "grid_gap": null,
            "max_width": null,
            "order": null,
            "_view_module_version": "1.2.0",
            "grid_template_areas": null,
            "object_position": null,
            "object_fit": null,
            "grid_auto_columns": null,
            "margin": null,
            "display": null,
            "left": null
          }
        },
        "2b1d9d74c8684c21a57f2c3a2df8d2ab": {
          "model_module": "@jupyter-widgets/controls",
          "model_name": "HBoxModel",
          "state": {
            "_view_name": "HBoxView",
            "_dom_classes": [],
            "_model_name": "HBoxModel",
            "_view_module": "@jupyter-widgets/controls",
            "_model_module_version": "1.5.0",
            "_view_count": null,
            "_view_module_version": "1.5.0",
            "box_style": "",
            "layout": "IPY_MODEL_2723e66fc3ce4e3f9c02e0aeaba1091f",
            "_model_module": "@jupyter-widgets/controls",
            "children": [
              "IPY_MODEL_a4d0a07fa9ac4481993783af41d2a5e2",
              "IPY_MODEL_e674f7014695458883f2cfe4fda1b437"
            ]
          }
        },
        "2723e66fc3ce4e3f9c02e0aeaba1091f": {
          "model_module": "@jupyter-widgets/base",
          "model_name": "LayoutModel",
          "state": {
            "_view_name": "LayoutView",
            "grid_template_rows": null,
            "right": null,
            "justify_content": null,
            "_view_module": "@jupyter-widgets/base",
            "overflow": null,
            "_model_module_version": "1.2.0",
            "_view_count": null,
            "flex_flow": null,
            "width": null,
            "min_width": null,
            "border": null,
            "align_items": null,
            "bottom": null,
            "_model_module": "@jupyter-widgets/base",
            "top": null,
            "grid_column": null,
            "overflow_y": null,
            "overflow_x": null,
            "grid_auto_flow": null,
            "grid_area": null,
            "grid_template_columns": null,
            "flex": null,
            "_model_name": "LayoutModel",
            "justify_items": null,
            "grid_row": null,
            "max_height": null,
            "align_content": null,
            "visibility": null,
            "align_self": null,
            "height": null,
            "min_height": null,
            "padding": null,
            "grid_auto_rows": null,
            "grid_gap": null,
            "max_width": null,
            "order": null,
            "_view_module_version": "1.2.0",
            "grid_template_areas": null,
            "object_position": null,
            "object_fit": null,
            "grid_auto_columns": null,
            "margin": null,
            "display": null,
            "left": null
          }
        },
        "a4d0a07fa9ac4481993783af41d2a5e2": {
          "model_module": "@jupyter-widgets/controls",
          "model_name": "FloatProgressModel",
          "state": {
            "_view_name": "ProgressView",
            "style": "IPY_MODEL_7eec0ce5e5c54fe8a8e251140c0f84b0",
            "_dom_classes": [],
            "description": "",
            "_model_name": "FloatProgressModel",
            "bar_style": "success",
            "max": 1,
            "_view_module": "@jupyter-widgets/controls",
            "_model_module_version": "1.5.0",
            "value": 1,
            "_view_count": null,
            "_view_module_version": "1.5.0",
            "orientation": "horizontal",
            "min": 0,
            "description_tooltip": null,
            "_model_module": "@jupyter-widgets/controls",
            "layout": "IPY_MODEL_0f2a6b89cfac4aaf827b0fd204ab04ec"
          }
        },
        "e674f7014695458883f2cfe4fda1b437": {
          "model_module": "@jupyter-widgets/controls",
          "model_name": "HTMLModel",
          "state": {
            "_view_name": "HTMLView",
            "style": "IPY_MODEL_c13151a0aed04caea418e2305dbeca24",
            "_dom_classes": [],
            "description": "",
            "_model_name": "HTMLModel",
            "placeholder": "​",
            "_view_module": "@jupyter-widgets/controls",
            "_model_module_version": "1.5.0",
            "value": " 32768/? [00:00&lt;00:00, 111368.21it/s]",
            "_view_count": null,
            "_view_module_version": "1.5.0",
            "description_tooltip": null,
            "_model_module": "@jupyter-widgets/controls",
            "layout": "IPY_MODEL_baa0997893a248a49982befc450387de"
          }
        },
        "7eec0ce5e5c54fe8a8e251140c0f84b0": {
          "model_module": "@jupyter-widgets/controls",
          "model_name": "ProgressStyleModel",
          "state": {
            "_view_name": "StyleView",
            "_model_name": "ProgressStyleModel",
            "description_width": "initial",
            "_view_module": "@jupyter-widgets/base",
            "_model_module_version": "1.5.0",
            "_view_count": null,
            "_view_module_version": "1.2.0",
            "bar_color": null,
            "_model_module": "@jupyter-widgets/controls"
          }
        },
        "0f2a6b89cfac4aaf827b0fd204ab04ec": {
          "model_module": "@jupyter-widgets/base",
          "model_name": "LayoutModel",
          "state": {
            "_view_name": "LayoutView",
            "grid_template_rows": null,
            "right": null,
            "justify_content": null,
            "_view_module": "@jupyter-widgets/base",
            "overflow": null,
            "_model_module_version": "1.2.0",
            "_view_count": null,
            "flex_flow": null,
            "width": null,
            "min_width": null,
            "border": null,
            "align_items": null,
            "bottom": null,
            "_model_module": "@jupyter-widgets/base",
            "top": null,
            "grid_column": null,
            "overflow_y": null,
            "overflow_x": null,
            "grid_auto_flow": null,
            "grid_area": null,
            "grid_template_columns": null,
            "flex": null,
            "_model_name": "LayoutModel",
            "justify_items": null,
            "grid_row": null,
            "max_height": null,
            "align_content": null,
            "visibility": null,
            "align_self": null,
            "height": null,
            "min_height": null,
            "padding": null,
            "grid_auto_rows": null,
            "grid_gap": null,
            "max_width": null,
            "order": null,
            "_view_module_version": "1.2.0",
            "grid_template_areas": null,
            "object_position": null,
            "object_fit": null,
            "grid_auto_columns": null,
            "margin": null,
            "display": null,
            "left": null
          }
        },
        "c13151a0aed04caea418e2305dbeca24": {
          "model_module": "@jupyter-widgets/controls",
          "model_name": "DescriptionStyleModel",
          "state": {
            "_view_name": "StyleView",
            "_model_name": "DescriptionStyleModel",
            "description_width": "",
            "_view_module": "@jupyter-widgets/base",
            "_model_module_version": "1.5.0",
            "_view_count": null,
            "_view_module_version": "1.2.0",
            "_model_module": "@jupyter-widgets/controls"
          }
        },
        "baa0997893a248a49982befc450387de": {
          "model_module": "@jupyter-widgets/base",
          "model_name": "LayoutModel",
          "state": {
            "_view_name": "LayoutView",
            "grid_template_rows": null,
            "right": null,
            "justify_content": null,
            "_view_module": "@jupyter-widgets/base",
            "overflow": null,
            "_model_module_version": "1.2.0",
            "_view_count": null,
            "flex_flow": null,
            "width": null,
            "min_width": null,
            "border": null,
            "align_items": null,
            "bottom": null,
            "_model_module": "@jupyter-widgets/base",
            "top": null,
            "grid_column": null,
            "overflow_y": null,
            "overflow_x": null,
            "grid_auto_flow": null,
            "grid_area": null,
            "grid_template_columns": null,
            "flex": null,
            "_model_name": "LayoutModel",
            "justify_items": null,
            "grid_row": null,
            "max_height": null,
            "align_content": null,
            "visibility": null,
            "align_self": null,
            "height": null,
            "min_height": null,
            "padding": null,
            "grid_auto_rows": null,
            "grid_gap": null,
            "max_width": null,
            "order": null,
            "_view_module_version": "1.2.0",
            "grid_template_areas": null,
            "object_position": null,
            "object_fit": null,
            "grid_auto_columns": null,
            "margin": null,
            "display": null,
            "left": null
          }
        },
        "ad8423ae619248148b1b177a2f19aab6": {
          "model_module": "@jupyter-widgets/controls",
          "model_name": "HBoxModel",
          "state": {
            "_view_name": "HBoxView",
            "_dom_classes": [],
            "_model_name": "HBoxModel",
            "_view_module": "@jupyter-widgets/controls",
            "_model_module_version": "1.5.0",
            "_view_count": null,
            "_view_module_version": "1.5.0",
            "box_style": "",
            "layout": "IPY_MODEL_a38b44a00e4644f3bbdf61df41e8c63b",
            "_model_module": "@jupyter-widgets/controls",
            "children": [
              "IPY_MODEL_28ef7156ea8d4dea83bf01d0b652d18c",
              "IPY_MODEL_6483b16121e249d59ef55edea7f5cedb"
            ]
          }
        },
        "a38b44a00e4644f3bbdf61df41e8c63b": {
          "model_module": "@jupyter-widgets/base",
          "model_name": "LayoutModel",
          "state": {
            "_view_name": "LayoutView",
            "grid_template_rows": null,
            "right": null,
            "justify_content": null,
            "_view_module": "@jupyter-widgets/base",
            "overflow": null,
            "_model_module_version": "1.2.0",
            "_view_count": null,
            "flex_flow": null,
            "width": null,
            "min_width": null,
            "border": null,
            "align_items": null,
            "bottom": null,
            "_model_module": "@jupyter-widgets/base",
            "top": null,
            "grid_column": null,
            "overflow_y": null,
            "overflow_x": null,
            "grid_auto_flow": null,
            "grid_area": null,
            "grid_template_columns": null,
            "flex": null,
            "_model_name": "LayoutModel",
            "justify_items": null,
            "grid_row": null,
            "max_height": null,
            "align_content": null,
            "visibility": null,
            "align_self": null,
            "height": null,
            "min_height": null,
            "padding": null,
            "grid_auto_rows": null,
            "grid_gap": null,
            "max_width": null,
            "order": null,
            "_view_module_version": "1.2.0",
            "grid_template_areas": null,
            "object_position": null,
            "object_fit": null,
            "grid_auto_columns": null,
            "margin": null,
            "display": null,
            "left": null
          }
        },
        "28ef7156ea8d4dea83bf01d0b652d18c": {
          "model_module": "@jupyter-widgets/controls",
          "model_name": "FloatProgressModel",
          "state": {
            "_view_name": "ProgressView",
            "style": "IPY_MODEL_e8377a824f1a4cb88ff684f3c4c1fffe",
            "_dom_classes": [],
            "description": "",
            "_model_name": "FloatProgressModel",
            "bar_style": "success",
            "max": 1,
            "_view_module": "@jupyter-widgets/controls",
            "_model_module_version": "1.5.0",
            "value": 1,
            "_view_count": null,
            "_view_module_version": "1.5.0",
            "orientation": "horizontal",
            "min": 0,
            "description_tooltip": null,
            "_model_module": "@jupyter-widgets/controls",
            "layout": "IPY_MODEL_9312d152c79d4a7ea4149a95dbe4b4ce"
          }
        },
        "6483b16121e249d59ef55edea7f5cedb": {
          "model_module": "@jupyter-widgets/controls",
          "model_name": "HTMLModel",
          "state": {
            "_view_name": "HTMLView",
            "style": "IPY_MODEL_eb16584fd4b2405e89fcea2202caa0ce",
            "_dom_classes": [],
            "description": "",
            "_model_name": "HTMLModel",
            "placeholder": "​",
            "_view_module": "@jupyter-widgets/controls",
            "_model_module_version": "1.5.0",
            "value": " 1654784/? [00:00&lt;00:00, 7487453.41it/s]",
            "_view_count": null,
            "_view_module_version": "1.5.0",
            "description_tooltip": null,
            "_model_module": "@jupyter-widgets/controls",
            "layout": "IPY_MODEL_9da20139fc0647bcaee84591f8df7cef"
          }
        },
        "e8377a824f1a4cb88ff684f3c4c1fffe": {
          "model_module": "@jupyter-widgets/controls",
          "model_name": "ProgressStyleModel",
          "state": {
            "_view_name": "StyleView",
            "_model_name": "ProgressStyleModel",
            "description_width": "initial",
            "_view_module": "@jupyter-widgets/base",
            "_model_module_version": "1.5.0",
            "_view_count": null,
            "_view_module_version": "1.2.0",
            "bar_color": null,
            "_model_module": "@jupyter-widgets/controls"
          }
        },
        "9312d152c79d4a7ea4149a95dbe4b4ce": {
          "model_module": "@jupyter-widgets/base",
          "model_name": "LayoutModel",
          "state": {
            "_view_name": "LayoutView",
            "grid_template_rows": null,
            "right": null,
            "justify_content": null,
            "_view_module": "@jupyter-widgets/base",
            "overflow": null,
            "_model_module_version": "1.2.0",
            "_view_count": null,
            "flex_flow": null,
            "width": null,
            "min_width": null,
            "border": null,
            "align_items": null,
            "bottom": null,
            "_model_module": "@jupyter-widgets/base",
            "top": null,
            "grid_column": null,
            "overflow_y": null,
            "overflow_x": null,
            "grid_auto_flow": null,
            "grid_area": null,
            "grid_template_columns": null,
            "flex": null,
            "_model_name": "LayoutModel",
            "justify_items": null,
            "grid_row": null,
            "max_height": null,
            "align_content": null,
            "visibility": null,
            "align_self": null,
            "height": null,
            "min_height": null,
            "padding": null,
            "grid_auto_rows": null,
            "grid_gap": null,
            "max_width": null,
            "order": null,
            "_view_module_version": "1.2.0",
            "grid_template_areas": null,
            "object_position": null,
            "object_fit": null,
            "grid_auto_columns": null,
            "margin": null,
            "display": null,
            "left": null
          }
        },
        "eb16584fd4b2405e89fcea2202caa0ce": {
          "model_module": "@jupyter-widgets/controls",
          "model_name": "DescriptionStyleModel",
          "state": {
            "_view_name": "StyleView",
            "_model_name": "DescriptionStyleModel",
            "description_width": "",
            "_view_module": "@jupyter-widgets/base",
            "_model_module_version": "1.5.0",
            "_view_count": null,
            "_view_module_version": "1.2.0",
            "_model_module": "@jupyter-widgets/controls"
          }
        },
        "9da20139fc0647bcaee84591f8df7cef": {
          "model_module": "@jupyter-widgets/base",
          "model_name": "LayoutModel",
          "state": {
            "_view_name": "LayoutView",
            "grid_template_rows": null,
            "right": null,
            "justify_content": null,
            "_view_module": "@jupyter-widgets/base",
            "overflow": null,
            "_model_module_version": "1.2.0",
            "_view_count": null,
            "flex_flow": null,
            "width": null,
            "min_width": null,
            "border": null,
            "align_items": null,
            "bottom": null,
            "_model_module": "@jupyter-widgets/base",
            "top": null,
            "grid_column": null,
            "overflow_y": null,
            "overflow_x": null,
            "grid_auto_flow": null,
            "grid_area": null,
            "grid_template_columns": null,
            "flex": null,
            "_model_name": "LayoutModel",
            "justify_items": null,
            "grid_row": null,
            "max_height": null,
            "align_content": null,
            "visibility": null,
            "align_self": null,
            "height": null,
            "min_height": null,
            "padding": null,
            "grid_auto_rows": null,
            "grid_gap": null,
            "max_width": null,
            "order": null,
            "_view_module_version": "1.2.0",
            "grid_template_areas": null,
            "object_position": null,
            "object_fit": null,
            "grid_auto_columns": null,
            "margin": null,
            "display": null,
            "left": null
          }
        },
        "ce4e257db4eb4281b2d8439d10a90764": {
          "model_module": "@jupyter-widgets/controls",
          "model_name": "HBoxModel",
          "state": {
            "_view_name": "HBoxView",
            "_dom_classes": [],
            "_model_name": "HBoxModel",
            "_view_module": "@jupyter-widgets/controls",
            "_model_module_version": "1.5.0",
            "_view_count": null,
            "_view_module_version": "1.5.0",
            "box_style": "",
            "layout": "IPY_MODEL_25ab745e861a4b9cbb5a275cd379b472",
            "_model_module": "@jupyter-widgets/controls",
            "children": [
              "IPY_MODEL_8434f32195394b209885fa2e09215c21",
              "IPY_MODEL_b9710323776b4c82b4022adfd0f02f2f"
            ]
          }
        },
        "25ab745e861a4b9cbb5a275cd379b472": {
          "model_module": "@jupyter-widgets/base",
          "model_name": "LayoutModel",
          "state": {
            "_view_name": "LayoutView",
            "grid_template_rows": null,
            "right": null,
            "justify_content": null,
            "_view_module": "@jupyter-widgets/base",
            "overflow": null,
            "_model_module_version": "1.2.0",
            "_view_count": null,
            "flex_flow": null,
            "width": null,
            "min_width": null,
            "border": null,
            "align_items": null,
            "bottom": null,
            "_model_module": "@jupyter-widgets/base",
            "top": null,
            "grid_column": null,
            "overflow_y": null,
            "overflow_x": null,
            "grid_auto_flow": null,
            "grid_area": null,
            "grid_template_columns": null,
            "flex": null,
            "_model_name": "LayoutModel",
            "justify_items": null,
            "grid_row": null,
            "max_height": null,
            "align_content": null,
            "visibility": null,
            "align_self": null,
            "height": null,
            "min_height": null,
            "padding": null,
            "grid_auto_rows": null,
            "grid_gap": null,
            "max_width": null,
            "order": null,
            "_view_module_version": "1.2.0",
            "grid_template_areas": null,
            "object_position": null,
            "object_fit": null,
            "grid_auto_columns": null,
            "margin": null,
            "display": null,
            "left": null
          }
        },
        "8434f32195394b209885fa2e09215c21": {
          "model_module": "@jupyter-widgets/controls",
          "model_name": "FloatProgressModel",
          "state": {
            "_view_name": "ProgressView",
            "style": "IPY_MODEL_ae7881398e694ef78e73e70d15270759",
            "_dom_classes": [],
            "description": "",
            "_model_name": "FloatProgressModel",
            "bar_style": "success",
            "max": 1,
            "_view_module": "@jupyter-widgets/controls",
            "_model_module_version": "1.5.0",
            "value": 1,
            "_view_count": null,
            "_view_module_version": "1.5.0",
            "orientation": "horizontal",
            "min": 0,
            "description_tooltip": null,
            "_model_module": "@jupyter-widgets/controls",
            "layout": "IPY_MODEL_95da6eeaffd14a818f4f209046fa94d7"
          }
        },
        "b9710323776b4c82b4022adfd0f02f2f": {
          "model_module": "@jupyter-widgets/controls",
          "model_name": "HTMLModel",
          "state": {
            "_view_name": "HTMLView",
            "style": "IPY_MODEL_e92fdcb891f845e7bdb36849158bc7ca",
            "_dom_classes": [],
            "description": "",
            "_model_name": "HTMLModel",
            "placeholder": "​",
            "_view_module": "@jupyter-widgets/controls",
            "_model_module_version": "1.5.0",
            "value": " 8192/? [00:02&lt;00:00, 3346.31it/s]",
            "_view_count": null,
            "_view_module_version": "1.5.0",
            "description_tooltip": null,
            "_model_module": "@jupyter-widgets/controls",
            "layout": "IPY_MODEL_c93e21b0073f4bdc9f51230c24e5d362"
          }
        },
        "ae7881398e694ef78e73e70d15270759": {
          "model_module": "@jupyter-widgets/controls",
          "model_name": "ProgressStyleModel",
          "state": {
            "_view_name": "StyleView",
            "_model_name": "ProgressStyleModel",
            "description_width": "initial",
            "_view_module": "@jupyter-widgets/base",
            "_model_module_version": "1.5.0",
            "_view_count": null,
            "_view_module_version": "1.2.0",
            "bar_color": null,
            "_model_module": "@jupyter-widgets/controls"
          }
        },
        "95da6eeaffd14a818f4f209046fa94d7": {
          "model_module": "@jupyter-widgets/base",
          "model_name": "LayoutModel",
          "state": {
            "_view_name": "LayoutView",
            "grid_template_rows": null,
            "right": null,
            "justify_content": null,
            "_view_module": "@jupyter-widgets/base",
            "overflow": null,
            "_model_module_version": "1.2.0",
            "_view_count": null,
            "flex_flow": null,
            "width": null,
            "min_width": null,
            "border": null,
            "align_items": null,
            "bottom": null,
            "_model_module": "@jupyter-widgets/base",
            "top": null,
            "grid_column": null,
            "overflow_y": null,
            "overflow_x": null,
            "grid_auto_flow": null,
            "grid_area": null,
            "grid_template_columns": null,
            "flex": null,
            "_model_name": "LayoutModel",
            "justify_items": null,
            "grid_row": null,
            "max_height": null,
            "align_content": null,
            "visibility": null,
            "align_self": null,
            "height": null,
            "min_height": null,
            "padding": null,
            "grid_auto_rows": null,
            "grid_gap": null,
            "max_width": null,
            "order": null,
            "_view_module_version": "1.2.0",
            "grid_template_areas": null,
            "object_position": null,
            "object_fit": null,
            "grid_auto_columns": null,
            "margin": null,
            "display": null,
            "left": null
          }
        },
        "e92fdcb891f845e7bdb36849158bc7ca": {
          "model_module": "@jupyter-widgets/controls",
          "model_name": "DescriptionStyleModel",
          "state": {
            "_view_name": "StyleView",
            "_model_name": "DescriptionStyleModel",
            "description_width": "",
            "_view_module": "@jupyter-widgets/base",
            "_model_module_version": "1.5.0",
            "_view_count": null,
            "_view_module_version": "1.2.0",
            "_model_module": "@jupyter-widgets/controls"
          }
        },
        "c93e21b0073f4bdc9f51230c24e5d362": {
          "model_module": "@jupyter-widgets/base",
          "model_name": "LayoutModel",
          "state": {
            "_view_name": "LayoutView",
            "grid_template_rows": null,
            "right": null,
            "justify_content": null,
            "_view_module": "@jupyter-widgets/base",
            "overflow": null,
            "_model_module_version": "1.2.0",
            "_view_count": null,
            "flex_flow": null,
            "width": null,
            "min_width": null,
            "border": null,
            "align_items": null,
            "bottom": null,
            "_model_module": "@jupyter-widgets/base",
            "top": null,
            "grid_column": null,
            "overflow_y": null,
            "overflow_x": null,
            "grid_auto_flow": null,
            "grid_area": null,
            "grid_template_columns": null,
            "flex": null,
            "_model_name": "LayoutModel",
            "justify_items": null,
            "grid_row": null,
            "max_height": null,
            "align_content": null,
            "visibility": null,
            "align_self": null,
            "height": null,
            "min_height": null,
            "padding": null,
            "grid_auto_rows": null,
            "grid_gap": null,
            "max_width": null,
            "order": null,
            "_view_module_version": "1.2.0",
            "grid_template_areas": null,
            "object_position": null,
            "object_fit": null,
            "grid_auto_columns": null,
            "margin": null,
            "display": null,
            "left": null
          }
        }
      }
    }
  },
  "cells": [
    {
      "cell_type": "code",
      "metadata": {
        "id": "DEqtbzF5oyzG"
      },
      "source": [
        "import torch\n",
        "import os\n",
        "import time\n",
        "import math\n",
        "import sys\n",
        "import numpy as np\n",
        "import pandas as pd\n",
        "from sklearn.model_selection import train_test_split\n",
        "from sklearn.utils import shuffle\n",
        "import matplotlib.pyplot as plt\n",
        "import seaborn as sns\n",
        "%matplotlib inline\n",
        "from torch.autograd import grad\n",
        "from torch.nn import Parameter\n",
        "cuda = torch.cuda.is_available()\n",
        "from google.colab import drive\n",
        "import pickle as pk\n",
        "from torchsummary import summary\n",
        "# NN Architecture\n",
        "## all layers that we want to use are in package nn and we can use as many layers as we want\n",
        "import torch.nn.functional as F\n",
        "import torch.optim as optim\n",
        "import torch.nn as nn\n",
        "from collections import OrderedDict\n",
        "import torchvision\n",
        "import torchvision.datasets as datasets\n",
        "from torch.utils.data import DataLoader, Dataset\n",
        "from torchvision.transforms import transforms\n"
      ],
      "execution_count": 25,
      "outputs": []
    },
    {
      "cell_type": "markdown",
      "metadata": {
        "id": "NVQj3iUbp5-K"
      },
      "source": [
        "An autoencoder is a neural network that is trained to aim to copy its input to its output. Internally, it has a hidden layer that describes a code used to represent the input. The network may be viewed as consisting of two parts: an encoder function “h=f(x)” and a decoder that produces a reconstruction “r=g(h)”."
      ]
    },
    {
      "cell_type": "markdown",
      "metadata": {
        "id": "viIUZWHsp3nr"
      },
      "source": [
        "**Excercise 1.**\n",
        "\n",
        "Autoencoder\n",
        "\n",
        "Implement an Autoencoder that encodes the MNIST dataset to a latent dimension of sizem < 784. Use Tranposed Convolutions and/or Unpooling to solve this exercise. Train the Autoencoder and plot the reconstruction training loss. Plot 5 digits (of your choice) beforeand after reconstruction. Do this for two different latent dimension sizes."
      ]
    },
    {
      "cell_type": "code",
      "metadata": {
        "id": "_Ik9gre8kVnj",
        "colab": {
          "base_uri": "https://localhost:8080/",
          "height": 448,
          "referenced_widgets": [
            "4e5f1536c09346ec9a362804f8759067",
            "89e175b5e2404a8ca872824c022c78d9",
            "48b7aa9568434bda979fec54d5989e98",
            "e33bb9d992604f5b8ec0d7a3c018ca55",
            "52d299586cf14d38b034ae31fcaa0d11",
            "6832279ff5874a87b279177e52abb0ea",
            "e23790b358834e9181ef0319e14c4195",
            "df1433e675de4ad6b4f4e246cf697972",
            "2b1d9d74c8684c21a57f2c3a2df8d2ab",
            "2723e66fc3ce4e3f9c02e0aeaba1091f",
            "a4d0a07fa9ac4481993783af41d2a5e2",
            "e674f7014695458883f2cfe4fda1b437",
            "7eec0ce5e5c54fe8a8e251140c0f84b0",
            "0f2a6b89cfac4aaf827b0fd204ab04ec",
            "c13151a0aed04caea418e2305dbeca24",
            "baa0997893a248a49982befc450387de",
            "ad8423ae619248148b1b177a2f19aab6",
            "a38b44a00e4644f3bbdf61df41e8c63b",
            "28ef7156ea8d4dea83bf01d0b652d18c",
            "6483b16121e249d59ef55edea7f5cedb",
            "e8377a824f1a4cb88ff684f3c4c1fffe",
            "9312d152c79d4a7ea4149a95dbe4b4ce",
            "eb16584fd4b2405e89fcea2202caa0ce",
            "9da20139fc0647bcaee84591f8df7cef",
            "ce4e257db4eb4281b2d8439d10a90764",
            "25ab745e861a4b9cbb5a275cd379b472",
            "8434f32195394b209885fa2e09215c21",
            "b9710323776b4c82b4022adfd0f02f2f",
            "ae7881398e694ef78e73e70d15270759",
            "95da6eeaffd14a818f4f209046fa94d7",
            "e92fdcb891f845e7bdb36849158bc7ca",
            "c93e21b0073f4bdc9f51230c24e5d362"
          ]
        },
        "outputId": "d618b08d-2314-4401-e4d2-61ac95448d1e"
      },
      "source": [
        "# how many samples per batch to load\n",
        "batch_size = 20\n",
        "\n",
        "train_data = datasets.MNIST('data', train=True, download=True, transform=transforms.ToTensor())\n",
        "test_data = datasets.MNIST('data', train=False, download=True, transform=transforms.ToTensor())\n",
        "\n",
        "train_loader = DataLoader(train_data, batch_size=len(train_data))\n",
        "\n",
        "batch = next(iter(train_loader))\n",
        "x, y = batch\n",
        "mean, std = torch.mean(x), torch.std(x)\n",
        "\n",
        "transform = transforms.Compose([\n",
        "                           transforms.ToTensor(),\n",
        "                           transforms.Normalize(mean, std)\n",
        "])\n",
        "\n",
        "train_data = datasets.MNIST('data', train=True, download=True, transform=transform)\n",
        "\n",
        "test_data = datasets.MNIST('data', train=False, download=True, transform=transform)\n",
        "\n",
        "train_loader = DataLoader(train_data, batch_size=batch_size, shuffle=True)\n",
        "test_loader = DataLoader(test_data, batch_size=batch_size, shuffle=True)"
      ],
      "execution_count": 3,
      "outputs": [
        {
          "output_type": "stream",
          "text": [
            "Downloading http://yann.lecun.com/exdb/mnist/train-images-idx3-ubyte.gz to data/MNIST/raw/train-images-idx3-ubyte.gz\n"
          ],
          "name": "stdout"
        },
        {
          "output_type": "display_data",
          "data": {
            "application/vnd.jupyter.widget-view+json": {
              "model_id": "4e5f1536c09346ec9a362804f8759067",
              "version_minor": 0,
              "version_major": 2
            },
            "text/plain": [
              "HBox(children=(FloatProgress(value=1.0, bar_style='info', max=1.0), HTML(value='')))"
            ]
          },
          "metadata": {
            "tags": []
          }
        },
        {
          "output_type": "stream",
          "text": [
            "Extracting data/MNIST/raw/train-images-idx3-ubyte.gz to data/MNIST/raw\n",
            "Downloading http://yann.lecun.com/exdb/mnist/train-labels-idx1-ubyte.gz to data/MNIST/raw/train-labels-idx1-ubyte.gz\n"
          ],
          "name": "stdout"
        },
        {
          "output_type": "display_data",
          "data": {
            "application/vnd.jupyter.widget-view+json": {
              "model_id": "2b1d9d74c8684c21a57f2c3a2df8d2ab",
              "version_minor": 0,
              "version_major": 2
            },
            "text/plain": [
              "HBox(children=(FloatProgress(value=1.0, bar_style='info', max=1.0), HTML(value='')))"
            ]
          },
          "metadata": {
            "tags": []
          }
        },
        {
          "output_type": "stream",
          "text": [
            "Extracting data/MNIST/raw/train-labels-idx1-ubyte.gz to data/MNIST/raw\n",
            "Downloading http://yann.lecun.com/exdb/mnist/t10k-images-idx3-ubyte.gz to data/MNIST/raw/t10k-images-idx3-ubyte.gz\n"
          ],
          "name": "stdout"
        },
        {
          "output_type": "display_data",
          "data": {
            "application/vnd.jupyter.widget-view+json": {
              "model_id": "ad8423ae619248148b1b177a2f19aab6",
              "version_minor": 0,
              "version_major": 2
            },
            "text/plain": [
              "HBox(children=(FloatProgress(value=1.0, bar_style='info', max=1.0), HTML(value='')))"
            ]
          },
          "metadata": {
            "tags": []
          }
        },
        {
          "output_type": "stream",
          "text": [
            "Extracting data/MNIST/raw/t10k-images-idx3-ubyte.gz to data/MNIST/raw\n",
            "Downloading http://yann.lecun.com/exdb/mnist/t10k-labels-idx1-ubyte.gz to data/MNIST/raw/t10k-labels-idx1-ubyte.gz\n",
            "\n",
            "\n",
            "\n"
          ],
          "name": "stdout"
        },
        {
          "output_type": "display_data",
          "data": {
            "application/vnd.jupyter.widget-view+json": {
              "model_id": "ce4e257db4eb4281b2d8439d10a90764",
              "version_minor": 0,
              "version_major": 2
            },
            "text/plain": [
              "HBox(children=(FloatProgress(value=1.0, bar_style='info', max=1.0), HTML(value='')))"
            ]
          },
          "metadata": {
            "tags": []
          }
        },
        {
          "output_type": "stream",
          "text": [
            "Extracting data/MNIST/raw/t10k-labels-idx1-ubyte.gz to data/MNIST/raw\n",
            "Processing...\n",
            "Done!\n"
          ],
          "name": "stdout"
        },
        {
          "output_type": "stream",
          "text": [
            "/usr/local/lib/python3.6/dist-packages/torchvision/datasets/mnist.py:480: UserWarning: The given NumPy array is not writeable, and PyTorch does not support non-writeable tensors. This means you can write to the underlying (supposedly non-writeable) NumPy array using the tensor. You may want to copy the array to protect its data or make it writeable before converting it to a tensor. This type of warning will be suppressed for the rest of this program. (Triggered internally at  /pytorch/torch/csrc/utils/tensor_numpy.cpp:141.)\n",
            "  return torch.from_numpy(parsed.astype(m[2], copy=False)).view(*s)\n"
          ],
          "name": "stderr"
        },
        {
          "output_type": "stream",
          "text": [
            "\n"
          ],
          "name": "stdout"
        }
      ]
    },
    {
      "cell_type": "code",
      "metadata": {
        "colab": {
          "base_uri": "https://localhost:8080/",
          "height": 298
        },
        "id": "eJm9j3dY7gJ1",
        "outputId": "aa3dbaff-d490-46cd-a185-05f325cf19f3"
      },
      "source": [
        "# Visualize the data to see if your data has loaded correctly or not.\n",
        "# Obtaining one batch of training images\n",
        "# Then getting one image from the batch\n",
        "\n",
        "import matplotlib.pyplot as plt\n",
        "%matplotlib inline\n",
        "    \n",
        "# obtain one batch of training images\n",
        "dataiter = iter(train_loader)\n",
        "images, labels = dataiter.next()\n",
        "images = images.numpy()\n",
        "\n",
        "# get one image from the batch\n",
        "img = np.squeeze(images[0])\n",
        "\n",
        "plt.imshow(images[0].reshape([28, 28]), cmap='gray')\n",
        "plt.title(labels[0].item())"
      ],
      "execution_count": 4,
      "outputs": [
        {
          "output_type": "execute_result",
          "data": {
            "text/plain": [
              "Text(0.5, 1.0, '4')"
            ]
          },
          "metadata": {
            "tags": []
          },
          "execution_count": 4
        },
        {
          "output_type": "display_data",
          "data": {
            "image/png": "[encoded data removed]",
            "text/plain": [
              "<Figure size 432x288 with 1 Axes>"
            ]
          },
          "metadata": {
            "tags": [],
            "needs_background": "light"
          }
        }
      ]
    },
    {
      "cell_type": "markdown",
      "metadata": {
        "id": "GMzg43Ols5kI"
      },
      "source": [
        "Images of the MNIST dataset are of dimension 28 * 28 so, we’ll train the autoencoder with these images by flattening them into 784 (i.e. 28*28 = 784) length vectors. Also, the images from this dataset are already normalized such that the values are between 0 and 1."
      ]
    },
    {
      "cell_type": "markdown",
      "metadata": {
        "id": "_6Us3k6mtJe0"
      },
      "source": [
        "**Model architecture:** \n",
        "\n",
        "\n",
        "ENCODER: The encoder will be made of one linear layer where the depth dimensions should change as follows: 784 inputs — > encoding_dim.\n",
        "\n",
        "Latent dimension is a intermediate dimension between input & output which can be manipulated as per your need but its size must stay between input & output dimensions."
      ]
    },
    {
      "cell_type": "code",
      "metadata": {
        "colab": {
          "base_uri": "https://localhost:8080/"
        },
        "id": "19bzuRw1tRG_",
        "outputId": "bc016569-2c2b-4ec1-b956-35eca5eb35b6"
      },
      "source": [
        "# define the NN architecture\n",
        "class AutoencoderLinear(nn.Module):\n",
        "    def __init__(self, encoding_dim):\n",
        "        super(AutoencoderLinear, self).__init__()\n",
        "        ## encoder ##\n",
        "        # linear layer (784 -> encoding_dim)\n",
        "        self.fc1 = nn.Linear(28 * 28, encoding_dim)\n",
        "        self.convTrans1 = nn.ConvTranspose2d(28*28, encoding_dim, kernel_size=3)\n",
        "        \n",
        "        ## decoder ##\n",
        "        # linear layer (encoding_dim -> input size)\n",
        "        self.fc2 = nn.Linear(encoding_dim, 28*28)\n",
        "        self.convTrans2 = nn.ConvTranspose2d(encoding_dim, encoding_dim, kernel_size=3)\n",
        "       \n",
        "\n",
        "    def forward(self, x):\n",
        "        # add layer, with relu activation function\n",
        "        x = f.relu(self.fc1(x))\n",
        "        #x = self.convTrans1(x)\n",
        "        # output layer (sigmoid for scaling from 0 to 1)\n",
        "        #x = self.convTrans2(x)\n",
        "        x = torch.sigmoid(self.fc2(x))\n",
        "                \n",
        "\n",
        "        return x\n",
        "\n",
        "# initialize the NN\n",
        "encoding_dim = 32\n",
        "model = AutoencoderLinear(encoding_dim)\n",
        "print(model)"
      ],
      "execution_count": null,
      "outputs": [
        {
          "output_type": "stream",
          "text": [
            "AutoencoderLinear(\n",
            "  (fc1): Linear(in_features=784, out_features=32, bias=True)\n",
            "  (convTrans1): ConvTranspose2d(784, 32, kernel_size=(3, 3), stride=(1, 1))\n",
            "  (fc2): Linear(in_features=32, out_features=784, bias=True)\n",
            "  (convTrans2): ConvTranspose2d(32, 32, kernel_size=(3, 3), stride=(1, 1))\n",
            ")\n"
          ],
          "name": "stdout"
        }
      ]
    },
    {
      "cell_type": "code",
      "metadata": {
        "colab": {
          "base_uri": "https://localhost:8080/"
        },
        "id": "neR4g57Et0kk",
        "outputId": "68aeeded-da8e-4a08-9afc-3ee2215f9936"
      },
      "source": [
        "## TRAIN LINEAR AUTOENCODER\n",
        "\n",
        "# specify loss function\n",
        "criterion = nn.MSELoss()\n",
        "\n",
        "# specify loss function\n",
        "optimizer = torch.optim.Adam(model.parameters(), lr=0.001)\n",
        "\n",
        "# number of epochs to train the model\n",
        "n_epochs = 5\n",
        "\n",
        "for epoch in range(1, n_epochs+1):\n",
        "    # monitor training loss\n",
        "    train_loss = 0.0\n",
        "    \n",
        "    ###################\n",
        "    # train the model #\n",
        "    ###################\n",
        "    for data in train_loader:\n",
        "        # _ stands in for labels, here\n",
        "        images, _ = data\n",
        "        # flatten images\n",
        "        images = images.view(images.size(0), -1)\n",
        "        # clear the gradients of all optimized variables\n",
        "        optimizer.zero_grad()\n",
        "        # forward pass: compute predicted outputs by passing inputs to the model\n",
        "        outputs = model(images)\n",
        "        # calculate the loss\n",
        "        loss = criterion(outputs, images)\n",
        "        # backward pass: compute gradient of the loss with respect to model parameters\n",
        "        loss.backward()\n",
        "        # perform a single optimization step (parameter update)\n",
        "        optimizer.step()\n",
        "        # update running training loss\n",
        "        train_loss += loss.item()*images.size(0)\n",
        "            \n",
        "    # print avg training statistics \n",
        "    train_loss = train_loss/len(train_loader)\n",
        "    print('Epoch: {} \\tTraining Loss: {:.6f}'.format(\n",
        "        epoch, \n",
        "        train_loss\n",
        "        ))"
      ],
      "execution_count": null,
      "outputs": [
        {
          "output_type": "stream",
          "text": [
            "Epoch: 1 \tTraining Loss: 10.700501\n",
            "Epoch: 2 \tTraining Loss: 10.687055\n",
            "Epoch: 3 \tTraining Loss: 10.682983\n",
            "Epoch: 4 \tTraining Loss: 10.680930\n",
            "Epoch: 5 \tTraining Loss: 10.676676\n"
          ],
          "name": "stdout"
        }
      ]
    },
    {
      "cell_type": "code",
      "metadata": {
        "colab": {
          "base_uri": "https://localhost:8080/",
          "height": 235
        },
        "id": "w4PQUa6J3lGw",
        "outputId": "95ce7662-8c98-4adb-fcd5-63e63410d6cb"
      },
      "source": [
        "# obtain one batch of test images\n",
        "dataiter = iter(test_loader)\n",
        "images, labels = dataiter.next()\n",
        "\n",
        "images_flatten = images.view(images.size(0), -1)\n",
        "# get sample outputs\n",
        "output = model(images_flatten)\n",
        "# prep images for display\n",
        "images = images.numpy()\n",
        "\n",
        "# output is resized into a batch of images\n",
        "output = output.view(batch_size, 1, 28, 28)\n",
        "# use detach when it's an output that requires_grad\n",
        "output = output.detach().numpy()\n",
        "\n",
        "# plot the first ten input images and then reconstructed images\n",
        "fig, axes = plt.subplots(nrows=2, ncols=10, sharex=True, sharey=True, figsize=(25,4))\n",
        "\n",
        "# input images on top row, reconstructions on bottom\n",
        "for images, row in zip([images, output], axes):\n",
        "    for img, ax in zip(images, row):\n",
        "        ax.imshow(np.squeeze(img), cmap='gray')\n",
        "        ax.get_xaxis().set_visible(False)\n",
        "        ax.get_yaxis().set_visible(False)\n"
      ],
      "execution_count": null,
      "outputs": [
        {
          "output_type": "display_data",
          "data": {
            "image/png": "[encoded data removed]",
            "text/plain": [
              "<Figure size 1800x288 with 20 Axes>"
            ]
          },
          "metadata": {
            "tags": []
          }
        }
      ]
    },
    {
      "cell_type": "code",
      "metadata": {
        "colab": {
          "base_uri": "https://localhost:8080/"
        },
        "id": "ftJgr7kSBAwu",
        "outputId": "7b49af1f-21be-407e-8349-9b0239791cf5"
      },
      "source": [
        "# CONVOLUTIONAL AUTOENCODER\n",
        "\n",
        "# define the NN architecture\n",
        "class ConvAutoencoder(nn.Module):\n",
        "    def __init__(self):\n",
        "        super(ConvAutoencoder, self).__init__()\n",
        "        ## encoder layers ##\n",
        "        # conv layer (depth from 1 --> 32), 3x3 kernels\n",
        "        self.conv1 = nn.Conv2d(1, 32, 3, padding=1)  \n",
        "        # conv layer (depth from 32 --> 64), 3x3 kernels\n",
        "        self.conv2 = nn.Conv2d(32, 64, 3, padding=1)\n",
        "        # pooling layer to reduce x-y dims by two; kernel and stride of 2\n",
        "        self.pool = nn.MaxPool2d(2, 2)\n",
        "        \n",
        "        ## decoder layers ##\n",
        "        ## a kernel of 2 and a stride of 2 will increase the spatial dims by 2\n",
        "        self.t_conv1 = nn.ConvTranspose2d(64, 32, 2, stride=2)\n",
        "        self.t_conv2 = nn.ConvTranspose2d(32, 1, 2, stride=2)\n",
        "\n",
        "    def forward(self, x):\n",
        "        ## encode ##\n",
        "        # add hidden layers with relu activation function\n",
        "        # and maxpooling after\n",
        "        x = F.relu(self.conv1(x))\n",
        "        x = self.pool(x)\n",
        "        # add second hidden layer\n",
        "        x = F.relu(self.conv2(x))\n",
        "        x = self.pool(x)  # compressed representation\n",
        "        \n",
        "        ## decode ##\n",
        "        # add transpose conv layers, with relu activation function\n",
        "        x = F.relu(self.t_conv1(x))\n",
        "        # output layer (with sigmoid for scaling from 0 to 1)\n",
        "        x = torch.sigmoid(self.t_conv2(x))\n",
        "                \n",
        "        return x\n",
        "\n",
        "# initialize the NN\n",
        "model = ConvAutoencoder()\n",
        "print(model)\n"
      ],
      "execution_count": null,
      "outputs": [
        {
          "output_type": "stream",
          "text": [
            "ConvAutoencoder(\n",
            "  (conv1): Conv2d(1, 32, kernel_size=(3, 3), stride=(1, 1), padding=(1, 1))\n",
            "  (conv2): Conv2d(32, 64, kernel_size=(3, 3), stride=(1, 1), padding=(1, 1))\n",
            "  (pool): MaxPool2d(kernel_size=2, stride=2, padding=0, dilation=1, ceil_mode=False)\n",
            "  (t_conv1): ConvTranspose2d(64, 32, kernel_size=(2, 2), stride=(2, 2))\n",
            "  (t_conv2): ConvTranspose2d(32, 1, kernel_size=(2, 2), stride=(2, 2))\n",
            ")\n"
          ],
          "name": "stdout"
        }
      ]
    },
    {
      "cell_type": "code",
      "metadata": {
        "colab": {
          "background_save": true,
          "base_uri": "https://localhost:8080/"
        },
        "id": "8iTI7P4qEnqf",
        "outputId": "22411c86-4556-4cbe-bf64-076a2b96d53b"
      },
      "source": [
        "# number of epochs to train the model\n",
        "n_epochs = 5\n",
        "\n",
        "for epoch in range(1, n_epochs+1):\n",
        "    # monitor training loss\n",
        "    train_loss = 0.0\n",
        "    \n",
        "    ###################\n",
        "    # train the model #\n",
        "    ###################\n",
        "    for data in train_loader:\n",
        "        # _ stands in for labels, here\n",
        "        # no need to flatten images\n",
        "        images, _ = data\n",
        "        # clear the gradients of all optimized variables\n",
        "        optimizer.zero_grad()\n",
        "        # forward pass: compute predicted outputs by passing inputs to the model\n",
        "        outputs = model(images)\n",
        "        # calculate the loss\n",
        "        loss = criterion(outputs, images)\n",
        "        # backward pass: compute gradient of the loss with respect to model parameters\n",
        "        loss.backward()\n",
        "        # perform a single optimization step (parameter update)\n",
        "        optimizer.step()\n",
        "        # update running training loss\n",
        "        train_loss += loss.item()*images.size(0)\n",
        "            \n",
        "    # print avg training statistics \n",
        "    train_loss = train_loss/len(train_loader)\n",
        "    print('Epoch: {} \\tTraining Loss: {:.6f}'.format(\n",
        "        epoch, \n",
        "        train_loss\n",
        "        ))"
      ],
      "execution_count": null,
      "outputs": [
        {
          "output_type": "stream",
          "text": [
            "Epoch: 1 \tTraining Loss: 23.196707\n",
            "Epoch: 2 \tTraining Loss: 23.196707\n",
            "Epoch: 3 \tTraining Loss: 23.196707\n",
            "Epoch: 4 \tTraining Loss: 23.196707\n",
            "Epoch: 5 \tTraining Loss: 23.196707\n"
          ],
          "name": "stdout"
        }
      ]
    },
    {
      "cell_type": "code",
      "metadata": {
        "colab": {
          "base_uri": "https://localhost:8080/",
          "height": 235
        },
        "id": "u608Hfz3L63H",
        "outputId": "6d37b399-86aa-4070-9249-849bb91735f7"
      },
      "source": [
        "# obtain one batch of test images\n",
        "dataiter = iter(test_loader)\n",
        "images, labels = dataiter.next()\n",
        "\n",
        "# get sample outputs\n",
        "output = model(images)\n",
        "# prep images for display\n",
        "images = images.numpy()\n",
        "\n",
        "# output is resized into a batch of images\n",
        "output = output.view(batch_size, 1, 28, 28)\n",
        "# use detach when it's an output that requires_grad\n",
        "output = output.detach().numpy()\n",
        "\n",
        "# plot the first ten input images and then reconstructed images\n",
        "fig, axes = plt.subplots(nrows=2, ncols=10, sharex=True, sharey=True, figsize=(25,4))\n",
        "\n",
        "# input images on top row, reconstructions on bottom\n",
        "for images, row in zip([images, output], axes):\n",
        "    for img, ax in zip(images, row):\n",
        "        ax.imshow(np.squeeze(img), cmap='gray')\n",
        "        ax.get_xaxis().set_visible(False)\n",
        "        ax.get_yaxis().set_visible(False)\n"
      ],
      "execution_count": null,
      "outputs": [
        {
          "output_type": "display_data",
          "data": {
            "image/png": "[encoded data removed]",
            "text/plain": [
              "<Figure size 1800x288 with 20 Axes>"
            ]
          },
          "metadata": {
            "tags": []
          }
        }
      ]
    },
    {
      "cell_type": "markdown",
      "metadata": {
        "id": "a0IkqEj2O2PX"
      },
      "source": [
        "**Excercise 2.**\n",
        "Variational Autoencoder\n",
        "\n",
        "Now that you have built an Autoencoder, it is time to implement a Variational Autoencoder.You can use the Autoencoder you trained in the previous exercise and adapt it for this exercise. Do not forget to use the reparametrization trick for sampling from Z-space.(30%)(a) Train a Variational Autoencoder with latent dimension of size 2. Then, plot the digitswhere their associated position was in latent space similarly as explained in the lecture.(25%)(b) Plot the variance vector of the decoder for a single input as an image (in digit space;[3,28,28]). What is the interpretation of that?(25%)"
      ]
    },
    {
      "cell_type": "code",
      "metadata": {
        "id": "pHVZqtUFO1aT"
      },
      "source": [
        "# This generic form of the KL is called the monte-carlo approximation. \n",
        "# This means we sample z many times and estimate the KL divergence. \n",
        "# (in practice, these estimates are really good and with a batch size of 128 or more, the estimate is very accurate).\n",
        "\n",
        "def kl_divergence(self, z, mu, std):\n",
        "    # --------------------------\n",
        "    # Monte carlo KL divergence\n",
        "    # --------------------------\n",
        "    # 1. define the first two probabilities (in this case Normal for both)\n",
        "    p = torch.distributions.Normal(torch.zeros_like(mu), torch.ones_like(std))\n",
        "    q = torch.distributions.Normal(mu, std)\n",
        "\n",
        "    # 2. get the probabilities from the equation\n",
        "    log_qzx = q.log_prob(z)\n",
        "    log_pz = p.log_prob(z)\n",
        "\n",
        "    # kl\n",
        "    kl = (log_qzx - log_pz)\n",
        "    \n",
        "    # sum over last dim to go from single dim distribution to multi-dim\n",
        "    kl = kl.sum(-1)\n",
        "    return kl"
      ],
      "execution_count": 78,
      "outputs": []
    },
    {
      "cell_type": "markdown",
      "metadata": {
        "id": "Z6HVBwS_Wf_f"
      },
      "source": [
        "**Defining the encoder**\n",
        "As our inputs are images, it’s most reasonable to apply some convolutional transformations to them. What’s most noteworthy is the fact that we are creating two vectors in our encoder, as the encoder is supposed to create objects following a Gaussian Distribution:\n",
        "A vector of means\n",
        "A vector of standard deviations"
      ]
    },
    {
      "cell_type": "code",
      "metadata": {
        "id": "6w3IGPKtsFoU"
      },
      "source": [
        "# The loss function consists of two terms. Reconstruction loss, for which was used binary_cross_entropy, \n",
        "# in the paper was used mean squared error. And regularization loss or Kullback–Leibler divergence \n",
        "# that will force z to be a normal distribution with mean=0 and std=1.\n",
        "def loss_criterion(inputs, targets, logvar, mu):\n",
        "    # Reconstruction loss\n",
        "    bce_loss = F.binary_cross_entropy(inputs, targets, reduction=\"sum\")\n",
        "    # Regularization term\n",
        "    kl_loss = -0.5 * torch.sum(1 + logvar - mu.pow(2) - logvar.exp())\n",
        "\n",
        "    return bce_loss + kl_loss"
      ],
      "execution_count": 29,
      "outputs": []
    },
    {
      "cell_type": "code",
      "metadata": {
        "id": "RZP1GnYPcQcy"
      },
      "source": [
        "# we have to devide previous ConvAutoencoder class into to separate functional units - encoder and decoder\n",
        "\n",
        "# CONVOLUTIONAL AUTOENCODER : ENCODER, LATENT LAYER, DECODER\n",
        "\n",
        "class ConvEncoder(nn.Module):\n",
        "    def __init__(self, input_size, hidden_size):\n",
        "        super(ConvEncoder, self).__init__()\n",
        "        self.fc1 = nn.Linear(input_size, hidden_size)\n",
        "        self.fc2 = nn.Linear(hidden_size, hidden_size)\n",
        "\n",
        "    def forward(self, x):\n",
        "        p_x = F.relu(self.fc1(x))\n",
        "        p_x = F.relu(self.fc2(p_x))\n",
        "        return p_x\n",
        "\n",
        "class LatentZ(nn.Module):\n",
        "    def __init__(self, hidden_size, latent_size):\n",
        "        super(LatentZ, self).__init__()\n",
        "        self.mu = nn.Linear(hidden_size, latent_size)\n",
        "        self.logvar = nn.Linear(hidden_size, latent_size)\n",
        "\n",
        "    def forward(self, p_x):\n",
        "        mu = self.mu(p_x)\n",
        "        logvar = self.logvar(p_x)\n",
        "\n",
        "        std = torch.exp(0.5*logvar)\n",
        "        eps = torch.randn_like(std)\n",
        "\n",
        "        return std * eps + mu, logvar, mu\n",
        "\n",
        "\n",
        "class ConvDecoder(nn.Module):\n",
        "    def __init__(self, latent_size, hidden_size, input_size):\n",
        "        super().__init__()\n",
        "        self.fc1 = nn.Linear(latent_size, hidden_size)\n",
        "        self.fc2 = nn.Linear(hidden_size, input_size)\n",
        "\n",
        "    def forward(self, z_x):\n",
        "        q_x = F.relu(self.fc1(z_x))\n",
        "        q_x = torch.sigmoid(self.fc2(q_x))\n",
        "        return q_x\n",
        "\n",
        "# ================================\n",
        "######## Variational Autoencoder (VAE) to draw MNIST characters ##########\n",
        "\n",
        "class VAE(nn.Module):\n",
        "    def __init__(self, input_size, hidden_size, latent_size=2):\n",
        "        super().__init__()\n",
        "        self.input_size = input_size\n",
        "        self.hidden_size = hidden_size\n",
        "        self.latent_size = latent_size\n",
        "\n",
        "        self.encoder = ConvEncoder(input_size, hidden_size)\n",
        "        self.latent_z = LatentZ(hidden_size, latent_size)\n",
        "        self.decoder = ConvDecoder(latent_size, hidden_size, input_size)\n",
        "\n",
        "    def forward(self, x):\n",
        "        p_x = self.encoder(x)\n",
        "        z, logvar, mu = self.latent_z(p_x)\n",
        "        q_z = self.decoder(z)\n",
        "\n",
        "        return q_z, logvar, mu, z"
      ],
      "execution_count": 30,
      "outputs": []
    },
    {
      "cell_type": "code",
      "metadata": {
        "id": "yNewj2qrmkVm"
      },
      "source": [
        "class Trainer:\n",
        "    def __init__(self, model, data_loader, optimizer, device, callbacks=[]):\n",
        "        self.model = model\n",
        "        self.data_loader = data_loader\n",
        "        self.optimizer = optimizer\n",
        "        self.device = device\n",
        "        self.callbacks = callbacks\n",
        "\n",
        "    def run_train_loop(self, epochs):\n",
        "        self.model.to(self.device)  # Set model params to cpu/gpu\n",
        "        self.model.train()  # Set model to train mode\n",
        "\n",
        "        losses = []\n",
        "        for epoch in range(1, epochs+1):\n",
        "            print(\"-\" * 20)\n",
        "            print(\"Epoch {}\".format(epoch))\n",
        "\n",
        "            running_loss = 0\n",
        "            for inputs, _ in self.data_loader:\n",
        "                self.optimizer.zero_grad()\n",
        "\n",
        "                # Prepare inputs and targets\n",
        "                x = inputs.view(inputs.size(0), -1).to(self.device)\n",
        "                y = (x > 0.5).float().to(self.device)\n",
        "\n",
        "                # Forward pass\n",
        "                y_hat, logvar, mu, _ = self.model(x)\n",
        "\n",
        "                # Compute loss\n",
        "                loss = loss_criterion(y_hat, y, logvar, mu)\n",
        "\n",
        "                # Compute gradients and update weights\n",
        "                loss.backward()\n",
        "                self.optimizer.step()\n",
        "\n",
        "                running_loss += loss\n",
        "\n",
        "            epoch_loss = running_loss / len(self.data_loader)\n",
        "            losses.append(epoch_loss.item())\n",
        "            print(\"Loss: {:.4f}\".format(epoch_loss))\n",
        "\n",
        "            # On end of epoch call any callbacks\n",
        "            if self.callbacks:\n",
        "                [fn(self) for fn in self.callbacks]\n",
        "\n",
        "        return losses\n"
      ],
      "execution_count": 37,
      "outputs": []
    },
    {
      "cell_type": "code",
      "metadata": {
        "colab": {
          "base_uri": "https://localhost:8080/"
        },
        "id": "cN2D4nUHrAd5",
        "outputId": "de118871-07f2-4d67-e62c-0b6acff87351"
      },
      "source": [
        "# This block just repeats the loading of the data from above\n",
        "# because after disconnection in Google Colab from GPU (every time when I close my Laptop for example)\n",
        "# I had to scroll the whole file nd reload it. \n",
        "\n",
        "# Training params\n",
        "batch_size = 64\n",
        "lr = 0.001\n",
        "device = \"cuda\"\n",
        "\n",
        "# Model params\n",
        "input_size = 784\n",
        "hidden_size = 512\n",
        "latent_size = 10\n",
        "\n",
        "# Load data set\n",
        "dataset = datasets.MNIST('data', train=True, download=True, transform=transforms.ToTensor())\n",
        "\n",
        "# Create data loader\n",
        "data_loader = DataLoader(dataset=dataset, batch_size=batch_size)\n",
        "\n",
        "# Initialize model\n",
        "model = VAE(input_size, hidden_size, latent_size)\n",
        "\n",
        "# Initialize optimizer\n",
        "optimizer = optim.Adam(model.parameters(), lr=lr)\n",
        "\n",
        "# Initialize trainer\n",
        "trainer = Trainer(model=model,\n",
        "                  data_loader=data_loader,\n",
        "                  optimizer=optimizer,\n",
        "                  device=device)\n",
        "\n",
        "# print model structure\n",
        "print(model)\n"
      ],
      "execution_count": 59,
      "outputs": [
        {
          "output_type": "stream",
          "text": [
            "VAE(\n",
            "  (encoder): ConvEncoder(\n",
            "    (fc1): Linear(in_features=784, out_features=512, bias=True)\n",
            "    (fc2): Linear(in_features=512, out_features=512, bias=True)\n",
            "  )\n",
            "  (latent_z): LatentZ(\n",
            "    (mu): Linear(in_features=512, out_features=10, bias=True)\n",
            "    (logvar): Linear(in_features=512, out_features=10, bias=True)\n",
            "  )\n",
            "  (decoder): ConvDecoder(\n",
            "    (fc1): Linear(in_features=10, out_features=512, bias=True)\n",
            "    (fc2): Linear(in_features=512, out_features=784, bias=True)\n",
            "  )\n",
            ")\n"
          ],
          "name": "stdout"
        }
      ]
    },
    {
      "cell_type": "code",
      "metadata": {
        "colab": {
          "base_uri": "https://localhost:8080/"
        },
        "id": "p2yfpjLMropy",
        "outputId": "493a91a8-db45-4b14-f9bb-64c42824273d"
      },
      "source": [
        "losses = trainer.run_train_loop(epochs=10)\n"
      ],
      "execution_count": 60,
      "outputs": [
        {
          "output_type": "stream",
          "text": [
            "--------------------\n",
            "Epoch 1\n",
            "Loss: 9334.0400\n",
            "--------------------\n",
            "Epoch 2\n",
            "Loss: 7161.6836\n",
            "--------------------\n",
            "Epoch 3\n",
            "Loss: 6821.5337\n",
            "--------------------\n",
            "Epoch 4\n",
            "Loss: 6633.8164\n",
            "--------------------\n",
            "Epoch 5\n",
            "Loss: 6523.2827\n",
            "--------------------\n",
            "Epoch 6\n",
            "Loss: 6430.4272\n",
            "--------------------\n",
            "Epoch 7\n",
            "Loss: 6355.0854\n",
            "--------------------\n",
            "Epoch 8\n",
            "Loss: 6288.3506\n",
            "--------------------\n",
            "Epoch 9\n",
            "Loss: 6238.8857\n",
            "--------------------\n",
            "Epoch 10\n",
            "Loss: 6188.6636\n"
          ],
          "name": "stdout"
        }
      ]
    },
    {
      "cell_type": "code",
      "metadata": {
        "colab": {
          "base_uri": "https://localhost:8080/",
          "height": 294
        },
        "id": "9SCZpbPHzQrE",
        "outputId": "6cba885f-c35c-4e54-ae95-fb72faa15b74"
      },
      "source": [
        "plt.plot(np.arange(len(losses)), losses)\n",
        "plt.title(\"Training\")\n",
        "plt.xlabel('Epochs')\n",
        "plt.ylabel('Loss')\n",
        "plt.show()"
      ],
      "execution_count": 61,
      "outputs": [
        {
          "output_type": "display_data",
          "data": {
            "image/png": "[encoded data removed]",
            "text/plain": [
              "<Figure size 432x288 with 1 Axes>"
            ]
          },
          "metadata": {
            "tags": [],
            "needs_background": "light"
          }
        }
      ]
    },
    {
      "cell_type": "code",
      "metadata": {
        "colab": {
          "base_uri": "https://localhost:8080/",
          "height": 272
        },
        "id": "MqFoYbz9svxq",
        "outputId": "0051a30c-2e16-40b1-ab8e-ca9031921468"
      },
      "source": [
        "# Load data set\n",
        "testset = datasets.MNIST('data', train=False, download=True, transform=transforms.ToTensor())\n",
        "\n",
        "# Create data loader\n",
        "test_loader = DataLoader(dataset=testset, batch_size=batch_size)\n",
        "\n",
        "# obtain one batch of test images\n",
        "dataiter = iter(test_loader)\n",
        "images, labels = dataiter.next()\n",
        "\n",
        "images = images.cuda()\n",
        "labels = labels.cuda()\n",
        "\n",
        "images_flatten = images.view(images.size(0), -1)\n",
        "# get sample outputs\n",
        "output = model(images_flatten)\n",
        "# prep images for display\n",
        "images = images.cpu().numpy()\n",
        "\n",
        "# output is resized into a batch of images\n",
        "output = output[0].view(batch_size, 1, 28, 28)\n",
        "# use detach when it's an output that requires_grad\n",
        "output = output.cpu().detach().numpy()\n",
        "\n",
        "# plot the first ten input images and then reconstructed images\n",
        "fig, axes = plt.subplots(nrows=2, ncols=10, sharex=True, sharey=True, figsize=(25,4))\n",
        "\n",
        "# input images on top row, reconstructions on bottom\n",
        "for images, row in zip([images, output], axes):\n",
        "    for img, ax in zip(images, row):\n",
        "        ax.imshow(np.squeeze(img), cmap='gray')\n",
        "        ax.get_xaxis().set_visible(False)\n",
        "        ax.get_yaxis().set_visible(False)\n",
        "\n"
      ],
      "execution_count": 48,
      "outputs": [
        {
          "output_type": "display_data",
          "data": {
            "image/png": "[encoded data removed]",
            "text/plain": [
              "<Figure size 1800x288 with 20 Axes>"
            ]
          },
          "metadata": {
            "tags": [],
            "needs_background": "light"
          }
        }
      ]
    },
    {
      "cell_type": "code",
      "metadata": {
        "colab": {
          "base_uri": "https://localhost:8080/"
        },
        "id": "dK_KlCjWvTm4",
        "outputId": "a7b3a1c4-b26c-463e-d613-26d356a75077"
      },
      "source": [
        "# Finally repeat everything for 2D Laten Space\n",
        "\n",
        "# Training params\n",
        "batch_size = 64\n",
        "lr = 0.001\n",
        "device = \"cuda\"\n",
        "\n",
        "# Model params\n",
        "input_size = 784\n",
        "hidden_size = 512\n",
        "latent_size = 2\n",
        "\n",
        "# Initialize optimizer\n",
        "optimizer = optim.Adam(model.parameters(), lr=lr)\n",
        "\n",
        "# Initialize trainer\n",
        "trainer = Trainer(model=model,\n",
        "                  data_loader=data_loader,\n",
        "                  optimizer=optimizer,\n",
        "                  device=device)\n",
        "\n",
        "# Initialize model\n",
        "model = VAE(input_size, hidden_size, latent_size)\n",
        "model.cuda()\n",
        "\n",
        "# new train phase\n",
        "losses = trainer.run_train_loop(epochs=10)\n",
        "\n"
      ],
      "execution_count": 55,
      "outputs": [
        {
          "output_type": "stream",
          "text": [
            "--------------------\n",
            "Epoch 1\n",
            "Loss: 11318.6934\n",
            "--------------------\n",
            "Epoch 2\n",
            "Loss: 10228.3740\n",
            "--------------------\n",
            "Epoch 3\n",
            "Loss: 9973.1084\n",
            "--------------------\n",
            "Epoch 4\n",
            "Loss: 9837.8428\n",
            "--------------------\n",
            "Epoch 5\n",
            "Loss: 9724.4766\n",
            "--------------------\n",
            "Epoch 6\n",
            "Loss: 9641.6826\n",
            "--------------------\n",
            "Epoch 7\n",
            "Loss: 9557.0449\n",
            "--------------------\n",
            "Epoch 8\n",
            "Loss: 9480.5840\n",
            "--------------------\n",
            "Epoch 9\n",
            "Loss: 9437.9307\n",
            "--------------------\n",
            "Epoch 10\n",
            "Loss: 9390.3682\n"
          ],
          "name": "stdout"
        }
      ]
    },
    {
      "cell_type": "code",
      "metadata": {
        "colab": {
          "base_uri": "https://localhost:8080/",
          "height": 294
        },
        "id": "4gcnQ3iFwPCO",
        "outputId": "9912d620-b531-4174-edf9-d4fe88ebd6ee"
      },
      "source": [
        "plt.plot(np.arange(len(losses)), losses)\n",
        "plt.title(\"Training\")\n",
        "plt.xlabel('Epochs')\n",
        "plt.ylabel('Loss')\n",
        "plt.show()"
      ],
      "execution_count": 56,
      "outputs": [
        {
          "output_type": "display_data",
          "data": {
            "image/png": "[encoded data removed]",
            "text/plain": [
              "<Figure size 432x288 with 1 Axes>"
            ]
          },
          "metadata": {
            "tags": [],
            "needs_background": "light"
          }
        }
      ]
    },
    {
      "cell_type": "code",
      "metadata": {
        "id": "C74gqQuXwT8H"
      },
      "source": [
        "# Load data set\n",
        "testset = datasets.MNIST('data', train=False, download=True, transform=transforms.ToTensor())\n",
        "\n",
        "# Create data loader\n",
        "test_loader = DataLoader(dataset=testset, batch_size=batch_size)\n",
        "\n",
        "# obtain one batch of test images\n",
        "dataiter = iter(test_loader)\n",
        "images, labels = dataiter.next()\n",
        "\n",
        "images = images.cuda()\n",
        "labels = labels.cuda()\n",
        "\n",
        "images_flatten = images.view(images.size(0), -1)\n",
        "# get sample outputs\n",
        "output = model(images_flatten)\n",
        "# prep images for display\n",
        "images = images.cpu().numpy()\n",
        "\n",
        "# output is resized into a batch of images\n",
        "output = output[0].view(batch_size, 1, 28, 28)\n",
        "# use detach when it's an output that requires_grad\n",
        "output = output.cpu().detach().numpy()\n",
        "\n",
        "# plot the first ten input images and then reconstructed images\n",
        "fig, axes = plt.subplots(nrows=2, ncols=10, sharex=True, sharey=True, figsize=(25,4))\n",
        "\n",
        "# input images on top row, reconstructions on bottom\n",
        "for images, row in zip([images, output], axes):\n",
        "    for img, ax in zip(images, row):\n",
        "        ax.imshow(np.squeeze(img), cmap='gray')\n",
        "        ax.get_xaxis().set_visible(False)\n",
        "        ax.get_yaxis().set_visible(False)"
      ],
      "execution_count": null,
      "outputs": []
    }
  ]
}