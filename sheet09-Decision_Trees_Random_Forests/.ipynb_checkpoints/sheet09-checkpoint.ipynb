{
 "cells": [
  {
   "cell_type": "markdown",
   "metadata": {},
   "source": [
    "# Decision Trees, Random Forests, Boosting (100 P)\n",
    "\n",
    "The goal of this homework is to extend decision trees, using (1) random forests or (2) boosting. For this, we will make use of an existing decision tree implementation (available in `scikit-learn`), that we can then reuse for implementing the two models of interest. As a first step, we download a simple two-dimensional classification dataset: the Iris data. The following code loads the data and retains only the first two input dimensions so that the problem can be easily visualized."
   ]
  },
  {
   "cell_type": "code",
   "execution_count": 10,
   "metadata": {},
   "outputs": [],
   "source": [
    "import sklearn,sklearn.datasets\n",
    "iris = sklearn.datasets.load_iris()\n",
    "X,T = iris.data[:,:2],iris.target"
   ]
  },
  {
   "cell_type": "markdown",
   "metadata": {},
   "source": [
    "The function `plot_iris` from the modules `utils.py` takes as input a classification function mapping a data matrix containing the two input features for each data point a vector representing the classification of each data point. Then, the `plot_iris` function plots the decision function in superposition to the Iris dataset. In the example below, the prediction function assigns to each data point the output 0 (corresponding to the first class, shown in red)."
   ]
  },
  {
   "cell_type": "code",
   "execution_count": 11,
   "metadata": {},
   "outputs": [
    {
     "data": {
      "image/png": "[encoded data removed]",
      "text/plain": [
       "<Figure size 288x180 with 1 Axes>"
      ]
     },
     "metadata": {
      "needs_background": "light"
     },
     "output_type": "display_data"
    }
   ],
   "source": [
    "%matplotlib inline\n",
    "import numpy,utils\n",
    "utils.plot_iris(X,T,lambda X: numpy.dot(X,[0,0]))"
   ]
  },
  {
   "cell_type": "markdown",
   "metadata": {},
   "source": [
    "## Decision Trees\n",
    "\n",
    "We now consider the decision tree classifier readily available in `scikit-learn`. We use the default parameters of the classifier and only specify its the maximum tree depth."
   ]
  },
  {
   "cell_type": "code",
   "execution_count": 12,
   "metadata": {},
   "outputs": [],
   "source": [
    "import sklearn.tree\n",
    "classifier = sklearn.tree.DecisionTreeClassifier(max_depth=5)"
   ]
  },
  {
   "cell_type": "markdown",
   "metadata": {},
   "source": [
    "In order to test the prediction accuracy of the classifier, one needs to split the dataset into a training and test set. The function `utils.split` achieves this by assigning a random 50% of the data for training and the remaining 50% for testing."
   ]
  },
  {
   "cell_type": "code",
   "execution_count": 13,
   "metadata": {},
   "outputs": [],
   "source": [
    "(Xtrain,Ttrain),(Xtest,Ttest) = utils.split(X,T)"
   ]
  },
  {
   "cell_type": "markdown",
   "metadata": {},
   "source": [
    "Once the splitting is done, the training data can be used to fit the classifier. The learned prediction function and the test data are then sent to the Iris plotting function to visualize the classifier."
   ]
  },
  {
   "cell_type": "code",
   "execution_count": 14,
   "metadata": {},
   "outputs": [
    {
     "data": {
      "image/png": "[encoded data removed]",
      "text/plain": [
       "<Figure size 288x180 with 1 Axes>"
      ]
     },
     "metadata": {
      "needs_background": "light"
     },
     "output_type": "display_data"
    }
   ],
   "source": [
    "classifier.fit(Xtrain,Ttrain)\n",
    "utils.plot_iris(Xtest,Ttest,classifier.predict)"
   ]
  },
  {
   "cell_type": "markdown",
   "metadata": {},
   "source": [
    "Here, the classifier does a reasonable job at classifying the data, although the decision boundaries are a bit too rectangular, and somewhat unnatural."
   ]
  },
  {
   "cell_type": "markdown",
   "metadata": {},
   "source": [
    "## Random Forest Classifier (30 P)\n",
    "\n",
    "We would like to now compare the decision boundary of the decision tree with the one obtained with a random forest classifier. We consider a random forest composed of 100 trees. Each tree is trained on 50% subset of the training set. (Hint: The function `utils.split` can be called with seeds from 0 to 100 in order to build these random subsets.) The prediction function should implement a majority voting between each tree in the forest. Voting ties do not need to be handled in a particular way."
   ]
  },
  {
   "cell_type": "markdown",
   "metadata": {},
   "source": [
    " * **Implement the `fit` and `predict` functions of the random forest classifier below**"
   ]
  },
  {
   "cell_type": "code",
   "execution_count": 27,
   "metadata": {},
   "outputs": [],
   "source": [
    "import numpy as np\n",
    "import pandas as pd\n",
    "n_cl = 3 # 3 Iris classes\n",
    "\n",
    "class RandomForestClassifier:\n",
    "    \n",
    "    def __init__(self):\n",
    "        self.trees = [sklearn.tree.DecisionTreeClassifier(max_depth=5)\n",
    "                      for _ in range(100)]\n",
    "    \n",
    "    def fit(self,X,y):\n",
    "        # -------------------------------\n",
    "        # TODO: replace by your solution\n",
    "        #print(self.trees)\n",
    "        i = 0\n",
    "        for tree in self.trees:\n",
    "            (Xtrain, Ttrain), (_, _) = utils.split(X, y, i)\n",
    "            tree.fit(Xtrain, Ttrain)\n",
    "            i += 1\n",
    "        # -------------------------------\n",
    "        \n",
    "    def predict(self,X):\n",
    "        # -------------------------------\n",
    "        # TODO: replace by your solution\n",
    "        # Version 1\n",
    "        #preds = np.array([tree.predict(X) for tree in self.trees])\n",
    "        #preds = np.mean(preds, axis=0)\n",
    "        #return preds\n",
    "        \n",
    "        # Version 2 \n",
    "        na = np.newaxis\n",
    "        C = self.trees[0].predict(X)\n",
    "        # make it as row vector by inserting an axis along first dimension\n",
    "        C = C[:,na]\n",
    "        \n",
    "        for i in range(1, 100):\n",
    "            Cn = self.trees[i].predict(X)\n",
    "            # numpy.append(arr, values, axis=None)\n",
    "            C = np.append(C, Cn[:,na], axis=1)\n",
    "        \n",
    "        # majority voting\n",
    "        C00 = (C == 0).sum(axis=1)\n",
    "        C01 = (C == 1).sum(axis=1)\n",
    "        C02 = (C == 2).sum(axis=1)\n",
    "        Co = np.append(np.append(C00[:,na], C01[:,na], axis=1), C02[:,na], axis=1)\n",
    "    \n",
    "        \n",
    "        return Co.argmax(axis=1)\n",
    "        # -------------------------------"
   ]
  },
  {
   "cell_type": "markdown",
   "metadata": {},
   "source": [
    "The code below runs the random forest classifier on the same dataset as before."
   ]
  },
  {
   "cell_type": "code",
   "execution_count": 28,
   "metadata": {},
   "outputs": [
    {
     "data": {
      "image/png": "[encoded data removed]",
      "text/plain": [
       "<Figure size 288x180 with 1 Axes>"
      ]
     },
     "metadata": {
      "needs_background": "light"
     },
     "output_type": "display_data"
    }
   ],
   "source": [
    "cl = RandomForestClassifier()\n",
    "\n",
    "(Xtrain,Ttrain),(Xtest,Ttest) = utils.split(X,T)\n",
    "cl.fit(Xtrain,Ttrain)\n",
    "utils.plot_iris(Xtest,Ttest,cl.predict)"
   ]
  },
  {
   "cell_type": "markdown",
   "metadata": {},
   "source": [
    "Unlike the decision boundary obtained by a single decision tree, the random forest tends to produce more curved and natural-looking decision functions."
   ]
  },
  {
   "cell_type": "markdown",
   "metadata": {},
   "source": [
    "## Quantitative Experiments\n",
    "\n",
    "We now focus on understanding more quantitatively the effect on the model accuracy of choosing different models and their parameters. For this, we switch to the regression case, and consider two different datasets also available in `scikit-learn`, the boston dataset, and the diabetes dataset."
   ]
  },
  {
   "cell_type": "code",
   "execution_count": 17,
   "metadata": {},
   "outputs": [],
   "source": [
    "boston   = sklearn.datasets.load_boston()\n",
    "diabetes = sklearn.datasets.load_diabetes()"
   ]
  },
  {
   "cell_type": "markdown",
   "metadata": {},
   "source": [
    "The file `utils.py` provides a method `benchmark`, that tests the performance of a model on 100 different train/test splits, and returns the average training and test performance scores. For regression task, the performance score is given by the R2 coefficient of determination (see here https://en.wikipedia.org/wiki/Coefficient_of_determination). A score of \"1\" is optimal. A score of \"0\" is essentially random guessing."
   ]
  },
  {
   "cell_type": "code",
   "execution_count": 18,
   "metadata": {},
   "outputs": [
    {
     "name": "stdout",
     "output_type": "stream",
     "text": [
      "training: 0.938 | test score: 0.726\n"
     ]
    }
   ],
   "source": [
    "regressor = sklearn.tree.DecisionTreeRegressor(max_depth=5)\n",
    "strain,stest = utils.benchmark(regressor,boston)\n",
    "print('training: %.3f | test score: %.3f'%(strain,stest))"
   ]
  },
  {
   "cell_type": "markdown",
   "metadata": {},
   "source": [
    "In the example above, the test data is predicted fairly well with a coefficient determination above 0.7. Furthermore, we can investigate the effect of depth on the decision tree:"
   ]
  },
  {
   "cell_type": "code",
   "execution_count": 19,
   "metadata": {},
   "outputs": [
    {
     "name": "stdout",
     "output_type": "stream",
     "text": [
      "depth: 1 | training score: 0.479 | test score: 0.382\n",
      "depth: 2 | training score: 0.717 | test score: 0.630\n",
      "depth: 3 | training score: 0.835 | test score: 0.683\n",
      "depth: 4 | training score: 0.904 | test score: 0.720\n",
      "depth: 5 | training score: 0.938 | test score: 0.733\n",
      "depth: 6 | training score: 0.962 | test score: 0.722\n",
      "depth: 7 | training score: 0.976 | test score: 0.715\n",
      "depth: 8 | training score: 0.986 | test score: 0.712\n",
      "depth: 9 | training score: 0.992 | test score: 0.711\n"
     ]
    }
   ],
   "source": [
    "for d in range(1,10):\n",
    "    regressor = sklearn.tree.DecisionTreeRegressor(max_depth=d)\n",
    "    strain,stest = utils.benchmark(regressor,boston)\n",
    "    print('depth: %d | training score: %.3f | test score: %.3f'%\n",
    "                                                 (d,strain,stest))"
   ]
  },
  {
   "cell_type": "markdown",
   "metadata": {},
   "source": [
    "Although the training error keeps increasing, the test error saturates once a depth of 5 has been reached. The same experiment can be performed on the diabetes dataset:"
   ]
  },
  {
   "cell_type": "code",
   "execution_count": 20,
   "metadata": {},
   "outputs": [
    {
     "name": "stdout",
     "output_type": "stream",
     "text": [
      "depth: 1 | training score: 0.319 | test score: 0.220\n",
      "depth: 2 | training score: 0.462 | test score: 0.334\n",
      "depth: 3 | training score: 0.557 | test score: 0.315\n",
      "depth: 4 | training score: 0.649 | test score: 0.255\n",
      "depth: 5 | training score: 0.739 | test score: 0.185\n",
      "depth: 6 | training score: 0.820 | test score: 0.105\n",
      "depth: 7 | training score: 0.884 | test score: 0.046\n",
      "depth: 8 | training score: 0.930 | test score: -0.009\n",
      "depth: 9 | training score: 0.960 | test score: -0.041\n"
     ]
    }
   ],
   "source": [
    "for d in range(1,10):\n",
    "    regressor = sklearn.tree.DecisionTreeRegressor(max_depth=d)\n",
    "    strain,stest = utils.benchmark(regressor,diabetes)\n",
    "    print('depth: %d | training score: %.3f | test score: %.3f'%\n",
    "                                                  (d,strain,stest))"
   ]
  },
  {
   "cell_type": "markdown",
   "metadata": {},
   "source": [
    "Here, the best depth is just 2, and the model quality seriously degrades as we continue growing the tree. This is the result of overfitting, i.e. as we make the model closer to the data (bias reduction), we are also become highly sensitive to noise in the data and in the sampling process (variance increase)."
   ]
  },
  {
   "cell_type": "markdown",
   "metadata": {},
   "source": [
    "## Implementing a Random Forest Regressor (30 P)\n",
    "\n",
    "One way of reducing variance is to average a large number of models. This is the idea of random forests. Here, we consider a random forest regressor. Like for the random forest classifier, each tree is grown on a random subset of the training set containing only half of the examples. As in the first exercise, the function `utils.split` can be used to generate these subsets. Because we are now implementing a regression model, we replace the majority voting by a simple averaging of the prediction of the different trees. The implementation below inherits some useful methods from the class `sklearn.base.RegressorMixin` in particular the function `score` measuring the coefficient of determination, which therefore does not need to be reimplemented.\n",
    "\n",
    " * **Implement the `fit` and `predict` functions of the random forest regressor below.**"
   ]
  },
  {
   "cell_type": "code",
   "execution_count": 34,
   "metadata": {},
   "outputs": [],
   "source": [
    "class RandomForestRegressor(sklearn.base.RegressorMixin):\n",
    "    \n",
    "    def __init__(self,max_depth=None,nb_trees=10):\n",
    "        self.trees = [sklearn.tree.DecisionTreeRegressor(max_depth=max_depth)\n",
    "                      for _ in range(nb_trees)]\n",
    "    \n",
    "    def fit(self,X,y):\n",
    "        # -------------------------------\n",
    "        # TODO: replace by your solution\n",
    "        # -------------------------------\n",
    "        i = 0\n",
    "        for tree in self.trees:\n",
    "            (Xtrain, Ttrain), (_, _) = utils.split(X, y, i)\n",
    "            tree.fit(Xtrain, Ttrain)\n",
    "            i += 1\n",
    "        # -------------------------------\n",
    "        \n",
    "    def predict(self,X):\n",
    "        # -------------------------------\n",
    "        # TODO: replace by your solution\n",
    "        # -------------------------------\n",
    "        na = np.newaxis\n",
    "        C = self.trees[0].predict(X)\n",
    "        # make it as row vector by inserting an axis along first dimension\n",
    "        C = C[:,na]\n",
    "        \n",
    "        for tree in self.trees:\n",
    "            Cn = tree.predict(X)\n",
    "            C = np.append(C, Cn[:,na], axis=1)\n",
    "            \n",
    "        # np.mean always computes an arithmetic mean, and has some additional options for input and output\n",
    "        # np.average can compute a weighted average if the weights parameter is supplied.\n",
    "        return np.mean(C, axis=1)\n",
    "        # -------------------------------"
   ]
  },
  {
   "cell_type": "markdown",
   "metadata": {},
   "source": [
    "To check whether the random forest brings an improvement over the simple decision tree algorithm, we select the best decision tree obtained so far (`d=7`), and compare its accuracy to our random forest regressor. Here, because of the averaging effect of the random forest, we can afford higher depths, for example, `d=9`. The code below test the performance of random forests of increasingly many trees."
   ]
  },
  {
   "cell_type": "code",
   "execution_count": 35,
   "metadata": {},
   "outputs": [
    {
     "name": "stdout",
     "output_type": "stream",
     "text": [
      "decision tree (optimal depth): | train: 0.976 | test: 0.719\n",
      "random forest with  1 tree(s): | train: 0.810 | test: 0.640\n",
      "random forest with  2 tree(s): | train: 0.874 | test: 0.730\n",
      "random forest with  4 tree(s): | train: 0.917 | test: 0.787\n",
      "random forest with  8 tree(s): | train: 0.936 | test: 0.811\n",
      "random forest with 16 tree(s): | train: 0.947 | test: 0.827\n",
      "random forest with 32 tree(s): | train: 0.951 | test: 0.831\n"
     ]
    }
   ],
   "source": [
    "# Benchmark for baseline decision tree model\n",
    "regressor = sklearn.tree.DecisionTreeRegressor(max_depth=7)\n",
    "strain,stest = utils.benchmark(regressor,boston)\n",
    "print(\"decision tree (optimal depth): | train: %.3f | test: %.3f\"%\n",
    "      (strain,stest))\n",
    "\n",
    "# Benchmark for the random forest model with a growing number of trees\n",
    "for nb_trees in [1,2,4,8,16,32]:\n",
    "    regressor = RandomForestRegressor(max_depth=9,nb_trees=nb_trees)\n",
    "    strain,stest = utils.benchmark(regressor,boston)\n",
    "    print(\"random forest with %2d tree(s): | train: %.3f | test: %.3f\"%\n",
    "          (nb_trees,strain,stest))"
   ]
  },
  {
   "cell_type": "markdown",
   "metadata": {},
   "source": [
    "As it can be observed from the results above, the test scores of a random forest are much better. Due to their high performance, random forests are often used in practical applications."
   ]
  },
  {
   "cell_type": "markdown",
   "metadata": {},
   "source": [
    "## Implementing a Simple Boosted Tree Regressor (40 P)\n",
    "\n",
    "Another extension to the simple decision tree regressor, is the boosted tree regressor. Here, instead of averaging a large number of trees grown from randomly sampled data, the extra trees serve to predict what the previous trees failed to predict, i.e. the residual error. Technically, the variant of the boosted tree regressor we consider here is defined as follows:\n",
    "\n",
    "Let $F_k(x) = f_1(x) + f_2(x) + \\dots + f_k(x)$ be the prediction of a boosted regressor with $k$ trees, and some ground truth function $y(x)$, the next boosted regressor adds an additional decision tree $f_{k+1}(x)$ trained on the residual function $r(x) = y(x) - F_k(x)$, and the resulting boosted classifier becomes $F_{k+1}(x) = f_1(x) + f_2(x) + \\dots + f_k(x) + f_{k+1}(x)$.\n",
    "\n",
    "* **Implement the methods `fit` and `predict` of the simple boosted regression tree below.**"
   ]
  },
  {
   "cell_type": "code",
   "execution_count": null,
   "metadata": {},
   "outputs": [],
   "source": [
    "class SimpleBoostedTreeRegressor(sklearn.base.RegressorMixin):\n",
    "    \n",
    "    def __init__(self,max_depth=None,nb_trees=10):\n",
    "        self.trees = [sklearn.tree.DecisionTreeRegressor(max_depth=max_depth)\n",
    "                      for _ in range(nb_trees)]\n",
    "    \n",
    "    def fit(self,X,y):\n",
    "        # -------------------------------\n",
    "        # TODO: replace by your solution\n",
    "        # -------------------------------\n",
    "        for tree in self.trees:\n",
    "            tree.fit(X, y)\n",
    "            y = y - tree.predict(X)\n",
    "        # -------------------------------\n",
    "        \n",
    "    def predict(self,X):\n",
    "        # -------------------------------\n",
    "        # TODO: replace by your solution\n",
    "        # -------------------------------\n",
    "        y = np.zeros(X.shape[0])\n",
    "        for tree in self.trees:\n",
    "            y += tree.predict(X)\n",
    "        return y\n",
    "        # -------------------------------"
   ]
  },
  {
   "cell_type": "markdown",
   "metadata": {},
   "source": [
    "The code below compares the boosted tree regressor to the simple decision tree on the diabetes dataset. Here, we use for the decision tree a depth 2, that yields maximum accuracy on this dataset. As boosting allows to grows complex decisions from weak regressors, we set maximum tree depth to 1."
   ]
  },
  {
   "cell_type": "code",
   "execution_count": null,
   "metadata": {},
   "outputs": [],
   "source": [
    "# Benchmark for baseline decision tree model\n",
    "regressor = sklearn.tree.DecisionTreeRegressor(max_depth=2)\n",
    "strain,stest = utils.benchmark(regressor,diabetes)\n",
    "print(\"decision tree (optimal depth): | train: %.3f | test: %.3f\"%\n",
    "      (strain,stest))\n",
    "\n",
    "# Benchmark for the boosted tree regressor model with a growing number of trees\n",
    "for nb_trees in [1,2,4,8,16,32,64]:\n",
    "    regressor = SimpleBoostedTreeRegressor(max_depth=1,nb_trees=nb_trees)\n",
    "    strain,stest = utils.benchmark(regressor,diabetes)\n",
    "    print(\"boosting with %2d trees(s):     | train: %.3f | test: %.3f\"%\n",
    "          (nb_trees,strain,stest))"
   ]
  },
  {
   "cell_type": "markdown",
   "metadata": {},
   "source": [
    "Like for the random forests, the boosted tree regressor also brings an improvement compared to the simple decision tree. Note that adding too many trees may still cause overfitting (here, a good number of trees is 16). If we would like to include more trees, an even weaker base model should be used if available."
   ]
  },
  {
   "cell_type": "markdown",
   "metadata": {},
   "source": [
    "### Dependency of regression performance on model complexity\n",
    "\n",
    "Finally, we can study how the performance of each model depends on the tree depth. In this last experiment, the number of trees in the random forest and boosted model are kept fixed, and the tree depth is varied. Experiments are performed for all datasets and algorithms and results are shown as plots."
   ]
  },
  {
   "cell_type": "code",
   "execution_count": null,
   "metadata": {},
   "outputs": [],
   "source": [
    "depths     = [1,2,3,4,5,6,7,8]\n",
    "datasets   = [boston,diabetes]\n",
    "names      = ['boston','diabetes']\n",
    "algorithms = [sklearn.tree.DecisionTreeRegressor,\n",
    "              RandomForestRegressor,\n",
    "              SimpleBoostedTreeRegressor]\n",
    "\n",
    "from matplotlib import pyplot as plt\n",
    "\n",
    "for dataset,name in zip(datasets,names):\n",
    "    plt.figure()\n",
    "    plt.title(name)\n",
    "    \n",
    "    for algorithm in algorithms:\n",
    "        \n",
    "        acc = [utils.benchmark(algorithm(max_depth=i),dataset)[1]\n",
    "               for i in depths]\n",
    "        \n",
    "        plt.plot(depths,acc,'o-',label=algorithm.__name__)\n",
    "\n",
    "    plt.grid(True)\n",
    "    plt.xlabel('tree depth')\n",
    "    plt.ylabel('coefficient of determination')\n",
    "    plt.legend(loc='lower right')\n",
    "    plt.show()"
   ]
  },
  {
   "cell_type": "markdown",
   "metadata": {},
   "source": [
    "It can be observed that the random forest method tends to prefer deep trees. Indeed, the variance increase caused by deeper trees is countered by the averaging mechanism. Conversely, the boosting algorithm prefers small trees as it is able to build complex models even from simple weak regressors."
   ]
  }
 ],
 "metadata": {
  "kernelspec": {
   "display_name": "Python 3",
   "language": "python",
   "name": "python3"
  },
  "language_info": {
   "codemirror_mode": {
    "name": "ipython",
    "version": 3
   },
   "file_extension": ".py",
   "mimetype": "text/x-python",
   "name": "python",
   "nbconvert_exporter": "python",
   "pygments_lexer": "ipython3",
   "version": "3.7.0"
  }
 },
 "nbformat": 4,
 "nbformat_minor": 1
}
