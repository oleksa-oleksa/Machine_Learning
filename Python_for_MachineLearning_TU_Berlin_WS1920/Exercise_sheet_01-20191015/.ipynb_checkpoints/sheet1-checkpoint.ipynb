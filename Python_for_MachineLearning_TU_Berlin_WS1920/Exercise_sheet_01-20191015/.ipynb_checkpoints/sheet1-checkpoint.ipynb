{
 "cells": [
  {
   "cell_type": "markdown",
   "metadata": {},
   "source": [
    "## Before submitting\n",
    "1. Before you turn this problem in, make sure everything runs as expected. First, **restart the kernel** (in the menubar, select Kernel$\\rightarrow$Restart) and then **run all cells** (in the menubar, select Cell$\\rightarrow$Run All).\n",
    "\n",
    "2. Make sure that no assertions fail or exceptions occur, otherwise points will be subtracted.\n",
    "\n",
    "3. After you submit the notebook more tests will be run on your code. The fact that no assertions fail on your computer localy does not guarantee that completed the exercise correctly.\n",
    "\n",
    "4. Please submit only the `*.ipynb` file.\n",
    "\n",
    "5. Make sure you fill in any place that says `YOUR CODE HERE` or \"YOUR ANSWER HERE\". Edit only between `YOUR CODE HERE` and `END YOUR CODE`.\n",
    "\n",
    "6. Make sure to use Python 3, not Python 2.\n",
    "\n",
    "Fill your group name and collaborators below:"
   ]
  },
  {
   "cell_type": "code",
   "execution_count": 1,
   "metadata": {},
   "outputs": [],
   "source": [
    "GROUPNAME = \"\"\n",
    "COLLABORATORS = \"\""
   ]
  },
  {
   "cell_type": "markdown",
   "metadata": {},
   "source": [
    "---"
   ]
  },
  {
   "cell_type": "markdown",
   "metadata": {},
   "source": [
    "# Exercise Sheet 1: Python Basics\n",
    "\n",
    "This first  exercise sheet tests the basic functionalities of the Python programming language in the context of a simple prediction task. We consider the problem of predicting health risk of subjects from personal data and habits. We first use for this task a decision tree\n",
    "\n",
    "![](tree.png)\n",
    "\n",
    "adapted from the webpage http://www.refactorthis.net/post/2013/04/10/Machine-Learning-tutorial-How-to-create-a-decision-tree-in-RapidMiner-using-the-Titanic-passenger-data-set.aspx. For this exercise sheet, you are required to use only pure Python, and to not import any module, including numpy. In exercise sheet 2, the nearest neighbor part of this exercise sheet will be revisited with numpy."
   ]
  },
  {
   "cell_type": "markdown",
   "metadata": {},
   "source": [
    "## Classifying a single instance (15 P)\n",
    "\n",
    "* In this sheet we will represent patient info as a tuple.\n",
    "* Create a function that takes as input a tuple containing values for attributes (smoker,age,diet), and computes the output of the decision tree. Should return `\"less\"` or `\"more\"`.\n",
    "* Test your function on the tuple `('yes', 31, 'good')`."
   ]
  },
  {
   "cell_type": "code",
   "execution_count": 2,
   "metadata": {
    "deletable": false,
    "nbgrader": {
     "cell_type": "code",
     "checksum": "d8d056d1c918c56bbe8d9d079dc3afb3",
     "grade": false,
     "grade_id": "cell-b66d7278bc313c94",
     "locked": false,
     "schema_version": 3,
     "solution": true
    }
   },
   "outputs": [],
   "source": [
    "def decision(x):\n",
    "    '''\n",
    "    This function implements the decision tree represented above. As input the function \n",
    "    receives a tuple with three values that represent some information about a patient.\n",
    "    Args:\n",
    "        x (tuple): Input tuple containing exactly three values\n",
    "        val1 (string): If a patient is a smoker this value will be 'yes'. All other values \n",
    "            represent that the patient is not a smoker\n",
    "        val2 (int): The age of a patient as an integer\n",
    "        val3 (string): If a patient has a good diet this string will be 'good'. All other\n",
    "            values represent that the patient has a poor diet.\n",
    "    Returns:\n",
    "        string: A string that has either the value 'more' or 'less'. No other return value is valid.\n",
    "                        \n",
    "    '''\n",
    "    # >>>>> YOUR CODE HERE\n",
    "    if x[0] == 'yes':\n",
    "        if x[1] < 29.5:\n",
    "            return 'less'\n",
    "        else:\n",
    "            return 'more'\n",
    "    elif x[2] == 'good':\n",
    "        return 'less'\n",
    "    else:\n",
    "        return 'more'\n",
    "    # <<<<< END YOUR CODE"
   ]
  },
  {
   "cell_type": "code",
   "execution_count": 3,
   "metadata": {
    "deletable": false,
    "editable": false,
    "nbgrader": {
     "cell_type": "code",
     "checksum": "c0559abdef335108b9edbb4ea3011c4c",
     "grade": true,
     "grade_id": "cell-c31b80471db3132f",
     "locked": true,
     "points": 15,
     "schema_version": 3,
     "solution": false
    }
   },
   "outputs": [],
   "source": [
    "# Test\n",
    "x = ('yes', 31, 'good')\n",
    "assert decision(x) == 'more'\n"
   ]
  },
  {
   "cell_type": "code",
   "execution_count": null,
   "metadata": {
    "deletable": false,
    "editable": false,
    "nbgrader": {
     "cell_type": "code",
     "checksum": "4625c2e8a89628e9e90c93121e210005",
     "grade": true,
     "grade_id": "cell-a706e6de3303d3e7",
     "locked": true,
     "points": 0,
     "schema_version": 3,
     "solution": false,
     "task": false
    }
   },
   "outputs": [],
   "source": []
  },
  {
   "cell_type": "markdown",
   "metadata": {},
   "source": [
    "## Reading a dataset from a text file (10 P)\n",
    "\n",
    "The file `health-test.txt` contains several fictious records of personal data and habits.\n",
    "\n",
    "* Read the file automatically using the methods introduced during the lecture.\n",
    "* Represent the dataset as a list of tuples. Make sure that the tuples have the same format as above, e.g. `('yes', 31, 'good')`.\n",
    "* Make sure that you close the file after you have opened it and read its content.\n",
    "\n",
    "**Notes**: \n",
    "* Values read from files are always strings.\n",
    "* Each line contains a newline `\\n` character at the end"
   ]
  },
  {
   "cell_type": "code",
   "execution_count": 4,
   "metadata": {
    "deletable": false,
    "nbgrader": {
     "cell_type": "code",
     "checksum": "d3f4e1bd95acc5f163f909654a3aaf5d",
     "grade": false,
     "grade_id": "cell-c1a8bc4c0e4ccb26",
     "locked": false,
     "schema_version": 3,
     "solution": true
    }
   },
   "outputs": [],
   "source": [
    "def parse_line_test(line: str):\n",
    "    '''\n",
    "    Takes a line from the file and parses it into a a patient tuple\n",
    "    \n",
    "    Args:\n",
    "        line (str): A line from the `health-test.txt` file\n",
    "    Returns:\n",
    "        tuple: A tuple representing a patient \n",
    "    '''\n",
    "    # >>>>> YOUR CODE HERE\n",
    "    tmp = line.rstrip().split(\",\")\n",
    "    return (tmp[0], int(tmp[1]), tmp[2])\n",
    "    # <<<<< END YOUR CODE\n",
    "\n",
    "def gettest():\n",
    "    '''\n",
    "    Opens the `health-test.txt` file and parses it  into \n",
    "    a list of patient tuples. You can use the `parse_line_test` function\n",
    "    but it is not necessary to do so.\n",
    "    \n",
    "    Returns:\n",
    "        list: A list of patient tuples\n",
    "    '''\n",
    "    # >>>>> YOUR CODE HERE\n",
    "    with open('health-test.txt','r') as f:\n",
    "        result = list()\n",
    "        for line in f:    \n",
    "            tmp = parse_line_test(line)\n",
    "            result.append(tmp)\n",
    "        return result\n",
    "    # <<<<< END YOUR CODE"
   ]
  },
  {
   "cell_type": "code",
   "execution_count": 5,
   "metadata": {
    "deletable": false,
    "editable": false,
    "nbgrader": {
     "cell_type": "code",
     "checksum": "423a882d05f6e0bff6fd0a3ecfbbdf8e",
     "grade": true,
     "grade_id": "cell-4e1f7ad1e66b3121",
     "locked": true,
     "points": 5,
     "schema_version": 3,
     "solution": false
    }
   },
   "outputs": [],
   "source": [
    "parsed_line = parse_line_test('yes,23,good\\n')\n",
    "assert isinstance(parsed_line, tuple)\n",
    "assert isinstance(parsed_line[1], int)\n"
   ]
  },
  {
   "cell_type": "code",
   "execution_count": null,
   "metadata": {
    "deletable": false,
    "editable": false,
    "nbgrader": {
     "cell_type": "code",
     "checksum": "138e93c9a0f762ed40e3a8c9c9b4afed",
     "grade": true,
     "grade_id": "cell-0ed341eaf90d76a6",
     "locked": true,
     "points": 0,
     "schema_version": 3,
     "solution": false,
     "task": false
    }
   },
   "outputs": [],
   "source": []
  },
  {
   "cell_type": "code",
   "execution_count": 6,
   "metadata": {
    "deletable": false,
    "editable": false,
    "nbgrader": {
     "cell_type": "code",
     "checksum": "82c14a2bf8fabb796dd6ca5ce1783bde",
     "grade": true,
     "grade_id": "cell-ab1b01fcaac26cd5",
     "locked": true,
     "points": 5,
     "schema_version": 3,
     "solution": false,
     "task": false
    }
   },
   "outputs": [],
   "source": [
    "testset = gettest()\n",
    "assert isinstance(testset, list)\n",
    "assert isinstance(testset[0], tuple)"
   ]
  },
  {
   "cell_type": "code",
   "execution_count": null,
   "metadata": {
    "deletable": false,
    "editable": false,
    "nbgrader": {
     "cell_type": "code",
     "checksum": "af085c78fabb2dd2a5554070151fbc23",
     "grade": true,
     "grade_id": "cell-42b0a5cad68fc15a",
     "locked": true,
     "points": 0,
     "schema_version": 3,
     "solution": false,
     "task": false
    }
   },
   "outputs": [],
   "source": []
  },
  {
   "cell_type": "markdown",
   "metadata": {},
   "source": [
    "## Applying the decision tree to the dataset (15 P)\n",
    "\n",
    "* Apply the decision tree to all points in the dataset, and return the ratio of them that are classified as \"more\".\n",
    "* A ratio is a value in [0-1]. So if out of 50 data points 15 return `\"more\"` the value that should be returned is `0.3`"
   ]
  },
  {
   "cell_type": "code",
   "execution_count": 7,
   "metadata": {
    "deletable": false,
    "nbgrader": {
     "cell_type": "code",
     "checksum": "76cfcb71c479f779871513b770a22d87",
     "grade": false,
     "grade_id": "cell-6703ef98e2b5c93b",
     "locked": false,
     "schema_version": 3,
     "solution": true
    }
   },
   "outputs": [],
   "source": [
    "def evaluate_testset():\n",
    "    '''\n",
    "    Every time this function is called the dataset is loaded. \n",
    "    \n",
    "    Returns:\n",
    "        float: The percentage of data points for which your implemented decision tree returns `'more'`\n",
    "    '''\n",
    "    # >>>>> YOUR CODE HERE\n",
    "    results = list()\n",
    "    data = gettest()\n",
    "    for x in data:\n",
    "        str = decision(x)\n",
    "        if str == 'more':\n",
    "            results.append(str)\n",
    "    # results.append(for x in data if decision(x) == srt 'more')\n",
    "    return len(results)/len(data)\n",
    "    # <<<<< END YOUR CODE"
   ]
  },
  {
   "cell_type": "code",
   "execution_count": 8,
   "metadata": {
    "deletable": false,
    "editable": false,
    "nbgrader": {
     "cell_type": "code",
     "checksum": "675f9c7043fb56cf7bab07cc3b308387",
     "grade": true,
     "grade_id": "cell-c13a0b23c9faba52",
     "locked": true,
     "points": 15,
     "schema_version": 3,
     "solution": false
    }
   },
   "outputs": [],
   "source": [
    "ratio = evaluate_testset()\n",
    "assert isinstance(ratio, float)\n",
    "assert 0.0 <= ratio <= 1.0\n"
   ]
  },
  {
   "cell_type": "markdown",
   "metadata": {},
   "source": [
    "## Learning from examples (10 P)\n",
    "\n",
    "Suppose that instead of relying on a fixed decision tree, we would like to use a data-driven approach where data points are classified based on a set of training observations manually labeled by experts. Such labeled dataset is available in the file `health-train.txt`. The first three columns have the same meaning than for `health-test.txt`, and the last column corresponds to the labels.\n",
    "\n",
    "* Write a function that reads this file and converts it into a list of pairs. The first element of each pair is a triplet of attributes, and the second element is the label.\n",
    "\n",
    "**Note**: A triplet is a tuple that contains exactly three values, a pair is a tuple that contains exactly two values"
   ]
  },
  {
   "cell_type": "code",
   "execution_count": 9,
   "metadata": {
    "deletable": false,
    "nbgrader": {
     "cell_type": "code",
     "checksum": "d87d897604de8f7fac0d28ad01a5de44",
     "grade": false,
     "grade_id": "cell-fc38ed11fee6fbeb",
     "locked": false,
     "schema_version": 3,
     "solution": true
    }
   },
   "outputs": [],
   "source": [
    "def parse_line_train(line: str):\n",
    "    '''\n",
    "    This function works similarly to the `parse_line_test` function.\n",
    "    It parses a line of the `health-train.txt` file into a tuple that \n",
    "    contains a patient tuple and a label.\n",
    "    \n",
    "    Args:\n",
    "        line (str): A line from the `health-train.txt`\n",
    "    \n",
    "    Returns: \n",
    "        tuple: A tuple that contains a patient tuple and a label as a string\n",
    "    '''\n",
    "    # >>>>> YOUR CODE HERE\n",
    "    # split() method returns a list of strings after breaking the given string by the specified separator.\n",
    "    # rstrip() method returns a copy of the string with trailing characters removed\n",
    "    tmp = line.rstrip().split(\",\")\n",
    "    return ((tmp[0], int(tmp[1]), tmp[2]), tmp[3])\n",
    "    # <<<<< END YOUR CODE\n",
    "\n",
    "def gettrain():\n",
    "    # >>>>> YOUR CODE HERE\n",
    "    with open('health-train.txt','r') as f:\n",
    "        result = list()\n",
    "        for line in f:    \n",
    "            tmp = parse_line_train(line)\n",
    "            result.append(tmp)\n",
    "        return result\n",
    "    # <<<<< END YOUR CODE\n"
   ]
  },
  {
   "cell_type": "code",
   "execution_count": 10,
   "metadata": {
    "deletable": false,
    "editable": false,
    "nbgrader": {
     "cell_type": "code",
     "checksum": "d41088dc402882b69a96f14b81828ce7",
     "grade": true,
     "grade_id": "cell-b97620858b167c0d",
     "locked": true,
     "points": 5,
     "schema_version": 3,
     "solution": false,
     "task": false
    }
   },
   "outputs": [],
   "source": [
    "parsed_line = parse_line_train('yes,67,poor,more\\n')\n",
    "assert isinstance(parsed_line, tuple)\n",
    "assert isinstance(parsed_line[0], tuple)\n",
    "assert isinstance(parsed_line[1], str)\n",
    "assert parsed_line[0][1] == 67\n"
   ]
  },
  {
   "cell_type": "code",
   "execution_count": null,
   "metadata": {
    "deletable": false,
    "editable": false,
    "nbgrader": {
     "cell_type": "code",
     "checksum": "1262795901b1e5803c9bbfc0e95b3e41",
     "grade": true,
     "grade_id": "cell-ced9925599b5dd99",
     "locked": true,
     "points": 0,
     "schema_version": 3,
     "solution": false,
     "task": false
    }
   },
   "outputs": [],
   "source": []
  },
  {
   "cell_type": "code",
   "execution_count": 11,
   "metadata": {
    "deletable": false,
    "editable": false,
    "nbgrader": {
     "cell_type": "code",
     "checksum": "f75d4f52c24ad870e9d6d73d6a49e266",
     "grade": true,
     "grade_id": "cell-a3d593f232e0403a",
     "locked": true,
     "points": 5,
     "schema_version": 3,
     "solution": false
    }
   },
   "outputs": [],
   "source": [
    "trainset = gettrain()\n",
    "assert isinstance(trainset, list)\n",
    "assert isinstance(trainset[0], tuple)\n",
    "assert isinstance(trainset[0][0], tuple)\n",
    "assert isinstance(trainset[0][1], str)"
   ]
  },
  {
   "cell_type": "code",
   "execution_count": null,
   "metadata": {
    "deletable": false,
    "editable": false,
    "nbgrader": {
     "cell_type": "code",
     "checksum": "07f67e42e49cfcac57a77f4c1f0f1656",
     "grade": true,
     "grade_id": "cell-7ab8ef2c931d69c1",
     "locked": true,
     "points": 0,
     "schema_version": 3,
     "solution": false,
     "task": false
    }
   },
   "outputs": [],
   "source": []
  },
  {
   "cell_type": "markdown",
   "metadata": {},
   "source": [
    "## Nearest neighbor classifier (25 P)\n",
    "\n",
    "We consider the nearest neighbor algorithm that classifies test points following the label of the nearest neighbor in the training data. For this, we need to define a distance function between data points. We define it to be\n",
    "\n",
    "`distance(a, b) = (a[0] != b[0]) + ((a[1] - b[1]) / 50.0) ** 2 + (a[2] != b[2])`\n",
    "\n",
    "where `a` and `b` are two tuples corrsponding to the attributes of two data points.\n",
    "\n",
    "* Write a function that retrieves for a test point the nearest neighbor in the training set, and classifies the test point accordingly (i.e. returns the label of the nearest data point).\n",
    "* Test your function on the tuple `('yes', 31, 'good')`\n",
    "\n",
    "**Note**: You can use the special `infinity` floating point value with `float('inf')`"
   ]
  },
  {
   "cell_type": "code",
   "execution_count": 12,
   "metadata": {
    "deletable": false,
    "nbgrader": {
     "cell_type": "code",
     "checksum": "22fe5e1d0acaa4ff696a21e72347bad2",
     "grade": false,
     "grade_id": "cell-671ea24ec8a11241",
     "locked": false,
     "schema_version": 3,
     "solution": true
    }
   },
   "outputs": [],
   "source": [
    "def distance(a: tuple, b: tuple):\n",
    "    '''\n",
    "    Calculates the distance between two data points (patient tuples)\n",
    "    Args:\n",
    "        a, b (tuple): Two patient tuples for which we want to calculate the distance\n",
    "    Returns:\n",
    "        float: The distance between a, b according to the above formula\n",
    "    '''\n",
    "    # >>>>> YOUR CODE HERE\n",
    "    return (a[0] != b[0]) + ((float(a[1]) - float(b[1])) / 50.0) ** 2 + (a[2] != b[2])\n",
    "    # <<<<< END YOUR CODE\n",
    "\n",
    "def neighbor(x: tuple, trainset: list):\n",
    "    '''\n",
    "    Returns the label of the nearest data point in trainset to x.\n",
    "    So if x is `('no', 30, 'good')` and the nearest data point is `('no', 31, 'good')` with \n",
    "    label `'less'` then `'less'` will be returned \n",
    "    \n",
    "    Args: \n",
    "        x (tuple): The unknown data point for which we want to find the nearest neighbor\n",
    "        trainset (list): A list of tuples with patient tuples and a label\n",
    "        \n",
    "    Returns: \n",
    "        str: The label of the nearest data point in the trainset. Can only be 'more' or 'less'\n",
    "    '''\n",
    "    # >>>>> YOUR CODE HERE\n",
    "    result = list()\n",
    "    for t in trainset:\n",
    "        #print(x, t[0])\n",
    "        dist = distance(x, t[0])\n",
    "        result.append(dist)\n",
    "    idx = result.index(min(result))\n",
    "    #print(trainset[idx])\n",
    "    return str(trainset[idx][1])\n",
    "    # <<<<< END YOUR CODE"
   ]
  },
  {
   "cell_type": "code",
   "execution_count": 13,
   "metadata": {
    "deletable": false,
    "editable": false,
    "nbgrader": {
     "cell_type": "code",
     "checksum": "35bd7d7ec78b2096b52d1cf27c677f96",
     "grade": true,
     "grade_id": "cell-5929fce6ffc8ca0f",
     "locked": true,
     "points": 5,
     "schema_version": 3,
     "solution": false,
     "task": false
    }
   },
   "outputs": [],
   "source": [
    "# Test distance\n",
    "import math\n",
    "assert math.isclose(distance(('yes', 34, 'poor'), ('yes', 51, 'good')), 1.1156)\n"
   ]
  },
  {
   "cell_type": "code",
   "execution_count": null,
   "metadata": {
    "deletable": false,
    "editable": false,
    "nbgrader": {
     "cell_type": "code",
     "checksum": "f44bbadca40847e414910eef543b6d9a",
     "grade": true,
     "grade_id": "cell-8dc0c32bc78d1e62",
     "locked": true,
     "points": 0,
     "schema_version": 3,
     "solution": false,
     "task": false
    }
   },
   "outputs": [],
   "source": []
  },
  {
   "cell_type": "code",
   "execution_count": 14,
   "metadata": {
    "deletable": false,
    "editable": false,
    "nbgrader": {
     "cell_type": "code",
     "checksum": "bd4c215a732dd959fdb2b8db6078b7bc",
     "grade": true,
     "grade_id": "cell-a36122337853f195",
     "locked": true,
     "points": 10,
     "schema_version": 3,
     "solution": false
    }
   },
   "outputs": [],
   "source": [
    "# Test neighbor\n",
    "x = ('yes', 31, 'good')\n",
    "assert neighbor(x, gettrain()) == 'more'\n"
   ]
  },
  {
   "cell_type": "code",
   "execution_count": null,
   "metadata": {
    "deletable": false,
    "editable": false,
    "nbgrader": {
     "cell_type": "code",
     "checksum": "be1fe8634e017c120059b06bd2447675",
     "grade": true,
     "grade_id": "cell-cbf6ddfbfaab7875",
     "locked": true,
     "points": 0,
     "schema_version": 3,
     "solution": false,
     "task": false
    }
   },
   "outputs": [],
   "source": []
  },
  {
   "cell_type": "markdown",
   "metadata": {},
   "source": [
    "* Apply both the decision tree and nearest neighbor classifiers on the test set, and return the list of data point(s) for which the two classifiers disagree, and with which probability it happens.\n",
    "* A data point should look like above, e.g. `('yes', 31, 'good')`."
   ]
  },
  {
   "cell_type": "code",
   "execution_count": 15,
   "metadata": {
    "deletable": false,
    "nbgrader": {
     "cell_type": "code",
     "checksum": "c1e6721af75ba2abcc8a6d4a5a283494",
     "grade": false,
     "grade_id": "cell-8dbf7da153f3d797",
     "locked": false,
     "schema_version": 3,
     "solution": true
    }
   },
   "outputs": [],
   "source": [
    "def compare_classifiers():\n",
    "    '''\n",
    "    This function compares the two classification methods by finding all the datapoints for which \n",
    "    the methods disagree\n",
    "    \n",
    "    This function doesn't receive any arguments so the test-dataset will be loaded from\n",
    "    within the function\n",
    "    \n",
    "    Returns:\n",
    "        list: A list containing all the data points which yield different results for the two\n",
    "            classification methods.\n",
    "        float: The percentage of data points for which the two methods disagree.\n",
    "    \n",
    "    '''\n",
    "    # >>>>> YOUR CODE HERE\n",
    "    dt = list()\n",
    "    nn = list()\n",
    "    Xdisagree = list()\n",
    "    \n",
    "    testest = gettest()\n",
    "    trainset = gettrain()\n",
    "    # Testing the decision tree classifier\n",
    "    for x in testset:\n",
    "        dt.append(decision(x))\n",
    "    \n",
    "    # Testing the nearest neighbor classifier\n",
    "    for x in testset:\n",
    "        nn.append(neighbor(x, trainset))\n",
    "    \n",
    "    # Xdisagree.append([i for i, j in zip(dt, nn) if i != j])\n",
    "    Xdisagree = [i for i, j in zip(dt, nn) if i != j]\n",
    "    probability = len(Xdisagree) / len(testset)\n",
    "    # <<<<< END YOUR CODE\n",
    "    return Xdisagree, probability"
   ]
  },
  {
   "cell_type": "code",
   "execution_count": 16,
   "metadata": {
    "deletable": false,
    "editable": false,
    "nbgrader": {
     "cell_type": "code",
     "checksum": "7d32b236740c82f1856e8fbc075754ae",
     "grade": true,
     "grade_id": "cell-3b55f7e89ad4dfeb",
     "locked": true,
     "points": 10,
     "schema_version": 3,
     "solution": false
    }
   },
   "outputs": [],
   "source": [
    "Xdisagree, probability = compare_classifiers()\n",
    "assert isinstance(Xdisagree, list)\n",
    "assert 0.0 <= probability <= 1.0"
   ]
  },
  {
   "cell_type": "markdown",
   "metadata": {},
   "source": [
    "One problem of simple nearest neighbors is that one needs to compare the point to predict to all data points in the training set. This can be slow for datasets of thousands of points or more. Alternatively, some classifiers train a model first, and then use it to classify the data.\n",
    "\n",
    "## Nearest mean classifier (25 P)\n",
    "\n",
    "We consider one such trainable model, which operates in two steps:\n",
    "\n",
    "(1) Compute the average point for each class, (2) classify new points to be of the class whose average point is nearest to the point to predict.\n",
    "\n",
    "For this classifier, we convert the attributes smoker and diet to real values (for smoker: yes=1.0 and no=0.0, and for diet: good=0.0 and poor=1.0), and use the modified distance function:\n",
    "\n",
    "`distance(a,b) = (a[0] - b[0]) ** 2 + ((a[1] - b[1]) / 50.0) ** 2 + (a[2] - b[2]) ** 2`\n",
    "\n",
    "Age will also from now on be represented as a `float`. The new data points will be referred to as numerical patient tuples. \n",
    "\n",
    "We adopt an object-oriented approach for building this classifier.\n",
    "\n",
    "* Implement the methods `train` and `predict` of the class `NearestMeanClassifier`."
   ]
  },
  {
   "cell_type": "code",
   "execution_count": 17,
   "metadata": {
    "deletable": false,
    "nbgrader": {
     "cell_type": "code",
     "checksum": "743f8e9b2b2be4477670601728377f92",
     "grade": false,
     "grade_id": "cell-e0b339bfd0fcc16c",
     "locked": false,
     "schema_version": 3,
     "solution": true
    }
   },
   "outputs": [],
   "source": [
    "class NearestMeanClassifier:\n",
    "    '''\n",
    "    This class represents a NearestMeanClassifier.\n",
    "    When an instance is trained a dataset is provided and the mean for each class is calculated.\n",
    "    During prediction the class compares the datapoint to each class mean (not all datapoints) \n",
    "        and returns the label of the class mean to which the datapoint is closest to.\n",
    "    Attributes:\n",
    "        more (tuple): A tuple representing the average of every 'more' instance in the dataset\n",
    "        less (tuple): A tuple representing the average of every 'less' instance in the dataset\n",
    "    '''\n",
    "    def train(self, dataset: list):\n",
    "        '''\n",
    "        Calculates the class means for a given dataset and stores them in class attributes. \n",
    "        Args:\n",
    "            dataset (list): A list of tuples each of them containing a numerical patient tuple and its label\n",
    "        Returns:\n",
    "            None\n",
    "        '''\n",
    "        # >>>>> YOUR CODE HERE\n",
    "        l0, l1, l2 = 0, 0, 0\n",
    "        m0, m1, m2 = 0, 0, 0\n",
    "        num_less = 0\n",
    "        num_more = 0\n",
    "        \n",
    "        for x, l in dataset:\n",
    "            if l == 'less':\n",
    "                l0 += x[0]\n",
    "                l1 += x[1]\n",
    "                l2 += x[2]\n",
    "                num_less += 1\n",
    "                \n",
    "            elif l == 'more':\n",
    "                m0 += x[0]\n",
    "                m1 += x[1]\n",
    "                m2 += x[2]\n",
    "                num_more += 1\n",
    "        \n",
    "        self.less = (l0/num_less, l1/num_less, l2/num_less)\n",
    "        self.more = (m0/num_more, m1/num_more, m2/num_more)\n",
    "        # <<<<< END YOUR CODE\n",
    "\n",
    "    def predict(self, x: tuple):\n",
    "        '''\n",
    "        Returns a prediction/label for patient tuple x. \n",
    "        The classifier compares the given data point to the mean class tuples of each class\n",
    "        and returns the label of the class to which x is the closest to (according to our distance function).\n",
    "        \n",
    "        Args: \n",
    "            x (tuple): A numerical patient tuple for which we want a prediction\n",
    "        '''\n",
    "        # >>>>> YOUR CODE HERE\n",
    "        if distance(x, self.more) < distance(x, self.less):\n",
    "            prediction = 'more'\n",
    "        else:\n",
    "            prediction = 'less'\n",
    "        # <<<<< END YOUR CODE\n",
    "        return prediction"
   ]
  },
  {
   "cell_type": "markdown",
   "metadata": {},
   "source": [
    "* Implement a function that will load the training dataset from the `health-train.txt` file and parse each line to a numerical patient tuple. You can still follow the same structure that we used before (i.e. using a `parse_line` function), however, it is not required for this exercise. \n",
    "* Build an object of class `NearestMeanClassifier`, train it on the training data, and return the mean class numerical tuple for each class."
   ]
  },
  {
   "cell_type": "code",
   "execution_count": 18,
   "metadata": {
    "deletable": false,
    "nbgrader": {
     "cell_type": "code",
     "checksum": "e25625bb485ca4f0effd836c7111eeb4",
     "grade": false,
     "grade_id": "cell-5f7f00ee83c94703",
     "locked": false,
     "schema_version": 3,
     "solution": true
    }
   },
   "outputs": [],
   "source": [
    "def gettrain_num():\n",
    "    '''\n",
    "    Parses the `health-train.txt` file into numerical patient tuples\n",
    "    \n",
    "    Returns: \n",
    "        list: A list of tuples containing numerical patient tuples and their labels\n",
    "    '''\n",
    "    # >>>>> YOUR CODE HERE\n",
    "    r = list()\n",
    "    \n",
    "    for v, l in gettrain():        \n",
    "        f1 = 1.0 if v[0] == 'yes' else 0.0\n",
    "        f2 = float(v[1])\n",
    "        f3 = 0.0 if v[2] == 'good' else 1.0\n",
    "        r.append(((f1, f2, f3), l))\n",
    "        \n",
    "    return r   \n",
    "    # <<<<< END YOUR CODE\n",
    "    \n",
    "def build_and_train():\n",
    "    '''\n",
    "    Instantiates the `NearestMeanClassifier`, trains on the training set and returns a dictionary \n",
    "    containing the numerical mean class tuple for each class in a dictionary.\n",
    "    \n",
    "    Returns:\n",
    "        dict: A dict with two keys (less, more). For each key the mean class numerical tuple is returned\n",
    "    '''\n",
    "    # >>>>> YOUR CODE HERE\n",
    "    cls = NearestMeanClassifier()\n",
    "    cls.train(gettrain_num())\n",
    "    return {\"less\" : cls.less, \"more\" : cls.more}\n",
    "    # <<<<< END YOUR CODE\n"
   ]
  },
  {
   "cell_type": "code",
   "execution_count": 19,
   "metadata": {
    "deletable": false,
    "editable": false,
    "nbgrader": {
     "cell_type": "code",
     "checksum": "b29c13813629761ec58be58fd1638001",
     "grade": true,
     "grade_id": "cell-0a0dea69eca74de7",
     "locked": true,
     "points": 5,
     "schema_version": 3,
     "solution": false,
     "task": false
    }
   },
   "outputs": [],
   "source": [
    "trainset_num = gettrain_num()\n",
    "assert isinstance(trainset_num, list)\n",
    "assert isinstance(trainset_num[0][0][0], float)\n"
   ]
  },
  {
   "cell_type": "code",
   "execution_count": null,
   "metadata": {
    "deletable": false,
    "editable": false,
    "nbgrader": {
     "cell_type": "code",
     "checksum": "1dcdf2210066d4835847e0d184a619f4",
     "grade": true,
     "grade_id": "cell-789233fd9f800e77",
     "locked": true,
     "points": 0,
     "schema_version": 3,
     "solution": false,
     "task": false
    }
   },
   "outputs": [],
   "source": []
  },
  {
   "cell_type": "code",
   "execution_count": 20,
   "metadata": {
    "deletable": false,
    "editable": false,
    "nbgrader": {
     "cell_type": "code",
     "checksum": "b89a18322c8d3ea2111b91abac5cbd1e",
     "grade": true,
     "grade_id": "cell-415891bde4cbde19",
     "locked": true,
     "points": 2,
     "schema_version": 3,
     "solution": false
    }
   },
   "outputs": [],
   "source": [
    "train_dict = build_and_train()\n",
    "assert isinstance(train_dict['less'], tuple)\n",
    "assert isinstance(train_dict['more'], tuple)"
   ]
  },
  {
   "cell_type": "code",
   "execution_count": null,
   "metadata": {
    "deletable": false,
    "editable": false,
    "nbgrader": {
     "cell_type": "code",
     "checksum": "b96825e7f12e58e0ea0124cc4317cec0",
     "grade": true,
     "grade_id": "cell-ca2d0921e96ede25",
     "locked": true,
     "points": 8,
     "schema_version": 3,
     "solution": false,
     "task": false
    }
   },
   "outputs": [],
   "source": []
  },
  {
   "cell_type": "markdown",
   "metadata": {},
   "source": [
    "* Load the test dataset into memory as a list of numerical patient tuples\n",
    "* Predict the test data using the nearest mean classifier and print all test examples for which all three classifiers (decision tree, nearest neighbor and nearest mean) agree.\n",
    "\n",
    "**Note**: Be careful that the `NearestMeanClassifier` expects the dataset in a different form, compared to the other two methods."
   ]
  },
  {
   "cell_type": "code",
   "execution_count": 21,
   "metadata": {
    "deletable": false,
    "nbgrader": {
     "cell_type": "code",
     "checksum": "bf27009a1158ab26df2c31e2c831f00a",
     "grade": false,
     "grade_id": "cell-f37f3035a32a8f85",
     "locked": false,
     "schema_version": 3,
     "solution": true
    }
   },
   "outputs": [],
   "source": [
    "def gettest_num():\n",
    "    '''\n",
    "    Parses the `health-test.txt` file into numerical patient tuples\n",
    "    \n",
    "    Returns: \n",
    "        list: A list containing numerical patient tuples, loaded from `health-test.txt`\n",
    "    '''\n",
    "    def cast(smoker, age, diet):\n",
    "        return (float(smoker == 'yes'), float(age), float(diet == 'poor'))\n",
    "\n",
    "    return [cast(*l[:-1].split(',')) for l in list(open('health-test.txt', 'r'))]\n",
    "\n",
    "def predict_test():\n",
    "    '''\n",
    "    Classifies the test set using all the methods that were developed in this sheet.\n",
    "    \n",
    "    Returns:\n",
    "        list: a list of tuples containing all the datapoints that were classfied the same by all methods, \n",
    "            as well as the predicted labels\n",
    "            \n",
    "    Example:\n",
    "    >>> predict_test()\n",
    "    [(('yes', 22, 'poor'), 'less'),\n",
    "     (('yes', 21, 'poor'), 'less'),\n",
    "     (('no', 31, 'good'), 'more')]\n",
    "     \n",
    "    This example only shows how the output should look like. The values in the tuples are completely made up\n",
    "    '''\n",
    "    # >>>>> YOUR CODE HERE\n",
    "    data_test = gettest_num()\n",
    "    bt = build_and_train()\n",
    "    model = NearestMeanClassifier()\n",
    "    model.less = bt['less']\n",
    "    model.more = bt['more']\n",
    "    \n",
    "    nn = list()\n",
    "    dt = list()\n",
    "    agreed_samples = list()\n",
    "    for x in data_test:\n",
    "        nn.append((x, model.predict(x)))\n",
    "        dt.append((x, decision(x)))\n",
    "\n",
    "    agreed_samples = [i for i, j in zip(dt, nn) if i == j]\n",
    "    print(agreed_samples)\n",
    "    # <<<<< END YOUR CODE\n",
    "    return agreed_samples\n"
   ]
  },
  {
   "cell_type": "code",
   "execution_count": 22,
   "metadata": {
    "deletable": false,
    "editable": false,
    "nbgrader": {
     "cell_type": "code",
     "checksum": "849e3974a6a9aa4e8c32ac8170c12cf6",
     "grade": true,
     "grade_id": "cell-f3656461c994dc3d",
     "locked": true,
     "points": 2,
     "schema_version": 3,
     "solution": false,
     "task": false
    }
   },
   "outputs": [],
   "source": [
    "testset_num = gettest_num()\n",
    "assert isinstance(testset_num, list)\n",
    "assert isinstance(testset_num[0], tuple)"
   ]
  },
  {
   "cell_type": "code",
   "execution_count": 23,
   "metadata": {
    "deletable": false,
    "editable": false,
    "nbgrader": {
     "cell_type": "code",
     "checksum": "0a7cdaf7eca79154e00ffe79ad824501",
     "grade": true,
     "grade_id": "cell-853c957eaaf81c28",
     "locked": true,
     "points": 8,
     "schema_version": 3,
     "solution": false
    }
   },
   "outputs": [
    {
     "name": "stdout",
     "output_type": "stream",
     "text": [
      "[((0.0, 50.0, 0.0), 'more'), ((1.0, 45.0, 1.0), 'more'), ((1.0, 51.0, 0.0), 'more'), ((0.0, 60.0, 0.0), 'more')]\n"
     ]
    }
   ],
   "source": [
    "same_predictions = predict_test()\n",
    "assert isinstance(same_predictions[0], tuple)\n",
    "assert isinstance(same_predictions[0][0], tuple)\n",
    "assert isinstance(same_predictions[0][1], str)"
   ]
  },
  {
   "cell_type": "code",
   "execution_count": null,
   "metadata": {},
   "outputs": [],
   "source": []
  }
 ],
 "metadata": {
  "kernelspec": {
   "display_name": "Python 3",
   "language": "python",
   "name": "python3"
  },
  "language_info": {
   "codemirror_mode": {
    "name": "ipython",
    "version": 3
   },
   "file_extension": ".py",
   "mimetype": "text/x-python",
   "name": "python",
   "nbconvert_exporter": "python",
   "pygments_lexer": "ipython3",
   "version": "3.7.0"
  }
 },
 "nbformat": 4,
 "nbformat_minor": 1
}
