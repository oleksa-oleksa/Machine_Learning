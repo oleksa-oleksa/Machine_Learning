{
 "cells": [
  {
   "cell_type": "code",
   "execution_count": 42,
   "metadata": {
    "id": "JiaPQ9h-URsq"
   },
   "outputs": [],
   "source": [
    "import os\n",
    "import numpy as np\n",
    "import pandas as pd\n",
    "import matplotlib\n",
    "import matplotlib.pyplot as plt\n",
    "from enum import Enum"
   ]
  },
  {
   "cell_type": "code",
   "execution_count": 43,
   "metadata": {
    "id": "RA9k0GvvURtB"
   },
   "outputs": [],
   "source": [
    "class Colors(Enum):\n",
    "    blue = '#0A85FF'\n",
    "    darkblue = '#00264D'\n",
    "    green = '#99CC00'\n",
    "    darkgreen = '#739900'"
   ]
  },
  {
   "cell_type": "code",
   "execution_count": 44,
   "metadata": {
    "id": "veSfDjzDURtL"
   },
   "outputs": [],
   "source": [
    "battleground_path = '../data/battleground-state-changes.csv'\n",
    "df = pd.read_csv(battleground_path)"
   ]
  },
  {
   "cell_type": "code",
   "execution_count": 45,
   "metadata": {
    "id": "MYQXlXm0URtT"
   },
   "outputs": [],
   "source": [
    "# Restructure data frame for easier access to Biden and Trump votes\n",
    "\n",
    "def get_candidate_votes(row):\n",
    "    if row['leading_candidate_name'] == 'Biden':\n",
    "        row['biden_votes'] = row['leading_candidate_votes']\n",
    "        row['trump_votes'] = row['trailing_candidate_votes']\n",
    "    elif row['leading_candidate_name'] == 'Trump':\n",
    "        row['biden_votes'] = row['trailing_candidate_votes']\n",
    "        row['trump_votes'] = row['leading_candidate_votes']\n",
    "    return row\n",
    "\n",
    "df = df.apply(get_candidate_votes, axis=1)"
   ]
  },
  {
   "cell_type": "code",
   "execution_count": 46,
   "metadata": {
    "colab": {
     "base_uri": "https://localhost:8080/"
    },
    "id": "9fa-LOm9KwfJ",
    "outputId": "5cfa00ef-ea56-403d-c579-f5d1b4dd0f05"
   },
   "outputs": [],
   "source": [
    "\"\"\"\n",
    "Ordinary least squares, or linear least squares, \n",
    "estimates the parameters in a regression model by minimizing the sum of the squared residuals.\n",
    "Our aim is to calculate the values m (slope) and b (y-intercept) in the equation of a line\n",
    "\n",
    "y = mx + b, Where:\n",
    "y = how far up\n",
    "x = how far along\n",
    "m = Slope or Gradient (how steep the line is)\n",
    "b = the Y Intercept (where the line crosses the Y axis)\n",
    "\n",
    "steps: https://www.mathsisfun.com/data/least-squares-regression.html\n",
    "\"\"\"\n",
    "class LinearRegression():\n",
    "        \n",
    "    def __init__(self, w=0, b=0):\n",
    "        # if slop and intercept is not given\n",
    "        # init with zeros \n",
    "        self.w = w\n",
    "        self.b = b\n",
    "\n",
    "\n",
    "    def fit(self, X, y):\n",
    "        # Define the Linear Regression here\n",
    "        squared_x = np.power(X, 2)\n",
    "        mult_xy = np.multiply(X, y)\n",
    "\n",
    "        #  Step 2: Sum all x, y, x2 and xy\n",
    "        sum_x = np.sum(X)\n",
    "        sum_y = np.sum(y)\n",
    "        sum_squared_x = np.sum(squared_x)\n",
    "        sum_mult_xy = np.sum(mult_xy)\n",
    "        \n",
    "        # Step 3: Calculate Slope m:\n",
    "        # m =  (N Σ(xy) − Σx Σy) / (N Σ(x2) − (Σx)2)\n",
    "        N = mult_xy.size\n",
    "        self.w = (N * sum_mult_xy - sum_x * sum_y) / (N * sum_squared_x -  sum_x**2)\n",
    "        \n",
    "        # Step 4: Calculate Intercept b:\n",
    "        # b =  (Σy − m Σx) / N\n",
    "        self.b = (sum_y - self.w * sum_x ) / N\n",
    "        \n",
    "    \n",
    "    def predict(self, X):\n",
    "        \"\"\" \n",
    "        Define the line here.\n",
    "        Map x to it's y coordinates. The set {(x,y) | x from input, y from output} \n",
    "        should define your line.\n",
    "        In this case x will be percentages reported like\n",
    "        np.linspace(0.94, 1, 100).reshape([-1,1]) from 94% to 100%\n",
    "        in Georgia\n",
    "        \"\"\"\n",
    "        # Step 0: slope and intercept should be calculated in fit()\n",
    "        \n",
    "        predicted_votes = []\n",
    "        \n",
    "        # Step 5: Assemble the equation of a line:\n",
    "        # y = mx + b\n",
    "\n",
    "        for x in X:\n",
    "            y = np.dot(self.w, x) + self.b\n",
    "            predicted_votes.append(y)\n",
    "            \n",
    "        return predicted_votes\n",
    "\n"
   ]
  },
  {
   "cell_type": "code",
   "execution_count": 52,
   "metadata": {
    "id": "TUAaDSMxURtZ"
   },
   "outputs": [],
   "source": [
    "def state_df(df, state_name, est_total_count, threshold):\n",
    "    \"\"\" state_name must be something like 'Pennsylvania (EV: 20)' \"\"\"\n",
    "    df_tmp = df.loc[df.state == state_name].copy()\n",
    "    df_tmp['percent_reporting'] = df_tmp['total_votes_count'] / est_total_count\n",
    "    df_tmp['trump_lead'] = (df_tmp['trump_votes'] - df_tmp['biden_votes']) / df_tmp['total_votes_count']\n",
    "    df_tmp = df_tmp.sort_values('percent_reporting', axis=0, ascending=False)\n",
    "\n",
    "    # Only view votes that were counted before *threshold* were reported\n",
    "    df_tmp = df_tmp[df_tmp['percent_reporting'] <= threshold]\n",
    "\n",
    "    X = df_tmp['percent_reporting'].to_numpy().reshape([-1, 1])\n",
    "    y = df_tmp['trump_lead'].to_numpy()\n",
    "    # Fit X to y using Linear Regression\n",
    "    linear_tmp = LinearRegression()\n",
    "    linear_tmp.fit(X, y)\n",
    "    return linear_tmp, df_tmp"
   ]
  },
  {
   "cell_type": "markdown",
   "metadata": {
    "id": "tcT3hCJUQOQ8"
   },
   "source": [
    "At what percentage of reported votes will Biden lead over Trump?"
   ]
  },
  {
   "cell_type": "code",
   "execution_count": 53,
   "metadata": {},
   "outputs": [],
   "source": [
    "def plot_state(lin_model, df_local, sub_ax, state_name, est_count, threshold):\n",
    "    sub_ax.scatter(df_local['percent_reporting'] * 100, df_local['trump_lead'] * 100, marker='x', s=100, color=Colors.blue.value)\n",
    "    x = np.linspace(0.8, 1, 100).reshape([-1,1])\n",
    "    y = lin_model.predict(x)\n",
    "    sub_ax.set_xlim([85, 100])\n",
    "    sub_ax.set_xticks(range(80, 101, 2))\n",
    "    sub_ax.plot(x * 100, y * 100, linestyle='--', color=Colors.darkblue.value)\n",
    "    sub_ax.hlines(y=0, xmin=80, xmax=100, linestyle='--', color='black')\n",
    "    sub_ax.set_title(f'{state_name.split(\" (\")[0]} (Expected total vote = {int(est_count):,d})')\n",
    "    sub_ax.set_xlabel(\"Percentage reported\")"
   ]
  },
  {
   "cell_type": "code",
   "execution_count": 54,
   "metadata": {},
   "outputs": [
    {
     "ename": "ValueError",
     "evalue": "x and y must have same first dimension, but have shapes (100, 1) and (10000, 1)",
     "output_type": "error",
     "traceback": [
      "\u001b[0;31m---------------------------------------------------------------------------\u001b[0m",
      "\u001b[0;31mValueError\u001b[0m                                Traceback (most recent call last)",
      "\u001b[0;32m<ipython-input-54-b7eac9183ff7>\u001b[0m in \u001b[0;36m<module>\u001b[0;34m\u001b[0m\n\u001b[1;32m     13\u001b[0m \u001b[0;32mfor\u001b[0m \u001b[0mi\u001b[0m\u001b[0;34m,\u001b[0m \u001b[0mstate_info\u001b[0m \u001b[0;32min\u001b[0m \u001b[0menumerate\u001b[0m\u001b[0;34m(\u001b[0m\u001b[0mstate_infos\u001b[0m\u001b[0;34m)\u001b[0m\u001b[0;34m:\u001b[0m\u001b[0;34m\u001b[0m\u001b[0m\n\u001b[1;32m     14\u001b[0m     \u001b[0mlin_model\u001b[0m\u001b[0;34m,\u001b[0m \u001b[0mdf_tmp\u001b[0m \u001b[0;34m=\u001b[0m \u001b[0mstate_df\u001b[0m\u001b[0;34m(\u001b[0m\u001b[0mdf\u001b[0m\u001b[0;34m,\u001b[0m \u001b[0;34m*\u001b[0m\u001b[0mstate_info\u001b[0m\u001b[0;34m)\u001b[0m\u001b[0;34m\u001b[0m\u001b[0m\n\u001b[0;32m---> 15\u001b[0;31m     \u001b[0mplot_state\u001b[0m\u001b[0;34m(\u001b[0m\u001b[0mlin_model\u001b[0m\u001b[0;34m,\u001b[0m \u001b[0mdf_tmp\u001b[0m\u001b[0;34m,\u001b[0m \u001b[0max\u001b[0m\u001b[0;34m[\u001b[0m\u001b[0mi\u001b[0m\u001b[0;34m//\u001b[0m\u001b[0;36m2\u001b[0m\u001b[0;34m,\u001b[0m \u001b[0mi\u001b[0m\u001b[0;34m%\u001b[0m\u001b[0;36m2\u001b[0m\u001b[0;34m]\u001b[0m\u001b[0;34m,\u001b[0m \u001b[0;34m*\u001b[0m\u001b[0mstate_info\u001b[0m\u001b[0;34m)\u001b[0m\u001b[0;34m\u001b[0m\u001b[0m\n\u001b[0m\u001b[1;32m     16\u001b[0m     \u001b[0mprint\u001b[0m\u001b[0;34m(\u001b[0m\u001b[0;34mf'Estimated Biden lead at 100% votes counted in {state_info[0].split(\" (\")[0]:15s}: {-lin_model.predict(1.0) * 100}%'\u001b[0m\u001b[0;34m)\u001b[0m\u001b[0;34m\u001b[0m\u001b[0m\n",
      "\u001b[0;32m<ipython-input-53-aa14199d7137>\u001b[0m in \u001b[0;36mplot_state\u001b[0;34m(lin_model, df_local, sub_ax, state_name, est_count, threshold)\u001b[0m\n\u001b[1;32m      5\u001b[0m     \u001b[0msub_ax\u001b[0m\u001b[0;34m.\u001b[0m\u001b[0mset_xlim\u001b[0m\u001b[0;34m(\u001b[0m\u001b[0;34m[\u001b[0m\u001b[0;36m85\u001b[0m\u001b[0;34m,\u001b[0m \u001b[0;36m100\u001b[0m\u001b[0;34m]\u001b[0m\u001b[0;34m)\u001b[0m\u001b[0;34m\u001b[0m\u001b[0m\n\u001b[1;32m      6\u001b[0m     \u001b[0msub_ax\u001b[0m\u001b[0;34m.\u001b[0m\u001b[0mset_xticks\u001b[0m\u001b[0;34m(\u001b[0m\u001b[0mrange\u001b[0m\u001b[0;34m(\u001b[0m\u001b[0;36m80\u001b[0m\u001b[0;34m,\u001b[0m \u001b[0;36m101\u001b[0m\u001b[0;34m,\u001b[0m \u001b[0;36m2\u001b[0m\u001b[0;34m)\u001b[0m\u001b[0;34m)\u001b[0m\u001b[0;34m\u001b[0m\u001b[0m\n\u001b[0;32m----> 7\u001b[0;31m     \u001b[0msub_ax\u001b[0m\u001b[0;34m.\u001b[0m\u001b[0mplot\u001b[0m\u001b[0;34m(\u001b[0m\u001b[0mx\u001b[0m \u001b[0;34m*\u001b[0m \u001b[0;36m100\u001b[0m\u001b[0;34m,\u001b[0m \u001b[0my\u001b[0m \u001b[0;34m*\u001b[0m \u001b[0;36m100\u001b[0m\u001b[0;34m,\u001b[0m \u001b[0mlinestyle\u001b[0m\u001b[0;34m=\u001b[0m\u001b[0;34m'--'\u001b[0m\u001b[0;34m,\u001b[0m \u001b[0mcolor\u001b[0m\u001b[0;34m=\u001b[0m\u001b[0mColors\u001b[0m\u001b[0;34m.\u001b[0m\u001b[0mdarkblue\u001b[0m\u001b[0;34m.\u001b[0m\u001b[0mvalue\u001b[0m\u001b[0;34m)\u001b[0m\u001b[0;34m\u001b[0m\u001b[0m\n\u001b[0m\u001b[1;32m      8\u001b[0m     \u001b[0msub_ax\u001b[0m\u001b[0;34m.\u001b[0m\u001b[0mhlines\u001b[0m\u001b[0;34m(\u001b[0m\u001b[0my\u001b[0m\u001b[0;34m=\u001b[0m\u001b[0;36m0\u001b[0m\u001b[0;34m,\u001b[0m \u001b[0mxmin\u001b[0m\u001b[0;34m=\u001b[0m\u001b[0;36m80\u001b[0m\u001b[0;34m,\u001b[0m \u001b[0mxmax\u001b[0m\u001b[0;34m=\u001b[0m\u001b[0;36m100\u001b[0m\u001b[0;34m,\u001b[0m \u001b[0mlinestyle\u001b[0m\u001b[0;34m=\u001b[0m\u001b[0;34m'--'\u001b[0m\u001b[0;34m,\u001b[0m \u001b[0mcolor\u001b[0m\u001b[0;34m=\u001b[0m\u001b[0;34m'black'\u001b[0m\u001b[0;34m)\u001b[0m\u001b[0;34m\u001b[0m\u001b[0m\n\u001b[1;32m      9\u001b[0m     \u001b[0msub_ax\u001b[0m\u001b[0;34m.\u001b[0m\u001b[0mset_title\u001b[0m\u001b[0;34m(\u001b[0m\u001b[0;34mf'{state_name.split(\" (\")[0]} (Expected total vote = {int(est_count):,d})'\u001b[0m\u001b[0;34m)\u001b[0m\u001b[0;34m\u001b[0m\u001b[0m\n",
      "\u001b[0;32m/Library/Frameworks/Python.framework/Versions/3.7/lib/python3.7/site-packages/matplotlib/axes/_axes.py\u001b[0m in \u001b[0;36mplot\u001b[0;34m(self, scalex, scaley, data, *args, **kwargs)\u001b[0m\n\u001b[1;32m   1664\u001b[0m         \"\"\"\n\u001b[1;32m   1665\u001b[0m         \u001b[0mkwargs\u001b[0m \u001b[0;34m=\u001b[0m \u001b[0mcbook\u001b[0m\u001b[0;34m.\u001b[0m\u001b[0mnormalize_kwargs\u001b[0m\u001b[0;34m(\u001b[0m\u001b[0mkwargs\u001b[0m\u001b[0;34m,\u001b[0m \u001b[0mmlines\u001b[0m\u001b[0;34m.\u001b[0m\u001b[0mLine2D\u001b[0m\u001b[0;34m.\u001b[0m\u001b[0m_alias_map\u001b[0m\u001b[0;34m)\u001b[0m\u001b[0;34m\u001b[0m\u001b[0m\n\u001b[0;32m-> 1666\u001b[0;31m         \u001b[0mlines\u001b[0m \u001b[0;34m=\u001b[0m \u001b[0;34m[\u001b[0m\u001b[0;34m*\u001b[0m\u001b[0mself\u001b[0m\u001b[0;34m.\u001b[0m\u001b[0m_get_lines\u001b[0m\u001b[0;34m(\u001b[0m\u001b[0;34m*\u001b[0m\u001b[0margs\u001b[0m\u001b[0;34m,\u001b[0m \u001b[0mdata\u001b[0m\u001b[0;34m=\u001b[0m\u001b[0mdata\u001b[0m\u001b[0;34m,\u001b[0m \u001b[0;34m**\u001b[0m\u001b[0mkwargs\u001b[0m\u001b[0;34m)\u001b[0m\u001b[0;34m]\u001b[0m\u001b[0;34m\u001b[0m\u001b[0m\n\u001b[0m\u001b[1;32m   1667\u001b[0m         \u001b[0;32mfor\u001b[0m \u001b[0mline\u001b[0m \u001b[0;32min\u001b[0m \u001b[0mlines\u001b[0m\u001b[0;34m:\u001b[0m\u001b[0;34m\u001b[0m\u001b[0m\n\u001b[1;32m   1668\u001b[0m             \u001b[0mself\u001b[0m\u001b[0;34m.\u001b[0m\u001b[0madd_line\u001b[0m\u001b[0;34m(\u001b[0m\u001b[0mline\u001b[0m\u001b[0;34m)\u001b[0m\u001b[0;34m\u001b[0m\u001b[0m\n",
      "\u001b[0;32m/Library/Frameworks/Python.framework/Versions/3.7/lib/python3.7/site-packages/matplotlib/axes/_base.py\u001b[0m in \u001b[0;36m__call__\u001b[0;34m(self, *args, **kwargs)\u001b[0m\n\u001b[1;32m    223\u001b[0m                 \u001b[0mthis\u001b[0m \u001b[0;34m+=\u001b[0m \u001b[0margs\u001b[0m\u001b[0;34m[\u001b[0m\u001b[0;36m0\u001b[0m\u001b[0;34m]\u001b[0m\u001b[0;34m,\u001b[0m\u001b[0;34m\u001b[0m\u001b[0m\n\u001b[1;32m    224\u001b[0m                 \u001b[0margs\u001b[0m \u001b[0;34m=\u001b[0m \u001b[0margs\u001b[0m\u001b[0;34m[\u001b[0m\u001b[0;36m1\u001b[0m\u001b[0;34m:\u001b[0m\u001b[0;34m]\u001b[0m\u001b[0;34m\u001b[0m\u001b[0m\n\u001b[0;32m--> 225\u001b[0;31m             \u001b[0;32myield\u001b[0m \u001b[0;32mfrom\u001b[0m \u001b[0mself\u001b[0m\u001b[0;34m.\u001b[0m\u001b[0m_plot_args\u001b[0m\u001b[0;34m(\u001b[0m\u001b[0mthis\u001b[0m\u001b[0;34m,\u001b[0m \u001b[0mkwargs\u001b[0m\u001b[0;34m)\u001b[0m\u001b[0;34m\u001b[0m\u001b[0m\n\u001b[0m\u001b[1;32m    226\u001b[0m \u001b[0;34m\u001b[0m\u001b[0m\n\u001b[1;32m    227\u001b[0m     \u001b[0;32mdef\u001b[0m \u001b[0mget_next_color\u001b[0m\u001b[0;34m(\u001b[0m\u001b[0mself\u001b[0m\u001b[0;34m)\u001b[0m\u001b[0;34m:\u001b[0m\u001b[0;34m\u001b[0m\u001b[0m\n",
      "\u001b[0;32m/Library/Frameworks/Python.framework/Versions/3.7/lib/python3.7/site-packages/matplotlib/axes/_base.py\u001b[0m in \u001b[0;36m_plot_args\u001b[0;34m(self, tup, kwargs)\u001b[0m\n\u001b[1;32m    389\u001b[0m             \u001b[0mx\u001b[0m\u001b[0;34m,\u001b[0m \u001b[0my\u001b[0m \u001b[0;34m=\u001b[0m \u001b[0mindex_of\u001b[0m\u001b[0;34m(\u001b[0m\u001b[0mtup\u001b[0m\u001b[0;34m[\u001b[0m\u001b[0;34m-\u001b[0m\u001b[0;36m1\u001b[0m\u001b[0;34m]\u001b[0m\u001b[0;34m)\u001b[0m\u001b[0;34m\u001b[0m\u001b[0m\n\u001b[1;32m    390\u001b[0m \u001b[0;34m\u001b[0m\u001b[0m\n\u001b[0;32m--> 391\u001b[0;31m         \u001b[0mx\u001b[0m\u001b[0;34m,\u001b[0m \u001b[0my\u001b[0m \u001b[0;34m=\u001b[0m \u001b[0mself\u001b[0m\u001b[0;34m.\u001b[0m\u001b[0m_xy_from_xy\u001b[0m\u001b[0;34m(\u001b[0m\u001b[0mx\u001b[0m\u001b[0;34m,\u001b[0m \u001b[0my\u001b[0m\u001b[0;34m)\u001b[0m\u001b[0;34m\u001b[0m\u001b[0m\n\u001b[0m\u001b[1;32m    392\u001b[0m \u001b[0;34m\u001b[0m\u001b[0m\n\u001b[1;32m    393\u001b[0m         \u001b[0;32mif\u001b[0m \u001b[0mself\u001b[0m\u001b[0;34m.\u001b[0m\u001b[0mcommand\u001b[0m \u001b[0;34m==\u001b[0m \u001b[0;34m'plot'\u001b[0m\u001b[0;34m:\u001b[0m\u001b[0;34m\u001b[0m\u001b[0m\n",
      "\u001b[0;32m/Library/Frameworks/Python.framework/Versions/3.7/lib/python3.7/site-packages/matplotlib/axes/_base.py\u001b[0m in \u001b[0;36m_xy_from_xy\u001b[0;34m(self, x, y)\u001b[0m\n\u001b[1;32m    268\u001b[0m         \u001b[0;32mif\u001b[0m \u001b[0mx\u001b[0m\u001b[0;34m.\u001b[0m\u001b[0mshape\u001b[0m\u001b[0;34m[\u001b[0m\u001b[0;36m0\u001b[0m\u001b[0;34m]\u001b[0m \u001b[0;34m!=\u001b[0m \u001b[0my\u001b[0m\u001b[0;34m.\u001b[0m\u001b[0mshape\u001b[0m\u001b[0;34m[\u001b[0m\u001b[0;36m0\u001b[0m\u001b[0;34m]\u001b[0m\u001b[0;34m:\u001b[0m\u001b[0;34m\u001b[0m\u001b[0m\n\u001b[1;32m    269\u001b[0m             raise ValueError(\"x and y must have same first dimension, but \"\n\u001b[0;32m--> 270\u001b[0;31m                              \"have shapes {} and {}\".format(x.shape, y.shape))\n\u001b[0m\u001b[1;32m    271\u001b[0m         \u001b[0;32mif\u001b[0m \u001b[0mx\u001b[0m\u001b[0;34m.\u001b[0m\u001b[0mndim\u001b[0m \u001b[0;34m>\u001b[0m \u001b[0;36m2\u001b[0m \u001b[0;32mor\u001b[0m \u001b[0my\u001b[0m\u001b[0;34m.\u001b[0m\u001b[0mndim\u001b[0m \u001b[0;34m>\u001b[0m \u001b[0;36m2\u001b[0m\u001b[0;34m:\u001b[0m\u001b[0;34m\u001b[0m\u001b[0m\n\u001b[1;32m    272\u001b[0m             raise ValueError(\"x and y can be no greater than 2-D, but have \"\n",
      "\u001b[0;31mValueError\u001b[0m: x and y must have same first dimension, but have shapes (100, 1) and (10000, 1)"
     ]
    },
    {
     "data": {
      "image/png": "[encoded data removed]",
      "text/plain": [
       "<Figure size 1440x720 with 4 Axes>"
      ]
     },
     "metadata": {
      "needs_background": "light"
     },
     "output_type": "display_data"
    }
   ],
   "source": [
    "\"\"\"\n",
    "state_info is a list whose elements are tuples of information about the given state:\n",
    "        (Name (for df), estimated total votes, percentage_threshold)\n",
    "\"\"\"\n",
    "state_infos = [(\"Pennsylvania (EV: 20)\"  , int(7e+6)    , 0.90),\n",
    "               (\"Nevada (EV: 6)\"         , int(1.4e+6)  , 0.97),\n",
    "               (\"North Carolina (EV: 15)\", int(5.56e+6) , 0.99),\n",
    "               (\"Georgia (EV: 16)\"       , int(5.025e+6), 0.97)]\n",
    "\n",
    "plot_rows = int(np.ceil(len(state_infos) / 2))\n",
    "fig, ax = plt.subplots(plot_rows, 2, figsize=(20, 10))\n",
    "\n",
    "for i, state_info in enumerate(state_infos):\n",
    "    lin_model, df_tmp = state_df(df, *state_info)\n",
    "    plot_state(lin_model, df_tmp, ax[i//2, i%2], *state_info)\n",
    "    print(f'Estimated Biden lead at 100% votes counted in {state_info[0].split(\" (\")[0]:15s}: {-lin_model.predict(1.0) * 100}%')"
   ]
  },
  {
   "cell_type": "code",
   "execution_count": null,
   "metadata": {},
   "outputs": [],
   "source": []
  }
 ],
 "metadata": {
  "colab": {
   "collapsed_sections": [],
   "name": "Linear Regression: Trump vs Biden.ipynb",
   "provenance": []
  },
  "kernelspec": {
   "display_name": "Python 3",
   "language": "python",
   "name": "python3"
  },
  "language_info": {
   "codemirror_mode": {
    "name": "ipython",
    "version": 3
   },
   "file_extension": ".py",
   "mimetype": "text/x-python",
   "name": "python",
   "nbconvert_exporter": "python",
   "pygments_lexer": "ipython3",
   "version": "3.7.0"
  }
 },
 "nbformat": 4,
 "nbformat_minor": 1
}
